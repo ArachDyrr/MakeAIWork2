{
 "cells": [
  {
   "cell_type": "markdown",
   "source": [
    "# Def matrix_multiply (M1,M2)"
   ],
   "metadata": {
    "collapsed": false
   }
  },
  {
   "cell_type": "markdown",
   "source": [
    "1 checkt zijn het matrixen\n",
    "2 mag ik ze vermenigvuldigen\n",
    "3 return resultaat\n",
    "4 no numpy / chat GPT\n",
    "5 matrix is sublistinlists like  [[4,4,4][5,5,5][6,6,6]]\n"
   ],
   "metadata": {
    "collapsed": false
   }
  },
  {
   "cell_type": "code",
   "execution_count": 78,
   "outputs": [],
   "source": [
    "# %time ="
   ],
   "metadata": {
    "collapsed": false
   }
  },
  {
   "cell_type": "code",
   "execution_count": 79,
   "outputs": [],
   "source": [
    "def test(input_name):\n",
    "    return type(input_name), print(input_name)"
   ],
   "metadata": {
    "collapsed": false
   }
  },
  {
   "cell_type": "markdown",
   "source": [
    "Define matrix 1 and 2"
   ],
   "metadata": {
    "collapsed": false
   }
  },
  {
   "cell_type": "code",
   "execution_count": 112,
   "outputs": [
    {
     "name": "stdout",
     "output_type": "stream",
     "text": [
      "1\n"
     ]
    },
    {
     "data": {
      "text/plain": "(int, None)"
     },
     "execution_count": 112,
     "metadata": {},
     "output_type": "execute_result"
    }
   ],
   "source": [
    "# matrix_1 =[[1,2,3],[4,5,6]]\n",
    "# matrix_2 = [[1,2],[4,5],[6,7]]\n",
    "\n",
    "matrix_1 =[[1,2,3],[4,5,6],[7,8,9],[10,11,12]]\n",
    "matrix_2 = [[1,2,3,4],[5,6,7,8],[9,10,11,12]]\n",
    "\n",
    "\n",
    "test (matrix_1[0][0])"
   ],
   "metadata": {
    "collapsed": false
   }
  },
  {
   "cell_type": "code",
   "execution_count": 113,
   "outputs": [
    {
     "name": "stdout",
     "output_type": "stream",
     "text": [
      "[[1, 5, 9], [2, 6, 10], [3, 7, 11], [4, 8, 12]]\n"
     ]
    },
    {
     "data": {
      "text/plain": "(list, None)"
     },
     "execution_count": 113,
     "metadata": {},
     "output_type": "execute_result"
    }
   ],
   "source": [
    "matrix_2_tranposed=list(map(list, zip(*matrix_2)))\n",
    "test(matrix_2_tranposed)"
   ],
   "metadata": {
    "collapsed": false
   }
  },
  {
   "cell_type": "code",
   "execution_count": 114,
   "outputs": [
    {
     "name": "stdout",
     "output_type": "stream",
     "text": [
      "[[1, 2, 3], [4, 5, 6], [7, 8, 9], [10, 11, 12]]\n",
      "[[1, 5, 9], [2, 6, 10], [3, 7, 11], [4, 8, 12]]\n"
     ]
    }
   ],
   "source": [
    "print (matrix_1)\n",
    "print (matrix_2_tranposed)"
   ],
   "metadata": {
    "collapsed": false
   }
  },
  {
   "cell_type": "code",
   "execution_count": 121,
   "outputs": [
    {
     "name": "stdout",
     "output_type": "stream",
     "text": [
      "cel after multiplication is [1, 10, 27] added up it is 38\n",
      "cel after multiplication is [2, 12, 30] added up it is 44\n",
      "cel after multiplication is [3, 14, 33] added up it is 50\n",
      "cel after multiplication is [4, 25, 54] added up it is 83\n",
      "cel after multiplication is [8, 30, 60] added up it is 98\n",
      "cel after multiplication is [12, 35, 66] added up it is 113\n",
      "cel after multiplication is [7, 40, 81] added up it is 128\n",
      "cel after multiplication is [14, 48, 90] added up it is 152\n",
      "cel after multiplication is [21, 56, 99] added up it is 176\n",
      "cel after multiplication is [10, 55, 108] added up it is 173\n",
      "cel after multiplication is [20, 66, 120] added up it is 206\n",
      "cel after multiplication is [30, 77, 132] added up it is 239\n",
      "\n",
      "[[38, 44, 50], [83, 98, 113], [128, 152, 176], [173, 206, 239]]\n"
     ]
    },
    {
     "data": {
      "text/plain": "(list, None)"
     },
     "execution_count": 121,
     "metadata": {},
     "output_type": "execute_result"
    }
   ],
   "source": [
    "# sandbox to create cells\n",
    "\n",
    "\n",
    "def test_cel (cel_m,cel_s):\n",
    "    print(f'cel after multiplication is {cel_m} added up it is {cel_s}')\n",
    "\n",
    "# calculate individual cells\n",
    "cel1 =list(map(lambda x, y: x * y, matrix_1[0], matrix_2_tranposed[0]))\n",
    "cel1_s=sum(cel1)\n",
    "test_cel(cel1,cel1_s)\n",
    "cel2 =list(map(lambda x, y: x * y, matrix_1[0], matrix_2_tranposed[1]))\n",
    "cel2_s=sum(cel2)\n",
    "test_cel(cel2,cel2_s)\n",
    "cel3 =list(map(lambda x, y: x * y, matrix_1[0], matrix_2_tranposed[2]))\n",
    "cel3_s=sum(cel3)\n",
    "test_cel(cel3,cel3_s)\n",
    "cel4 =list(map(lambda x, y: x * y, matrix_1[1], matrix_2_tranposed[0]))\n",
    "cel4_s=sum(cel4)\n",
    "test_cel(cel4,cel4_s)\n",
    "cel5 =list(map(lambda x, y: x * y, matrix_1[1], matrix_2_tranposed[1]))\n",
    "cel5_s=sum(cel5)\n",
    "test_cel(cel5,cel5_s)\n",
    "cel6 =list(map(lambda x, y: x * y, matrix_1[1], matrix_2_tranposed[2]))\n",
    "cel6_s=sum(cel6)\n",
    "test_cel(cel6,cel6_s)\n",
    "cel7 =list(map(lambda x, y: x * y, matrix_1[2], matrix_2_tranposed[0]))\n",
    "cel7_s=sum(cel7)\n",
    "test_cel(cel7,cel7_s)\n",
    "cel8 =list(map(lambda x, y: x * y, matrix_1[2], matrix_2_tranposed[1]))\n",
    "cel8_s=sum(cel8)\n",
    "test_cel(cel8,cel8_s)\n",
    "cel9 =list(map(lambda x, y: x * y, matrix_1[2], matrix_2_tranposed[2]))\n",
    "cel9_s=sum(cel9)\n",
    "test_cel(cel9,cel9_s)\n",
    "cel10 =list(map(lambda x, y: x * y, matrix_1[3], matrix_2_tranposed[0]))\n",
    "cel10_s=sum(cel10)\n",
    "test_cel(cel10,cel10_s)\n",
    "cel11 =list(map(lambda x, y: x * y, matrix_1[3], matrix_2_tranposed[1]))\n",
    "cel11_s=sum(cel11)\n",
    "test_cel(cel11,cel11_s)\n",
    "cel12 =list(map(lambda x, y: x * y, matrix_1[3], matrix_2_tranposed[2]))\n",
    "cel12_s=sum(cel12)\n",
    "test_cel(cel12,cel12_s)\n",
    "\n",
    "# create list of lists for the product\n",
    "\n",
    "matrix_product2 = [[cel1_s,cel2_s,cel3_s],[cel4_s,cel5_s,cel6_s],[cel7_s,cel8_s,cel9_s],[cel10_s,cel11_s,cel12_s]]\n",
    "print()\n",
    "test(matrix_product2)"
   ],
   "metadata": {
    "collapsed": false
   }
  },
  {
   "cell_type": "code",
   "execution_count": 134,
   "outputs": [
    {
     "name": "stdout",
     "output_type": "stream",
     "text": [
      "cel after multiplication is [1, 10, 27] added up it is 38\n",
      "cel after multiplication is [2, 12, 30] added up it is 44\n",
      "cel after multiplication is [3, 14, 33] added up it is 50\n",
      "cel after multiplication is [4, 25, 54] added up it is 83\n",
      "cel after multiplication is [8, 30, 60] added up it is 98\n",
      "cel after multiplication is [12, 35, 66] added up it is 113\n",
      "cel after multiplication is [7, 40, 81] added up it is 128\n",
      "cel after multiplication is [14, 48, 90] added up it is 152\n",
      "cel after multiplication is [21, 56, 99] added up it is 176\n",
      "cel after multiplication is [10, 55, 108] added up it is 173\n",
      "cel after multiplication is [20, 66, 120] added up it is 206\n",
      "cel after multiplication is [30, 77, 132] added up it is 239\n",
      "\n",
      "[[38, 44, 50], [83, 98, 113], [128, 152, 176], [173, 206, 239]]\n"
     ]
    },
    {
     "data": {
      "text/plain": "(list, None)"
     },
     "execution_count": 134,
     "metadata": {},
     "output_type": "execute_result"
    }
   ],
   "source": [
    "# sandbox to create cells\n",
    "\n",
    "def test_cel(cel_m, cel_s):\n",
    "    print(f'cel after multiplication is {cel_m} added up it is {cel_s}')\n",
    "\n",
    "\n",
    "\n",
    "matrix_product = []\n",
    "for i in range(4):\n",
    "    row = []\n",
    "    for j in range(3):\n",
    "        cel = list(map(lambda x, y: x * y, matrix_1[i], matrix_2_tranposed[j]))\n",
    "        cel_s = sum(cel)\n",
    "        test_cel(cel, cel_s)\n",
    "        row.append(cel_s)\n",
    "    matrix_product.append(row)\n",
    "\n",
    "print()\n",
    "test(matrix_product)\n",
    "\n"
   ],
   "metadata": {
    "collapsed": false
   }
  },
  {
   "cell_type": "code",
   "execution_count": 141,
   "outputs": [
    {
     "name": "stdout",
     "output_type": "stream",
     "text": [
      "cel after multiplication is [1, 10, 27] added up it is 38\n",
      "cel after multiplication is [2, 12, 30] added up it is 44\n",
      "cel after multiplication is [3, 14, 33] added up it is 50\n",
      "cel after multiplication is [4, 25, 54] added up it is 83\n",
      "cel after multiplication is [8, 30, 60] added up it is 98\n",
      "cel after multiplication is [12, 35, 66] added up it is 113\n",
      "cel after multiplication is [7, 40, 81] added up it is 128\n",
      "cel after multiplication is [14, 48, 90] added up it is 152\n",
      "cel after multiplication is [21, 56, 99] added up it is 176\n",
      "cel after multiplication is [10, 55, 108] added up it is 173\n",
      "cel after multiplication is [20, 66, 120] added up it is 206\n",
      "cel after multiplication is [30, 77, 132] added up it is 239\n",
      "\n",
      "[[38, 44, 50], [83, 98, 113], [128, 152, 176], [173, 206, 239]]\n",
      "\n",
      "4\n",
      "3\n",
      "[[38, 44, 50], [83, 98, 113], [128, 152, 176], [173, 206, 239]]\n"
     ]
    },
    {
     "data": {
      "text/plain": "(list, None)"
     },
     "execution_count": 141,
     "metadata": {},
     "output_type": "execute_result"
    }
   ],
   "source": [
    "# sandbox to create cells\n",
    "m1=matrix_1\n",
    "m2=matrix_2\n",
    "m1l=len(matrix_1)\n",
    "m2l=len(matrix_2)\n",
    "m2t=list(map(list, zip(*m2)))\n",
    "\n",
    "def test_cel(cel_m, cel_s):\n",
    "    print(f'cel after multiplication is {cel_m} added up it is {cel_s}')\n",
    "\n",
    "# sandbox to create cells\n",
    "\n",
    "def test_cel(cel_m, cel_s):\n",
    "    print(f'cel after multiplication is {cel_m} added up it is {cel_s}')\n",
    "\n",
    "matrix_product3 = []\n",
    "for i in range(len(m1)):\n",
    "    row = []\n",
    "    for j in range(len(m2)):\n",
    "        cel = list(map(lambda x, y: x * y, m1[i], m2t[j]))\n",
    "        cel_s = sum(cel)\n",
    "        test_cel(cel, cel_s)\n",
    "        row.append(cel_s)\n",
    "    matrix_product3.append(row)\n",
    "\n",
    "print()\n",
    "test(matrix_product3)\n",
    "\n",
    "\n",
    "print()\n",
    "print(m1l)\n",
    "print(m2l)\n",
    "test(matrix_product3)\n"
   ],
   "metadata": {
    "collapsed": false
   }
  },
  {
   "cell_type": "code",
   "execution_count": 142,
   "outputs": [
    {
     "name": "stdout",
     "output_type": "stream",
     "text": [
      "\n",
      "[[38, 44, 50], [83, 98, 113], [128, 152, 176], [173, 206, 239]]\n"
     ]
    },
    {
     "data": {
      "text/plain": "(list, None)"
     },
     "execution_count": 142,
     "metadata": {},
     "output_type": "execute_result"
    }
   ],
   "source": [
    "# sandbox to create cells\n",
    "m1=matrix_1\n",
    "m2=matrix_2\n",
    "\n",
    "# transpose matrix_2\n",
    "m2t=list(map(list, zip(*m2)))\n",
    "\n",
    "# create the new matrix for the multiplication result\n",
    "m3 = []\n",
    "\n",
    "# cycle true the matrixes to calculate the cells for m3 row by row and add them to the new matrix\n",
    "for i in range(len(m1)):\n",
    "    row = []\n",
    "    for j in range(len(m2)):\n",
    "        cel = list(map(lambda x, y: x * y, m1[i], m2t[j]))\n",
    "        cel_s = sum(cel)\n",
    "        row.append(cel_s)\n",
    "    m3.append(row)\n",
    "\n",
    "print()\n",
    "test(m3)\n",
    "\n",
    "\n"
   ],
   "metadata": {
    "collapsed": false
   }
  },
  {
   "cell_type": "markdown",
   "source": [
    "create a function of the above"
   ],
   "metadata": {
    "collapsed": false
   }
  },
  {
   "cell_type": "code",
   "execution_count": 146,
   "outputs": [
    {
     "name": "stdout",
     "output_type": "stream",
     "text": [
      "[[38, 44, 50], [83, 98, 113], [128, 152, 176], [173, 206, 239]]\n"
     ]
    }
   ],
   "source": [
    "def matrix_multiply_result  (m1,m2):\n",
    "    # transpose matrix_2\n",
    "    m2t=list(map(list, zip(*m2)))\n",
    "\n",
    "    # create the new matrix for the multiplication result\n",
    "    m3 = []\n",
    "\n",
    "    # cycle true the matrixes to calculate the cells for m3 row by row and add them to the new matrix\n",
    "    for i in range(len(m1)):\n",
    "        row = []\n",
    "        for j in range(len(m2)):\n",
    "            cel = list(map(lambda x, y: x * y, m1[i], m2t[j]))\n",
    "            cel_s = sum(cel)\n",
    "            row.append(cel_s)\n",
    "        m3.append(row)\n",
    "\n",
    "    return m3\n",
    "\n",
    "print (matrix_multiply_result(matrix_1,matrix_2))"
   ],
   "metadata": {
    "collapsed": false
   }
  },
  {
   "cell_type": "code",
   "execution_count": 149,
   "outputs": [
    {
     "data": {
      "text/plain": "True"
     },
     "execution_count": 149,
     "metadata": {},
     "output_type": "execute_result"
    }
   ],
   "source": [
    "#check the shape of a matrix. see if all the rows have the same number of items. return true or false\n",
    "def shape_check(matrix):\n",
    "    row_nr =0\n",
    "    base_row_length = len(matrix[0])\n",
    "    for item in matrix:\n",
    "        rows_col =  len(matrix[row_nr])\n",
    "        if base_row_length != rows_col:\n",
    "            print(f'Error in {matrix} {item}')\n",
    "            return False\n",
    "        row_nr += 1\n",
    "    return True\n",
    "\n",
    "shape_check(matrix_1)"
   ],
   "metadata": {
    "collapsed": false
   }
  },
  {
   "cell_type": "code",
   "execution_count": null,
   "outputs": [],
   "source": [
    "# multiplication allowed?\n",
    "# multiplication is allowed if n is equal in the multiplication formule. (m*n)*(n*p)=(m*p)\n",
    "\n",
    "# check if both lists of lists have the proper shape to be a matrix.\n",
    "shape_check_both_matrixes = shape_check(m1) == shape_check(m2) == True\n",
    "# check to test if the amount of columns in matrix 1 is equal to the amount of rows in matrix 2\n",
    "formula_persmission_multiply_matrixes =  len(m1[0]) == len(m2)\n",
    "# check if both checks are true.\n",
    "persmission_multiply_matrixes = shape_check_both_matrixes == formula_persmission_multiply_matrixes"
   ],
   "metadata": {
    "collapsed": false
   }
  },
  {
   "cell_type": "markdown",
   "source": [],
   "metadata": {
    "collapsed": false
   }
  },
  {
   "cell_type": "markdown",
   "source": [
    "# add the above 3 together in one .\n"
   ],
   "metadata": {
    "collapsed": false
   }
  },
  {
   "cell_type": "code",
   "execution_count": 159,
   "outputs": [
    {
     "name": "stdout",
     "output_type": "stream",
     "text": [
      "[[38, 44, 50], [83, 98, 113], [128, 152, 176], [173, 206, 239]]\n"
     ]
    }
   ],
   "source": [
    "def shape_check(matrix):\n",
    "    row_nr =0\n",
    "    base_row_length = len(matrix[0])\n",
    "    for item in matrix:\n",
    "        rows_col =  len(matrix[row_nr])\n",
    "        if base_row_length != rows_col:\n",
    "            print(f'Error in {matrix} {item}')\n",
    "            return False\n",
    "        row_nr += 1\n",
    "    return True\n",
    "\n",
    "def matrix_multiply_result  (m1,m2):\n",
    "    # transpose matrix_2\n",
    "    m2t=list(map(list, zip(*m2)))\n",
    "\n",
    "    # create the new matrix for the multiplication result\n",
    "    m3 = []\n",
    "\n",
    "    # cycle true the matrixes to calculate the cells for m3 row by row and add them to the new matrix\n",
    "    for i in range(len(m1)):\n",
    "        row = []\n",
    "        for j in range(len(m2)):\n",
    "            cel = list(map(lambda x, y: x * y, m1[i], m2t[j]))\n",
    "            cel_s = sum(cel)\n",
    "            row.append(cel_s)\n",
    "        m3.append(row)\n",
    "\n",
    "    return m3\n",
    "\n",
    "def persmission_multiply_matrixes(mat1,mat2):\n",
    "    # multiplication allowed?\n",
    "    # multiplication is allowed if n is equal in the multiplication formule. (m*n)*(n*p)=(m*p)\n",
    "\n",
    "    # check if both lists of lists have the proper shape to be a matrix.\n",
    "    shape_check_both_matrixes = shape_check(mat1) == shape_check(mat2) == True\n",
    "    # check to test if the amount of columns in matrix 1 is equal to the amount of rows in matrix 2\n",
    "    formula_persmission_multiply_matrixes =  len(mat1[0]) == len(mat2)\n",
    "    # check if both checks are true.\n",
    "    return shape_check_both_matrixes == formula_persmission_multiply_matrixes\n",
    "\n",
    "def matrix_multiply (m1,m2):\n",
    "    if not persmission_multiply_matrixes(m1,m2):\n",
    "        return print('ERROR')\n",
    "    else:\n",
    "        return matrix_multiply_result(m1,m2)\n",
    "\n",
    "\n",
    "print (matrix_multiply(matrix_1,matrix_2))\n",
    "\n",
    "\n"
   ],
   "metadata": {
    "collapsed": false
   }
  },
  {
   "cell_type": "markdown",
   "source": [
    "Check to see if a list of lists is valid to be used for matrix multiplications."
   ],
   "metadata": {
    "collapsed": false
   }
  },
  {
   "cell_type": "markdown",
   "source": [
    "shape function"
   ],
   "metadata": {
    "collapsed": false
   }
  },
  {
   "cell_type": "markdown",
   "source": [],
   "metadata": {
    "collapsed": false
   }
  },
  {
   "cell_type": "markdown",
   "source": [
    "multiplication allowed?\n",
    "multiplication is allowed if n is equal in the multiplication formule. (m*n)*(n*p)=(m*p)\n",
    "\n"
   ],
   "metadata": {
    "collapsed": false
   }
  },
  {
   "cell_type": "code",
   "execution_count": null,
   "outputs": [],
   "source": [
    "\n",
    "test(persmission_multiply_matrixes)\n"
   ],
   "metadata": {
    "collapsed": false
   }
  },
  {
   "cell_type": "code",
   "execution_count": null,
   "outputs": [],
   "source": [
    "matrix_reply = []\n",
    "test (matrix_reply)"
   ],
   "metadata": {
    "collapsed": false
   }
  },
  {
   "cell_type": "code",
   "execution_count": null,
   "outputs": [],
   "source": [
    "# matrix_1 = [[1,2,3],[4,5,6],[7,8,9]]\n",
    "# matrix_2_tranposed =[[1,5,9],[2,6,10],[3,7,11],[4,8,12]]\n",
    "# matrix_1 = [[1,2,3],[4,5,6]]#,[7,8,9]]\n",
    "# matrix_2_tranposed =[[1,5,9],[2,6,10]]#,[3,7,11],[4,8,12]]\n",
    "# matrix_1 = [[1,2,3]]#,[4,5,6],[7,8,9]]\n",
    "# matrix_2_tranposed =[[1,5,9]]#,[2,6,10],[3,7,11],[4,8,12]]"
   ],
   "metadata": {
    "collapsed": false
   }
  },
  {
   "cell_type": "markdown",
   "source": [
    "zit nog een rekenfout in de matrix_reply\n",
    "en dus in de functie"
   ],
   "metadata": {
    "collapsed": false
   }
  },
  {
   "cell_type": "code",
   "execution_count": null,
   "outputs": [],
   "source": [
    "# matrix_reply=[[sum(x * y for x, y in zip(matrix_1[0], matrix_2_tranposed[0])) for matrix_2_tranposed[0] in matrix_2_tranposed] for matrix_1[0] in matrix_1]\n",
    "# test(matrix_reply)"
   ],
   "metadata": {
    "collapsed": false
   }
  },
  {
   "cell_type": "code",
   "execution_count": 103,
   "outputs": [
    {
     "data": {
      "text/plain": "[[27, 33], [75, 75]]"
     },
     "execution_count": 103,
     "metadata": {},
     "output_type": "execute_result"
    }
   ],
   "source": [
    "def matrix_multiply (m1,m2):\n",
    "    # check if both lists of lists have the proper shape to be a matrix.\n",
    "    shape_check_both_matrixes = shape_check(m1) == shape_check(m2) == True\n",
    "    # check to test if the amount of columns in matrix 1 is equal to the amount of rows in matrix 2\n",
    "    formula_persmission_multiply_matrixes =  len(m1[0]) == len(m2)\n",
    "    # check if both checks are true.\n",
    "    persmission_multiply_matrixes = shape_check_both_matrixes == formula_persmission_multiply_matrixes\n",
    "    # return an error is no valid matrix multiplication is possible.\n",
    "    if not persmission_multiply_matrixes:\n",
    "        return print('ERROR')\n",
    "    else:\n",
    "        m2_tranposed=list(map(list, zip(*m2)))\n",
    "        return [[sum(x * y for x, y in zip(m1[0], m2_tranposed[0])) for m2_tranposed[0] in m2_tranposed] for m1[0] in m1]\n",
    "\n",
    "\n",
    "matrix_multiply(matrix_1,matrix_2)"
   ],
   "metadata": {
    "collapsed": false
   }
  },
  {
   "cell_type": "markdown",
   "source": [
    "# test meuk hieronder\n"
   ],
   "metadata": {
    "collapsed": false
   }
  },
  {
   "cell_type": "markdown",
   "source": [
    "stackoverflow part of solutiuon"
   ],
   "metadata": {
    "collapsed": false
   }
  },
  {
   "cell_type": "markdown",
   "source": [
    "https://stackoverflow.com/questions/31391061/python-how-do-i-multiply-and-sum-elements-across-two-lists-without-using-a-lib"
   ],
   "metadata": {
    "collapsed": false
   }
  },
  {
   "cell_type": "code",
   "execution_count": null,
   "outputs": [],
   "source": [
    "# m1 = [[1, 2, 3], [4, 5, 6]]\n",
    "# m2 = [[7, 9, 2], [8, 1, 3]]"
   ],
   "metadata": {
    "collapsed": false
   }
  },
  {
   "cell_type": "code",
   "execution_count": null,
   "outputs": [],
   "source": [
    "# item1 = [1, 2, 3]\n",
    "# item2 = [7, 9, 2]\n",
    "# zip(item1, item2)                        # ==> [(1, 7), (2, 9), (3, 2)]\n",
    "# [x * y for x, y in zip(item1, item2)]    # ==> [7, 18, 6]\n",
    "# sum(x * y for x, y in zip(item1, item2)) # ==> 31"
   ],
   "metadata": {
    "collapsed": false
   }
  },
  {
   "cell_type": "code",
   "execution_count": null,
   "outputs": [],
   "source": [
    "# [[sum(x * y for x, y in zip(item1, item2)) for item2 in m2] for item1 in m1]\n",
    "# # ==> [[31, 19], [85, 55]]"
   ],
   "metadata": {
    "collapsed": false
   }
  },
  {
   "cell_type": "code",
   "execution_count": null,
   "outputs": [],
   "source": [
    "blerg = matrix_1[0]\n",
    "test(blerg)"
   ],
   "metadata": {
    "collapsed": false
   }
  },
  {
   "cell_type": "code",
   "execution_count": null,
   "outputs": [],
   "source": [
    "testting = sum ([1,2])\n",
    "test(testting)"
   ],
   "metadata": {
    "collapsed": false
   }
  },
  {
   "cell_type": "code",
   "execution_count": null,
   "outputs": [],
   "source": [
    "# Initializing two lists\n",
    "test_list1 = [1, 3, 4, 6, 8]\n",
    "test_list2 = [4, 5, 6, 2, 10]\n",
    "\n",
    "# Using map and lambda function to multiply two lists element-wise\n",
    "res_list = list(map(lambda x, y: x * y, test_list1, test_list2))\n",
    "\n",
    "# Printing the resultant list\n",
    "print(\"Resultant list is : \" + str(res_list))"
   ],
   "metadata": {
    "collapsed": false
   }
  },
  {
   "cell_type": "code",
   "execution_count": null,
   "outputs": [],
   "source": [],
   "metadata": {
    "collapsed": false
   }
  }
 ],
 "metadata": {
  "kernelspec": {
   "display_name": "Python 3",
   "language": "python",
   "name": "python3"
  },
  "language_info": {
   "codemirror_mode": {
    "name": "ipython",
    "version": 2
   },
   "file_extension": ".py",
   "mimetype": "text/x-python",
   "name": "python",
   "nbconvert_exporter": "python",
   "pygments_lexer": "ipython2",
   "version": "2.7.6"
  }
 },
 "nbformat": 4,
 "nbformat_minor": 0
}
