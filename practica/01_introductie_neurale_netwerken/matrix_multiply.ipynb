{
 "cells": [
  {
   "cell_type": "markdown",
   "source": [
    "# Def matrix_multiply (M1,M2)"
   ],
   "metadata": {
    "collapsed": false
   }
  },
  {
   "cell_type": "markdown",
   "source": [
    "1 checkt zijn het matrixen\n",
    "2 mag ik ze vermenigvuldigen\n",
    "3 return resultaat\n",
    "4 no numpy / chat GPT\n",
    "5 matrix is sublistinlists like  [[4,4,4][5,5,5][6,6,6]]\n"
   ],
   "metadata": {
    "collapsed": false
   }
  },
  {
   "cell_type": "code",
   "execution_count": 171,
   "outputs": [],
   "source": [
    "# %time ="
   ],
   "metadata": {
    "collapsed": false
   }
  },
  {
   "cell_type": "code",
   "execution_count": 172,
   "outputs": [],
   "source": [
    "def test(input_name):\n",
    "    return type(input_name), print(input_name)"
   ],
   "metadata": {
    "collapsed": false
   }
  },
  {
   "cell_type": "markdown",
   "source": [
    "Define matrix 1 and 2"
   ],
   "metadata": {
    "collapsed": false
   }
  },
  {
   "cell_type": "code",
   "execution_count": 192,
   "outputs": [
    {
     "name": "stdout",
     "output_type": "stream",
     "text": [
      "3\n"
     ]
    },
    {
     "data": {
      "text/plain": "(int, None)"
     },
     "execution_count": 192,
     "metadata": {},
     "output_type": "execute_result"
    }
   ],
   "source": [
    "# matrix_1 =[[1,2,3],[4,5,6],[7,8,9]]\n",
    "# matrix_2 = [[1,2,3,4],[5,6,7,8],[9,10,11,12]]\n",
    "\n",
    "matrix_1 =[[1,2,3],[4,5,6],[7,8,9],[10,11,12]]\n",
    "matrix_2 = [[1,2,3,4,1],[5,6,7,8,2],[9,10,11,12,3]]\n",
    "\n",
    "\n",
    "test (matrix_1[0][2])"
   ],
   "metadata": {
    "collapsed": false
   }
  },
  {
   "cell_type": "code",
   "execution_count": 193,
   "outputs": [
    {
     "name": "stdout",
     "output_type": "stream",
     "text": [
      "[[1, 5, 9], [2, 6, 10], [3, 7, 11], [4, 8, 12], [1, 2, 3]]\n"
     ]
    },
    {
     "data": {
      "text/plain": "(list, None)"
     },
     "execution_count": 193,
     "metadata": {},
     "output_type": "execute_result"
    }
   ],
   "source": [
    "matrix_2_tranposed=list(map(list, zip(*matrix_2)))\n",
    "test(matrix_2_tranposed)"
   ],
   "metadata": {
    "collapsed": false
   }
  },
  {
   "cell_type": "markdown",
   "source": [
    "Check to see if a list of lists is valid to be used for matrix multiplications."
   ],
   "metadata": {
    "collapsed": false
   }
  },
  {
   "cell_type": "markdown",
   "source": [
    "shape function"
   ],
   "metadata": {
    "collapsed": false
   }
  },
  {
   "cell_type": "code",
   "execution_count": 194,
   "outputs": [],
   "source": [
    "def shape_check(matrix):\n",
    "    row_nr =0\n",
    "    base_row_length = len(matrix[0])\n",
    "    for item in matrix:\n",
    "        rows_col =  len(matrix[row_nr])\n",
    "        if base_row_length != rows_col:\n",
    "            print(f'Error in {matrix} {item}')\n",
    "            return False\n",
    "        row_nr += 1\n",
    "    return True"
   ],
   "metadata": {
    "collapsed": false
   }
  },
  {
   "cell_type": "code",
   "execution_count": 195,
   "outputs": [
    {
     "data": {
      "text/plain": "True"
     },
     "execution_count": 195,
     "metadata": {},
     "output_type": "execute_result"
    }
   ],
   "source": [
    "shape_check(matrix_2)"
   ],
   "metadata": {
    "collapsed": false
   }
  },
  {
   "cell_type": "markdown",
   "source": [],
   "metadata": {
    "collapsed": false
   }
  },
  {
   "cell_type": "markdown",
   "source": [
    "multiplication allowed?\n",
    "multiplication is allowed if n is equal in the multiplication formule. (m*n)*(n*p)=(m*p)\n",
    "\n"
   ],
   "metadata": {
    "collapsed": false
   }
  },
  {
   "cell_type": "code",
   "execution_count": 196,
   "outputs": [],
   "source": [
    "# check if both lists of lists have the proper shape to be a matrix.\n",
    "shape_check_both_matrixes = shape_check(matrix_1) == shape_check(matrix_2) == True\n",
    "# check to test if the amount of columns in matrix 1 is equal to the amount of rows in matrix 2\n",
    "formula_persmission_multiply_matrixes =  len(matrix_1[0]) == len(matrix_2)\n",
    "# check if both checks are true.\n",
    "persmission_multiply_matrixes = shape_check_both_matrixes == formula_persmission_multiply_matrixes"
   ],
   "metadata": {
    "collapsed": false
   }
  },
  {
   "cell_type": "code",
   "execution_count": 197,
   "outputs": [
    {
     "name": "stdout",
     "output_type": "stream",
     "text": [
      "True\n"
     ]
    },
    {
     "data": {
      "text/plain": "(bool, None)"
     },
     "execution_count": 197,
     "metadata": {},
     "output_type": "execute_result"
    }
   ],
   "source": [
    "\n",
    "test(persmission_multiply_matrixes)\n"
   ],
   "metadata": {
    "collapsed": false
   }
  },
  {
   "cell_type": "code",
   "execution_count": 198,
   "outputs": [
    {
     "name": "stdout",
     "output_type": "stream",
     "text": [
      "[]\n"
     ]
    },
    {
     "data": {
      "text/plain": "(list, None)"
     },
     "execution_count": 198,
     "metadata": {},
     "output_type": "execute_result"
    }
   ],
   "source": [
    "matrix_reply = []\n",
    "test (matrix_reply)"
   ],
   "metadata": {
    "collapsed": false
   }
  },
  {
   "cell_type": "code",
   "execution_count": 199,
   "outputs": [],
   "source": [
    "# matrix_1 = [[1,2,3],[4,5,6],[7,8,9]]\n",
    "# matrix_2_tranposed =[[1,5,9],[2,6,10],[3,7,11],[4,8,12]]\n",
    "# matrix_1 = [[1,2,3],[4,5,6]]#,[7,8,9]]\n",
    "# matrix_2_tranposed =[[1,5,9],[2,6,10]]#,[3,7,11],[4,8,12]]\n",
    "# matrix_1 = [[1,2,3]]#,[4,5,6],[7,8,9]]\n",
    "# matrix_2_tranposed =[[1,5,9]]#,[2,6,10],[3,7,11],[4,8,12]]"
   ],
   "metadata": {
    "collapsed": false
   }
  },
  {
   "cell_type": "markdown",
   "source": [
    "zit nog een rekenfout in de matrix_reply\n",
    "en dus in de functie"
   ],
   "metadata": {
    "collapsed": false
   }
  },
  {
   "cell_type": "code",
   "execution_count": 200,
   "outputs": [
    {
     "name": "stdout",
     "output_type": "stream",
     "text": [
      "[[38, 44, 50, 56, 14], [32, 98, 113, 128, 32], [50, 152, 176, 200, 50], [68, 206, 239, 272, 68]]\n"
     ]
    },
    {
     "data": {
      "text/plain": "(list, None)"
     },
     "execution_count": 200,
     "metadata": {},
     "output_type": "execute_result"
    }
   ],
   "source": [
    "matrix_reply=[[sum(x * y for x, y in zip(matrix_1[0], matrix_2_tranposed[0])) for matrix_2_tranposed[0] in matrix_2_tranposed] for matrix_1[0] in matrix_1]\n",
    "test(matrix_reply)"
   ],
   "metadata": {
    "collapsed": false
   }
  },
  {
   "cell_type": "code",
   "execution_count": 207,
   "outputs": [
    {
     "data": {
      "text/plain": "[[173, 206, 239, 272, 68],\n [32, 98, 113, 128, 32],\n [50, 152, 176, 200, 50],\n [68, 206, 239, 272, 68]]"
     },
     "execution_count": 207,
     "metadata": {},
     "output_type": "execute_result"
    }
   ],
   "source": [
    "def matrix_multiply (matrix_1,matrix_2):\n",
    "    # check if both lists of lists have the proper shape to be a matrix.\n",
    "    shape_check_both_matrixes = shape_check(matrix_1) == shape_check(matrix_2) == True\n",
    "    # check to test if the amount of columns in matrix 1 is equal to the amount of rows in matrix 2\n",
    "    formula_persmission_multiply_matrixes =  len(matrix_1[0]) == len(matrix_2)\n",
    "    # check if both checks are true.\n",
    "    persmission_multiply_matrixes = shape_check_both_matrixes == formula_persmission_multiply_matrixes\n",
    "    # return an error is no valid matrix multiplication is possible.\n",
    "    if not persmission_multiply_matrixes:\n",
    "        return print('ERROR')\n",
    "    else:\n",
    "        matrix_2_tranposed=list(map(list, zip(*matrix_2)))\n",
    "        return [[sum(x * y for x, y in zip(matrix_1[0], matrix_2_tranposed[0])) for matrix_2_tranposed[0] in matrix_2_tranposed] for matrix_1[0] in matrix_1]\n",
    "\n",
    "\n",
    "matrix_multiply(matrix_1,matrix_2)"
   ],
   "metadata": {
    "collapsed": false
   }
  },
  {
   "cell_type": "markdown",
   "source": [
    "# test meuk hieronder\n"
   ],
   "metadata": {
    "collapsed": false
   }
  },
  {
   "cell_type": "markdown",
   "source": [
    "stackoverflow part of solutiuon"
   ],
   "metadata": {
    "collapsed": false
   }
  },
  {
   "cell_type": "markdown",
   "source": [
    "https://stackoverflow.com/questions/31391061/python-how-do-i-multiply-and-sum-elements-across-two-lists-without-using-a-lib"
   ],
   "metadata": {
    "collapsed": false
   }
  },
  {
   "cell_type": "code",
   "execution_count": 181,
   "outputs": [],
   "source": [
    "# m1 = [[1, 2, 3], [4, 5, 6]]\n",
    "# m2 = [[7, 9, 2], [8, 1, 3]]"
   ],
   "metadata": {
    "collapsed": false
   }
  },
  {
   "cell_type": "code",
   "execution_count": 182,
   "outputs": [],
   "source": [
    "# item1 = [1, 2, 3]\n",
    "# item2 = [7, 9, 2]\n",
    "# zip(item1, item2)                        # ==> [(1, 7), (2, 9), (3, 2)]\n",
    "# [x * y for x, y in zip(item1, item2)]    # ==> [7, 18, 6]\n",
    "# sum(x * y for x, y in zip(item1, item2)) # ==> 31"
   ],
   "metadata": {
    "collapsed": false
   }
  },
  {
   "cell_type": "code",
   "execution_count": 183,
   "outputs": [],
   "source": [
    "# [[sum(x * y for x, y in zip(item1, item2)) for item2 in m2] for item1 in m1]\n",
    "# # ==> [[31, 19], [85, 55]]"
   ],
   "metadata": {
    "collapsed": false
   }
  }
 ],
 "metadata": {
  "kernelspec": {
   "display_name": "Python 3",
   "language": "python",
   "name": "python3"
  },
  "language_info": {
   "codemirror_mode": {
    "name": "ipython",
    "version": 2
   },
   "file_extension": ".py",
   "mimetype": "text/x-python",
   "name": "python",
   "nbconvert_exporter": "python",
   "pygments_lexer": "ipython2",
   "version": "2.7.6"
  }
 },
 "nbformat": 4,
 "nbformat_minor": 0
}
