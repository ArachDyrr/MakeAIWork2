{
 "cells": [
  {
   "cell_type": "markdown",
   "source": [
    "# Def matrix_multiply (M1,M2)"
   ],
   "metadata": {
    "collapsed": false
   }
  },
  {
   "cell_type": "markdown",
   "source": [
    "1 checkt zijn het matrixen\n",
    "2 mag ik ze vermenigvuldigen\n",
    "3 return resultaat\n",
    "4 no numpy / chat GPT\n",
    "5 matrix is sublistinlists like  [[4,4,4][5,5,5][6,6,6]]\n"
   ],
   "metadata": {
    "collapsed": false
   }
  },
  {
   "cell_type": "markdown",
   "source": [
    "Define matrix 1 and 2"
   ],
   "metadata": {
    "collapsed": false
   }
  },
  {
   "cell_type": "code",
   "execution_count": 2,
   "outputs": [],
   "source": [
    "# Define matrix 1 and 2 for test use in this file\n",
    "\n",
    "# matrix_1 =[[1,2,3],[4,5,6]]\n",
    "# matrix_2 = [[1,2],[4,5],[6,7]]\n",
    "\n",
    "matrix_1 =[[1,2,3],[4,5,6],[7,8,9],[10,11,12]]\n",
    "matrix_2 = [[1,2,3,4],[5,6,7,8],[9,10,11,12]]\n",
    "\n",
    "\n",
    "# print (matrix_1)"
   ],
   "metadata": {
    "collapsed": false
   }
  },
  {
   "cell_type": "code",
   "execution_count": 4,
   "outputs": [],
   "source": [
    "# create the check to see if teh matrix has the same amount of items per row\n",
    "\n",
    "def shape_check(matrix):\n",
    "    row_nr =0\n",
    "    base_row_length = len(matrix[0])\n",
    "    for item in matrix:\n",
    "        rows_col =  len(matrix[row_nr])\n",
    "        if base_row_length != rows_col:\n",
    "            print(f'Error in {matrix} {item}')\n",
    "            return False\n",
    "        row_nr += 1\n",
    "    return True\n",
    "\n",
    "# print(shape_check(matrix_2))"
   ],
   "metadata": {
    "collapsed": false
   }
  },
  {
   "cell_type": "code",
   "execution_count": 0,
   "outputs": [],
   "source": [
    "# create the function to see if matrixes may be multiplied\n",
    "\n",
    "def persmission_multiply_matrixes(mat1,mat2):\n",
    "    # multiplication allowed?\n",
    "    # multiplication is allowed if n is equal in the multiplication formule. (m*n)*(n*p)=(m*p)\n",
    "\n",
    "    # check if both lists of lists have the proper shape to be a matrix.\n",
    "    shape_check_both_matrixes = shape_check(mat1) == shape_check(mat2) == True\n",
    "    # check to test if the amount of columns in matrix 1 is equal to the amount of rows in matrix 2\n",
    "    formula_persmission_multiply_matrixes =  len(mat1[0]) == len(mat2)\n",
    "    # check if both checks are true.\n",
    "    return shape_check_both_matrixes == formula_persmission_multiply_matrixes\n",
    "\n",
    "# print (persmission_multiply_matrixes(matrix_1,matrix_2))"
   ],
   "metadata": {
    "collapsed": false
   }
  },
  {
   "cell_type": "code",
   "execution_count": 0,
   "outputs": [],
   "source": [
    "# create the function to multiply the 2 matrixes\n",
    "\n",
    "def matrix_multiply_result  (m1,m2):\n",
    "    # transpose matrix_2\n",
    "    m2t=list(map(list, zip(*m2)))\n",
    "\n",
    "    # create the new matrix for the multiplication result\n",
    "    m3 = []\n",
    "\n",
    "    # cycle true the matrixes to calculate the cells for m3 row by row and add them to the new matrix\n",
    "    for i in range(len(m1)):\n",
    "        row = []\n",
    "        for j in range(len(m2)):\n",
    "            cel = list(map(lambda x, y: x * y, m1[i], m2t[j]))\n",
    "            cel_s = sum(cel)\n",
    "            row.append(cel_s)\n",
    "        m3.append(row)\n",
    "\n",
    "    return m3\n",
    "\n",
    "# print (matrix_multiply_result(matrix_1,matrix_2))"
   ],
   "metadata": {
    "collapsed": false
   }
  },
  {
   "cell_type": "code",
   "execution_count": 6,
   "outputs": [],
   "source": [
    "# the function that multiples two matrixes profided they comply to the prerequisits.\n",
    "\n",
    "def matrix_multiply (m1,m2):\n",
    "    if not persmission_multiply_matrixes(m1,m2):\n",
    "        return print('ERROR')\n",
    "    else:\n",
    "        return matrix_multiply_result(m1,m2)\n",
    "\n",
    "# print (matrix_multiply(matrix_1,matrix_2))"
   ],
   "metadata": {
    "collapsed": false
   }
  },
  {
   "cell_type": "markdown",
   "source": [],
   "metadata": {
    "collapsed": false
   }
  }
 ],
 "metadata": {
  "kernelspec": {
   "display_name": "Python 3",
   "language": "python",
   "name": "python3"
  },
  "language_info": {
   "codemirror_mode": {
    "name": "ipython",
    "version": 2
   },
   "file_extension": ".py",
   "mimetype": "text/x-python",
   "name": "python",
   "nbconvert_exporter": "python",
   "pygments_lexer": "ipython2",
   "version": "2.7.6"
  }
 },
 "nbformat": 4,
 "nbformat_minor": 0
}
