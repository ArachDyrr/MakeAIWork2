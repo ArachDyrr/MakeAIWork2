{
 "cells": [
  {
   "cell_type": "markdown",
   "source": [
    "# Def matrix_multiply (M1,M2)"
   ],
   "metadata": {
    "collapsed": false
   }
  },
  {
   "cell_type": "markdown",
   "source": [
    "1 checkt zijn het matrixen\n",
    "2 mag ik ze vermenigvuldigen\n",
    "3 return resultaat\n",
    "4 no numpy / chat GPT\n",
    "5 matrix is sublistinlist [[4,4,4][5,5,5][6,6,6]]\n"
   ],
   "metadata": {
    "collapsed": false
   }
  },
  {
   "cell_type": "code",
   "execution_count": 1,
   "outputs": [
    {
     "ename": "SyntaxError",
     "evalue": "invalid syntax (<unknown>, line 1)",
     "output_type": "error",
     "traceback": [
      "Traceback \u001B[0;36m(most recent call last)\u001B[0m:\n",
      "\u001B[0m  File \u001B[1;32m~/miniconda3/envs/miw2/lib/python3.10/site-packages/IPython/core/interactiveshell.py:3460\u001B[0m in \u001B[1;35mrun_code\u001B[0m\n    exec(code_obj, self.user_global_ns, self.user_ns)\u001B[0m\n",
      "\u001B[0m  Cell \u001B[1;32mIn[1], line 1\u001B[0m\n    get_ipython().run_line_magic('time', '=')\u001B[0m\n",
      "\u001B[0m  File \u001B[1;32m~/miniconda3/envs/miw2/lib/python3.10/site-packages/IPython/core/interactiveshell.py:2369\u001B[0m in \u001B[1;35mrun_line_magic\u001B[0m\n    result = fn(*args, **kwargs)\u001B[0m\n",
      "\u001B[0m  File \u001B[1;32m~/miniconda3/envs/miw2/lib/python3.10/site-packages/IPython/core/magics/execution.py:1275\u001B[0m in \u001B[1;35mtime\u001B[0m\n    expr_ast = self.shell.compile.ast_parse(expr)\u001B[0m\n",
      "\u001B[0;36m  File \u001B[0;32m~/miniconda3/envs/miw2/lib/python3.10/site-packages/IPython/core/compilerop.py:86\u001B[0;36m in \u001B[0;35mast_parse\u001B[0;36m\n\u001B[0;31m    return compile(source, filename, symbol, self.flags | PyCF_ONLY_AST, 1)\u001B[0;36m\n",
      "\u001B[0;36m  File \u001B[0;32m<unknown>:1\u001B[0;36m\u001B[0m\n\u001B[0;31m    =\u001B[0m\n\u001B[0m    ^\u001B[0m\n\u001B[0;31mSyntaxError\u001B[0m\u001B[0;31m:\u001B[0m invalid syntax\n"
     ]
    }
   ],
   "source": [
    "%time ="
   ],
   "metadata": {
    "collapsed": false
   }
  },
  {
   "cell_type": "code",
   "execution_count": null,
   "outputs": [],
   "source": [
    "def test(input_name):\n",
    "    return type(input_name), print(input_name)"
   ],
   "metadata": {
    "collapsed": false
   }
  },
  {
   "cell_type": "markdown",
   "source": [
    "Define matrix 1 and 2"
   ],
   "metadata": {
    "collapsed": false
   }
  },
  {
   "cell_type": "code",
   "execution_count": null,
   "outputs": [],
   "source": [
    "matrix_1 =[[1,2,3],[4,5,6]]\n",
    "matrix_2 = [[1,2,3,4],[5,6,7,8],[9,10,11,12]]\n",
    "\n",
    "test (matrix_1[0][2])"
   ],
   "metadata": {
    "collapsed": false
   }
  },
  {
   "cell_type": "markdown",
   "source": [
    "Check to see if a list of lists is valid to be used for matrix multiplications."
   ],
   "metadata": {
    "collapsed": false
   }
  },
  {
   "cell_type": "code",
   "execution_count": null,
   "outputs": [],
   "source": [
    "def shape_check(matrix):\n",
    "    row_nr =0\n",
    "    base_row_length = len(matrix[0])\n",
    "    for col in matrix:\n",
    "        rows_col =  len(matrix[row_nr])\n",
    "        if base_row_length != rows_col:\n",
    "            print(f'Error in row# {row_nr}')\n",
    "            return False\n",
    "        row_nr += 1\n",
    "    return True"
   ],
   "metadata": {
    "collapsed": false
   }
  },
  {
   "cell_type": "code",
   "execution_count": null,
   "outputs": [],
   "source": [
    "# shape_check(matrix_1)"
   ],
   "metadata": {
    "collapsed": false
   }
  },
  {
   "cell_type": "markdown",
   "source": [
    "shape function"
   ],
   "metadata": {
    "collapsed": false
   }
  },
  {
   "cell_type": "markdown",
   "source": [],
   "metadata": {
    "collapsed": false
   }
  },
  {
   "cell_type": "markdown",
   "source": [
    "multiplication allowed?\n",
    "multiplication is allowed if n is equal in the multiplication formule. (m*n)*(n*p)=(m*p)\n",
    "\n"
   ],
   "metadata": {
    "collapsed": false
   }
  },
  {
   "cell_type": "code",
   "execution_count": null,
   "outputs": [],
   "source": [
    "# check to test if the amount of columns in matrix 1 is equal to the amount of rows in matrix 2\n",
    "\n",
    "shape_check_both_matrixes = shape_check(matrix_1) == shape_check(matrix_2) == True\n",
    "\n",
    "# formula_persmission_multiply_matrixes =  len(matrix_1[0]) == len(matrix_2)\n",
    "formula_persmission_multiply_matrixes = True\n",
    "\n",
    "# check if both checks are true.\n",
    "persmission_multiply_matrixes = shape_check_both_matrixes == formula_persmission_multiply_matrixes"
   ],
   "metadata": {
    "collapsed": false
   }
  },
  {
   "cell_type": "code",
   "execution_count": null,
   "outputs": [],
   "source": [
    "\n",
    "# test(persmission_multiply_matrixes)\n"
   ],
   "metadata": {
    "collapsed": false
   }
  },
  {
   "cell_type": "code",
   "execution_count": null,
   "outputs": [],
   "source": [],
   "metadata": {
    "collapsed": false
   }
  }
 ],
 "metadata": {
  "kernelspec": {
   "display_name": "Python 3",
   "language": "python",
   "name": "python3"
  },
  "language_info": {
   "codemirror_mode": {
    "name": "ipython",
    "version": 2
   },
   "file_extension": ".py",
   "mimetype": "text/x-python",
   "name": "python",
   "nbconvert_exporter": "python",
   "pygments_lexer": "ipython2",
   "version": "2.7.6"
  }
 },
 "nbformat": 4,
 "nbformat_minor": 0
}
