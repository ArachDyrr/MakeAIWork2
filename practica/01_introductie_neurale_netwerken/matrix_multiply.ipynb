{
 "cells": [
  {
   "cell_type": "markdown",
   "source": [
    "# Def matrix_multiply (M1,M2)"
   ],
   "metadata": {
    "collapsed": false
   }
  },
  {
   "cell_type": "markdown",
   "source": [
    "1 checkt zijn het matrixen\n",
    "2 mag ik ze vermenigvuldigen\n",
    "3 return resultaat\n",
    "4 no numpy / chat GPT\n",
    "5 matrix is sublistinlists like  [[4,4,4][5,5,5][6,6,6]]\n"
   ],
   "metadata": {
    "collapsed": false
   }
  },
  {
   "cell_type": "markdown",
   "source": [
    "Define matrix 1 and 2"
   ],
   "metadata": {
    "collapsed": false
   }
  },
  {
   "cell_type": "code",
   "execution_count": 32,
   "outputs": [],
   "source": [
    "# create the check to see if the matrix has the same amount of items per row\n",
    "\n",
    "def shape_check(matrix):\n",
    "    row_nr =0\n",
    "    base_row_length = len(matrix[0])\n",
    "    for item in matrix:\n",
    "        rows_col =  len(matrix[row_nr])\n",
    "        if base_row_length != rows_col:\n",
    "            print(f'Error in {matrix} {item}')\n",
    "            return False\n",
    "        row_nr += 1\n",
    "    return True\n",
    "\n",
    "# print(shape_check(matrix_2))"
   ],
   "metadata": {
    "collapsed": false,
    "ExecuteTime": {
     "start_time": "2023-04-04T09:46:36.860212Z",
     "end_time": "2023-04-04T09:46:36.860436Z"
    }
   }
  },
  {
   "cell_type": "code",
   "execution_count": 30,
   "outputs": [],
   "source": [
    "# create the function to see if matrixes may be multiplied\n",
    "\n",
    "def persmission_multiply_matrixes(mat1,mat2):\n",
    "    # multiplication allowed?\n",
    "    # multiplication is allowed if n is equal in the multiplication formule. (m*n)*(n*p)=(m*p)\n",
    "\n",
    "    # check if both lists of lists have the proper shape to be a matrix.\n",
    "    shape_check_both_matrixes = shape_check(mat1) and shape_check(mat2)\n",
    "    # check to test if the amount of columns in matrix 1 is equal to the amount of rows in matrix 2\n",
    "    formula_persmission_multiply_matrixes =  len(mat1[0]) == len(mat2)\n",
    "    print ('Matrix shapes dont match!')\n",
    "    # check if both checks are true.\n",
    "    return shape_check_both_matrixes == formula_persmission_multiply_matrixes\n",
    "\n",
    "# print (persmission_multiply_matrixes(matrix_1,matrix_2))"
   ],
   "metadata": {
    "collapsed": false,
    "ExecuteTime": {
     "start_time": "2023-04-04T09:46:17.966375Z",
     "end_time": "2023-04-04T09:46:17.970664Z"
    }
   }
  },
  {
   "cell_type": "code",
   "execution_count": null,
   "outputs": [],
   "source": [
    "# F F -> F  OR   F F -> F\n",
    "# F T -> F      F T -> T\n",
    "# T F -> F\n",
    "# T T -> T"
   ],
   "metadata": {
    "collapsed": false,
    "ExecuteTime": {
     "start_time": "2023-04-04T09:38:49.821869Z",
     "end_time": "2023-04-04T09:38:49.824413Z"
    }
   }
  },
  {
   "cell_type": "code",
   "execution_count": 44,
   "outputs": [],
   "source": [
    "# create the function to multiply the 2 matrixes\n",
    "\n",
    "def matrix_multiply_result  (m1,m2):\n",
    "    # check if both lists of lists have the proper shape to be a matrix.\n",
    "\n",
    "    if len(m1[0]) == len(m2):\n",
    "        pass\n",
    "    # DeMorgan\n",
    "    # not (A and B) == not A or not B\n",
    "\n",
    "        # if not ( shape_check(m1) and shape_check(m2) ):\n",
    "        #     return None\n",
    "    else:\n",
    "        print ('Matrix shapes != match!')\n",
    "        return None\n",
    "\n",
    "    # transpose matrix_2\n",
    "    m2t = list(map(list, zip(*m2)))\n",
    "\n",
    "    # create the new matrix for the multiplication result\n",
    "    m3 = []\n",
    "\n",
    "    # cycle true the matrixes to calculate the cells for m3 row by row and add them to the new matrix\n",
    "    for i in range(len(m1)):\n",
    "        row = []\n",
    "        for j in range(len(m2[0])):\n",
    "            cel = list(map(lambda x, y: x * y, m1[i], m2t[j]))\n",
    "            cel_s = sum(cel)\n",
    "            row.append(cel_s)\n",
    "        m3.append(row)\n",
    "\n",
    "    return m3\n",
    "\n",
    "# print (matrix_multiply_result(matrix_1,matrix_2))"
   ],
   "metadata": {
    "collapsed": false,
    "ExecuteTime": {
     "start_time": "2023-04-04T10:04:05.141277Z",
     "end_time": "2023-04-04T10:04:05.144965Z"
    }
   }
  },
  {
   "cell_type": "code",
   "execution_count": 39,
   "outputs": [],
   "source": [
    "# the function that multiples two matrixes profided they comply to the prerequisits.\n",
    "\n",
    "def matrix_multiply_result (m1,m2):\n",
    "    if not persmission_multiply_matrixes(m1,m2):\n",
    "        print('ERROR')\n",
    "        return None\n",
    "    else:\n",
    "        return matrix_multiply_result(m1,m2)\n",
    "\n",
    "# print (matrix_multiply(matrix_1,matrix_2))"
   ],
   "metadata": {
    "collapsed": false,
    "ExecuteTime": {
     "start_time": "2023-04-04T10:03:08.967978Z",
     "end_time": "2023-04-04T10:03:08.975154Z"
    }
   }
  },
  {
   "cell_type": "code",
   "execution_count": 40,
   "outputs": [
    {
     "name": "stdout",
     "output_type": "stream",
     "text": [
      "Matrix shapes dont match!\n",
      "[[-2]]\n"
     ]
    }
   ],
   "source": [
    "# Define matrix 1 and 2 for test use in this file\n",
    "\n",
    "matrix_1 =[[-1,-1]]\n",
    "matrix_2 = [[1],[1]]\n",
    "print (matrix_multiply_result (matrix_1,matrix_2))"
   ],
   "metadata": {
    "collapsed": false,
    "ExecuteTime": {
     "start_time": "2023-04-04T10:03:09.600066Z",
     "end_time": "2023-04-04T10:03:09.605706Z"
    }
   }
  },
  {
   "cell_type": "code",
   "execution_count": 41,
   "outputs": [
    {
     "name": "stdout",
     "output_type": "stream",
     "text": [
      "Error in [[1, 2], [4, 5], [7]] [7]\n",
      "Matrix shapes dont match!\n",
      "Matrix shapes dont match!\n",
      "None\n"
     ]
    }
   ],
   "source": [
    "\n",
    "matrix_1 =[[1,2],[4,5]]\n",
    "matrix_2 = [[1,2],[4,5],[7]]\n",
    "print (matrix_multiply_result (matrix_1,matrix_2))"
   ],
   "metadata": {
    "collapsed": false,
    "ExecuteTime": {
     "start_time": "2023-04-04T10:03:10.685892Z",
     "end_time": "2023-04-04T10:03:10.692457Z"
    }
   }
  },
  {
   "cell_type": "code",
   "execution_count": 46,
   "outputs": [
    {
     "name": "stdout",
     "output_type": "stream",
     "text": [
      "[[27, 33], [60, 75]]\n"
     ]
    }
   ],
   "source": [
    "\n",
    "matrix_1 =[[1,2,3],[4,5,6]]\n",
    "matrix_2 = [[1,2],[4,5],[6,7]]\n",
    "print (matrix_multiply_result (matrix_1,matrix_2))"
   ],
   "metadata": {
    "collapsed": false,
    "ExecuteTime": {
     "start_time": "2023-04-04T10:04:44.884935Z",
     "end_time": "2023-04-04T10:04:44.891204Z"
    }
   }
  },
  {
   "cell_type": "code",
   "execution_count": 45,
   "outputs": [
    {
     "name": "stdout",
     "output_type": "stream",
     "text": [
      "[[38, 44, 50, 56, 30, 36], [83, 98, 113, 128, 75, 90], [128, 152, 176, 200, 120, 144], [173, 206, 239, 272, 165, 198]]\n"
     ]
    }
   ],
   "source": [
    "\n",
    "matrix_1 =[[1,2,3],[4,5,6],[7,8,9],[10,11,12]]\n",
    "matrix_2 = [[1,2,3,4,5,6],[5,6,7,8,5,6],[9,10,11,12,5,6]]\n",
    "print (matrix_multiply_result (matrix_1,matrix_2))\n"
   ],
   "metadata": {
    "collapsed": false,
    "ExecuteTime": {
     "start_time": "2023-04-04T10:04:40.776846Z",
     "end_time": "2023-04-04T10:04:40.782913Z"
    }
   }
  },
  {
   "cell_type": "markdown",
   "source": [],
   "metadata": {
    "collapsed": false
   }
  },
  {
   "cell_type": "code",
   "execution_count": 28,
   "outputs": [],
   "source": [],
   "metadata": {
    "collapsed": false,
    "ExecuteTime": {
     "start_time": "2023-04-04T09:45:46.775443Z",
     "end_time": "2023-04-04T09:45:46.786000Z"
    }
   }
  },
  {
   "cell_type": "code",
   "execution_count": null,
   "outputs": [],
   "source": [],
   "metadata": {
    "collapsed": false
   }
  }
 ],
 "metadata": {
  "kernelspec": {
   "display_name": "Python 3",
   "language": "python",
   "name": "python3"
  },
  "language_info": {
   "codemirror_mode": {
    "name": "ipython",
    "version": 2
   },
   "file_extension": ".py",
   "mimetype": "text/x-python",
   "name": "python",
   "nbconvert_exporter": "python",
   "pygments_lexer": "ipython2",
   "version": "2.7.6"
  }
 },
 "nbformat": 4,
 "nbformat_minor": 0
}
