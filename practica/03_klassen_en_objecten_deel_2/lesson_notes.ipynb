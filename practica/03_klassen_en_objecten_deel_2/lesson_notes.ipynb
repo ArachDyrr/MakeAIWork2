{
 "cells": [
  {
   "cell_type": "code",
   "execution_count": 1,
   "metadata": {
    "collapsed": true
   },
   "outputs": [],
   "source": [
    "# define a class\n",
    "class car:class # name\n",
    "    def __init__(self, year, speed): # functions within a class are called modules. the first one should contain the innit: what are the contens of the class to be called\n",
    "        self.year=year\n",
    "        self.speed=speed\n",
    "    def getSpeed(self):\n",
    "        print(\"maximum speed is: \", self.speed)\n",
    "    def setSpeed(self,speed):\n",
    "        self.speed=speed\n",
    "BMW = car(2018,155) #object to be called with the class. car determines the class name in this case(self). within the brackets is the rest of teh __init__ in left right order like the class has in top down.\n",
    "FORD = car(2016,140)"
   ]
  },
  {
   "cell_type": "code",
   "execution_count": 2,
   "outputs": [
    {
     "name": "stdout",
     "output_type": "stream",
     "text": [
      "155\n"
     ]
    }
   ],
   "source": [
    "# call the class and then the module\n",
    "print(BMW.speed)"
   ],
   "metadata": {
    "collapsed": false
   }
  },
  {
   "cell_type": "code",
   "execution_count": 8,
   "outputs": [
    {
     "name": "stdout",
     "output_type": "stream",
     "text": [
      "2018\n"
     ]
    }
   ],
   "source": [
    "print(BMW.year)"
   ],
   "metadata": {
    "collapsed": false
   }
  },
  {
   "cell_type": "code",
   "execution_count": null,
   "outputs": [],
   "source": [],
   "metadata": {
    "collapsed": false
   }
  }
 ],
 "metadata": {
  "kernelspec": {
   "display_name": "Python 3",
   "language": "python",
   "name": "python3"
  },
  "language_info": {
   "codemirror_mode": {
    "name": "ipython",
    "version": 2
   },
   "file_extension": ".py",
   "mimetype": "text/x-python",
   "name": "python",
   "nbconvert_exporter": "python",
   "pygments_lexer": "ipython2",
   "version": "2.7.6"
  }
 },
 "nbformat": 4,
 "nbformat_minor": 0
}
