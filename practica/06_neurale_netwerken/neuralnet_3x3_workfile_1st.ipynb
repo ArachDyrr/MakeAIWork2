{
 "cells": [
  {
   "cell_type": "code",
   "execution_count": 57,
   "outputs": [],
   "source": [
    "import random"
   ],
   "metadata": {
    "collapsed": false
   }
  },
  {
   "cell_type": "markdown",
   "source": [
    "for the array we define white as 0 and black as 1"
   ],
   "metadata": {
    "collapsed": false
   }
  },
  {
   "cell_type": "code",
   "execution_count": 58,
   "outputs": [
    {
     "name": "stdout",
     "output_type": "stream",
     "text": [
      "[[1, 0, 1], [1, 0, 0], [1, 0, 1]]\n"
     ]
    }
   ],
   "source": [
    "array = [[random.randint(0, 1) for j in range(3)] for i in range(3)]\n",
    "\n",
    "print(array)"
   ],
   "metadata": {
    "collapsed": false
   }
  },
  {
   "cell_type": "markdown",
   "source": [
    "# input"
   ],
   "metadata": {
    "collapsed": false
   }
  },
  {
   "cell_type": "markdown",
   "source": [
    "9 posities op het grid, dus 9 input's"
   ],
   "metadata": {
    "collapsed": false
   }
  },
  {
   "cell_type": "code",
   "execution_count": 59,
   "outputs": [],
   "source": [
    "i0 = array[2][2]\n",
    "i1 = array[2][1]\n",
    "i2 = array[2][0]\n",
    "i3 = array[1][2]\n",
    "i4 = array[1][1]\n",
    "i5 = array[1][0]\n",
    "i6 = array[0][2]\n",
    "i7 = array[0][1]\n",
    "i8 = array[0][0]\n"
   ],
   "metadata": {
    "collapsed": false
   }
  },
  {
   "cell_type": "markdown",
   "source": [
    "# hiden"
   ],
   "metadata": {
    "collapsed": false
   }
  },
  {
   "cell_type": "code",
   "execution_count": 60,
   "outputs": [
    {
     "name": "stdout",
     "output_type": "stream",
     "text": [
      "0\n"
     ]
    }
   ],
   "source": [
    "\n",
    "def circleCheck(array):\n",
    "    if array[1][1] == 0:\n",
    "        return 0\n",
    "    else:\n",
    "        return 1\n",
    "\n",
    "print (circleCheck(array))"
   ],
   "metadata": {
    "collapsed": false
   }
  },
  {
   "cell_type": "markdown",
   "source": [
    "# output"
   ],
   "metadata": {
    "collapsed": false
   }
  },
  {
   "cell_type": "markdown",
   "source": [
    "2 opties of een rondje of een kruisje"
   ],
   "metadata": {
    "collapsed": false
   }
  },
  {
   "cell_type": "code",
   "execution_count": 61,
   "outputs": [
    {
     "name": "stdout",
     "output_type": "stream",
     "text": [
      "o0 states this is a circle\n",
      "o0 states this is not a cross\n"
     ]
    }
   ],
   "source": [
    "# o0\n",
    "if circleCheck(array) == 0:\n",
    "    print ('o0 states this is a circle')\n",
    "else:\n",
    "    print ('o0 states this is not a circle')\n",
    "# 01\n",
    "if circleCheck(array) == 1:\n",
    "    print ('o0 states this is a cross')\n",
    "else:\n",
    "    print ('o0 states this is not a cross')"
   ],
   "metadata": {
    "collapsed": false
   }
  },
  {
   "cell_type": "code",
   "execution_count": 62,
   "outputs": [],
   "source": [
    "def output(array):\n",
    "    if circleCheck(array) == 0:\n",
    "        return 'circle'\n",
    "    else:\n",
    "        return 'cross'"
   ],
   "metadata": {
    "collapsed": false
   }
  },
  {
   "cell_type": "markdown",
   "source": [
    "# visualisation!"
   ],
   "metadata": {
    "collapsed": false
   }
  },
  {
   "cell_type": "code",
   "execution_count": 63,
   "outputs": [
    {
     "data": {
      "text/plain": "<Figure size 640x480 with 1 Axes>",
      "image/png": "[encoded data removed]"
     },
     "metadata": {},
     "output_type": "display_data"
    },
    {
     "name": "stdout",
     "output_type": "stream",
     "text": [
      "\n",
      "The image above is a circle\n"
     ]
    }
   ],
   "source": [
    "import matplotlib.pyplot as plt\n",
    "\n",
    "# Define the array\n",
    "\n",
    "# Create a grayscale colormap\n",
    "cmap = plt.get_cmap('gray')\n",
    "\n",
    "# Display the array as an image\n",
    "plt.imshow(array, cmap=cmap)\n",
    "\n",
    "# Turn off axis labels and ticks\n",
    "plt.axis('off')\n",
    "\n",
    "# Show the plot\n",
    "plt.show()\n",
    "print()\n",
    "print (f\"The image above is a {output(array)}\")"
   ],
   "metadata": {
    "collapsed": false
   }
  },
  {
   "cell_type": "code",
   "execution_count": 63,
   "outputs": [],
   "source": [],
   "metadata": {
    "collapsed": false
   }
  }
 ],
 "metadata": {
  "kernelspec": {
   "display_name": "Python 3",
   "language": "python",
   "name": "python3"
  },
  "language_info": {
   "codemirror_mode": {
    "name": "ipython",
    "version": 2
   },
   "file_extension": ".py",
   "mimetype": "text/x-python",
   "name": "python",
   "nbconvert_exporter": "python",
   "pygments_lexer": "ipython2",
   "version": "2.7.6"
  }
 },
 "nbformat": 4,
 "nbformat_minor": 0
}
