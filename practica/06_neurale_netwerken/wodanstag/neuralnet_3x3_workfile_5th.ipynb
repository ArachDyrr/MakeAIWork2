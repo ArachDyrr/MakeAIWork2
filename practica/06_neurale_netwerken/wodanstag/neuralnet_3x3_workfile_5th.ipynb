{
 "cells": [
  {
   "cell_type": "code",
   "execution_count": 2,
   "metadata": {
    "collapsed": true,
    "ExecuteTime": {
     "start_time": "2023-04-05T13:19:55.820082Z",
     "end_time": "2023-04-05T13:19:55.824278Z"
    }
   },
   "outputs": [],
   "source": [
    "circle = [\n",
    "    [1,1,1],\n",
    "    [1,0,1],\n",
    "    [1,1,1]\n",
    "    ]"
   ]
  },
  {
   "cell_type": "code",
   "execution_count": 5,
   "outputs": [],
   "source": [
    "cross = [\n",
    "    [1,0,1],\n",
    "    [0,1,0],\n",
    "    [1,0,1]\n",
    "\n",
    "]"
   ],
   "metadata": {
    "collapsed": false,
    "ExecuteTime": {
     "start_time": "2023-04-04T15:00:35.705407Z",
     "end_time": "2023-04-04T15:00:35.711376Z"
    }
   }
  },
  {
   "cell_type": "code",
   "execution_count": 7,
   "outputs": [
    {
     "name": "stdout",
     "output_type": "stream",
     "text": [
      "cirle = [[1, 1, 1], [1, 0, 1], [1, 1, 1]], cross = [[1, 0, 1], [0, 1, 0], [1, 0, 1]]\n"
     ]
    }
   ],
   "source": [
    "print(f\"cirle = {circle}, cross = {cross}\")"
   ],
   "metadata": {
    "collapsed": false,
    "ExecuteTime": {
     "start_time": "2023-04-04T15:00:36.826747Z",
     "end_time": "2023-04-04T15:00:36.835830Z"
    }
   }
  },
  {
   "cell_type": "code",
   "execution_count": 8,
   "outputs": [],
   "source": [
    "import homebrew_functions as hb"
   ],
   "metadata": {
    "collapsed": false,
    "ExecuteTime": {
     "start_time": "2023-04-04T15:00:37.302909Z",
     "end_time": "2023-04-04T15:00:37.308236Z"
    }
   }
  },
  {
   "cell_type": "code",
   "execution_count": 9,
   "outputs": [],
   "source": [
    "# def matrix_flattener(list_of_list_matrix):\n",
    "#     flattned_matrix = sum(list_of_list_matrix, [])\n",
    "#     return flattned_matrix\n",
    "\n",
    "import homebrew_functions as hb"
   ],
   "metadata": {
    "collapsed": false,
    "ExecuteTime": {
     "start_time": "2023-04-04T15:00:37.752108Z",
     "end_time": "2023-04-04T15:00:37.755631Z"
    }
   }
  },
  {
   "cell_type": "code",
   "execution_count": 10,
   "outputs": [
    {
     "data": {
      "text/plain": "[[0.15, 0.09, 0.14, 0.1, 0.18, 0.0, 0.06, 0.16, 0.12]]"
     },
     "metadata": {},
     "output_type": "display_data"
    }
   ],
   "source": [
    "\n",
    "weights0 = hb.initial_random_weights(circle)\n",
    "\n",
    "display(weights0)"
   ],
   "metadata": {
    "collapsed": false,
    "ExecuteTime": {
     "start_time": "2023-04-04T15:00:38.223163Z",
     "end_time": "2023-04-04T15:00:38.226645Z"
    }
   }
  },
  {
   "cell_type": "code",
   "execution_count": 11,
   "outputs": [
    {
     "name": "stdout",
     "output_type": "stream",
     "text": [
      "[[1], [1], [1], [1], [0], [1], [1], [1], [1]]\n",
      "\n",
      "[[0.02, 0.03, 0.34, 0.02, 0.01, 0.09, 0.25, 0.15, 0.1]]\n"
     ]
    }
   ],
   "source": [
    "matrix = circle\n",
    "\n",
    "I_n = hb.initial_input(matrix)\n",
    "W_n = hb.initial_random_weights(matrix)\n",
    "\n",
    "print (I_n)\n",
    "print()\n",
    "print(W_n)"
   ],
   "metadata": {
    "collapsed": false,
    "ExecuteTime": {
     "start_time": "2023-04-04T15:00:38.685867Z",
     "end_time": "2023-04-04T15:00:38.690878Z"
    }
   }
  },
  {
   "cell_type": "markdown",
   "source": [
    "# output:\n",
    "list of lists\n",
    "[[0],   the 0th is the circle\n",
    "[0]]    the 1st is the diagonal cross\n",
    "\n"
   ],
   "metadata": {
    "collapsed": false
   }
  },
  {
   "cell_type": "code",
   "execution_count": 51,
   "outputs": [],
   "source": [
    "matrix = circle"
   ],
   "metadata": {
    "collapsed": false,
    "ExecuteTime": {
     "start_time": "2023-04-04T15:32:38.759842Z",
     "end_time": "2023-04-04T15:32:38.769733Z"
    }
   }
  },
  {
   "cell_type": "markdown",
   "source": [
    "Generate the imputs"
   ],
   "metadata": {
    "collapsed": false
   }
  },
  {
   "cell_type": "code",
   "execution_count": 52,
   "outputs": [
    {
     "name": "stdout",
     "output_type": "stream",
     "text": [
      "[[1], [1], [1], [1], [0], [1], [1], [1], [1]]\n"
     ]
    }
   ],
   "source": [
    "input_n = hb.initial_input(matrix)\n",
    "\n",
    "print(input_n)"
   ],
   "metadata": {
    "collapsed": false,
    "ExecuteTime": {
     "start_time": "2023-04-04T15:32:39.449789Z",
     "end_time": "2023-04-04T15:32:39.458013Z"
    }
   }
  },
  {
   "cell_type": "markdown",
   "source": [
    "Generate the initial weights0 (In W0n) and weights1 (In W1n)"
   ],
   "metadata": {
    "collapsed": false
   }
  },
  {
   "cell_type": "code",
   "execution_count": 53,
   "outputs": [
    {
     "name": "stdout",
     "output_type": "stream",
     "text": [
      "[[0.0, 0.15, 0.07, 0.23, 0.14, 0.0, 0.25, 0.14, 0.02]] [[0.2, 0.1, 0.0, 0.1, 0.04, 0.14, 0.22, 0.01, 0.19]]\n"
     ]
    }
   ],
   "source": [
    "weights0 =hb.initial_random_weights(matrix)\n",
    "weights1 =hb.initial_random_weights(matrix)\n",
    "print (weights0,\n",
    "\n",
    "       weights1)"
   ],
   "metadata": {
    "collapsed": false,
    "ExecuteTime": {
     "start_time": "2023-04-04T15:32:39.865954Z",
     "end_time": "2023-04-04T15:32:39.875988Z"
    }
   }
  },
  {
   "cell_type": "markdown",
   "source": [
    "set initial bias"
   ],
   "metadata": {
    "collapsed": false
   }
  },
  {
   "cell_type": "code",
   "execution_count": 54,
   "outputs": [],
   "source": [
    "import random\n",
    "bias0 = random.uniform(-1, 1)\n",
    "bias1 = random.uniform(-1, 1)"
   ],
   "metadata": {
    "collapsed": false,
    "ExecuteTime": {
     "start_time": "2023-04-04T15:32:40.302026Z",
     "end_time": "2023-04-04T15:32:40.310484Z"
    }
   }
  },
  {
   "cell_type": "markdown",
   "source": [
    "Calculate output"
   ],
   "metadata": {
    "collapsed": false
   }
  },
  {
   "cell_type": "code",
   "execution_count": 55,
   "outputs": [
    {
     "name": "stdout",
     "output_type": "stream",
     "text": [
      "[[0.86], [0.96]]\n"
     ]
    }
   ],
   "source": [
    "output = []\n",
    "output0 = sum(hb.matrix_multiplication(weights0,input_n), [])\n",
    "output1 = sum(hb.matrix_multiplication(weights1,input_n), [])\n",
    "\n",
    "\n",
    "output.append(output0)\n",
    "output.append(output1)\n",
    "\n",
    "# add bias\n",
    "output0[0] += bias_c\n",
    "output1[0] += bias_x\n",
    "\n",
    "\n",
    "# print(input_n)\n",
    "# print(weights0)\n",
    "print (output)"
   ],
   "metadata": {
    "collapsed": false,
    "ExecuteTime": {
     "start_time": "2023-04-04T15:32:40.747408Z",
     "end_time": "2023-04-04T15:32:40.752500Z"
    }
   }
  },
  {
   "cell_type": "code",
   "execution_count": 57,
   "outputs": [
    {
     "name": "stdout",
     "output_type": "stream",
     "text": [
      "[-0.4444444444444444]\n",
      "[[-0.5430583962778781], [0.15651011345992205]]\n"
     ]
    }
   ],
   "source": [
    "output = []\n",
    "output0 = sum(hb.matrix_multiplication(weight_c,input_n), [])\n",
    "output1 = sum(hb.matrix_multiplication(weight_x,input_n), [])\n",
    "\n",
    "output.append(output0)\n",
    "output.append(output1)\n",
    "\n",
    "# add bias\n",
    "output0[0] += bias0\n",
    "output1[0] += bias1\n",
    "\n",
    "# print the output\n",
    "print (output)\n"
   ],
   "metadata": {
    "collapsed": false,
    "ExecuteTime": {
     "start_time": "2023-04-04T15:38:43.166970Z",
     "end_time": "2023-04-04T15:38:43.171742Z"
    }
   }
  },
  {
   "cell_type": "markdown",
   "source": [
    "start to learn\n"
   ],
   "metadata": {
    "collapsed": false
   }
  },
  {
   "cell_type": "markdown",
   "source": [],
   "metadata": {
    "collapsed": false
   }
  },
  {
   "cell_type": "code",
   "execution_count": null,
   "outputs": [],
   "source": [],
   "metadata": {
    "collapsed": false
   }
  }
 ],
 "metadata": {
  "kernelspec": {
   "display_name": "Python 3",
   "language": "python",
   "name": "python3"
  },
  "language_info": {
   "codemirror_mode": {
    "name": "ipython",
    "version": 2
   },
   "file_extension": ".py",
   "mimetype": "text/x-python",
   "name": "python",
   "nbconvert_exporter": "python",
   "pygments_lexer": "ipython2",
   "version": "2.7.6"
  }
 },
 "nbformat": 4,
 "nbformat_minor": 0
}
