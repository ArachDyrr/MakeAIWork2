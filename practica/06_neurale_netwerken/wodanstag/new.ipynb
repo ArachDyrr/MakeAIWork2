{
 "cells": [
  {
   "cell_type": "code",
   "execution_count": 11,
   "outputs": [
    {
     "ename": "ValueError",
     "evalue": "shapes (2,) and (1,9) not aligned: 2 (dim 0) != 1 (dim 0)",
     "output_type": "error",
     "traceback": [
      "\u001B[0;31m---------------------------------------------------------------------------\u001B[0m",
      "\u001B[0;31mValueError\u001B[0m                                Traceback (most recent call last)",
      "Cell \u001B[0;32mIn[11], line 43\u001B[0m\n\u001B[1;32m     40\u001B[0m p0 \u001B[38;5;241m=\u001B[39m Perceptron()\n\u001B[1;32m     41\u001B[0m p1 \u001B[38;5;241m=\u001B[39m Perceptron()\n\u001B[0;32m---> 43\u001B[0m \u001B[43mp0\u001B[49m\u001B[38;5;241;43m.\u001B[39;49m\u001B[43mfit\u001B[49m\u001B[43m(\u001B[49m\u001B[43mX\u001B[49m\u001B[43m,\u001B[49m\u001B[43m \u001B[49m\u001B[43my\u001B[49m\u001B[43m)\u001B[49m\n\u001B[1;32m     44\u001B[0m p1\u001B[38;5;241m.\u001B[39mfit(X, y)\n\u001B[1;32m     46\u001B[0m \u001B[38;5;66;03m# Test individual nodes\u001B[39;00m\n",
      "Cell \u001B[0;32mIn[11], line 27\u001B[0m, in \u001B[0;36mPerceptron.fit\u001B[0;34m(self, X, y)\u001B[0m\n\u001B[1;32m     24\u001B[0m y_predicted \u001B[38;5;241m=\u001B[39m \u001B[38;5;28mself\u001B[39m\u001B[38;5;241m.\u001B[39mactivation_func(linear_output)\n\u001B[1;32m     26\u001B[0m update \u001B[38;5;241m=\u001B[39m \u001B[38;5;28mself\u001B[39m\u001B[38;5;241m.\u001B[39mlr \u001B[38;5;241m*\u001B[39m (y_[:,idx] \u001B[38;5;241m-\u001B[39m y_predicted)\n\u001B[0;32m---> 27\u001B[0m \u001B[38;5;28mself\u001B[39m\u001B[38;5;241m.\u001B[39mweights \u001B[38;5;241m+\u001B[39m\u001B[38;5;241m=\u001B[39m \u001B[43mnp\u001B[49m\u001B[38;5;241;43m.\u001B[39;49m\u001B[43mdot\u001B[49m\u001B[43m(\u001B[49m\u001B[43mupdate\u001B[49m\u001B[43m,\u001B[49m\u001B[43m \u001B[49m\u001B[43mx_i\u001B[49m\u001B[38;5;241;43m.\u001B[39;49m\u001B[43mreshape\u001B[49m\u001B[43m(\u001B[49m\u001B[38;5;241;43m1\u001B[39;49m\u001B[43m,\u001B[49m\u001B[43m \u001B[49m\u001B[38;5;241;43m-\u001B[39;49m\u001B[38;5;241;43m1\u001B[39;49m\u001B[43m)\u001B[49m\u001B[43m)\u001B[49m\n\u001B[1;32m     28\u001B[0m \u001B[38;5;28mself\u001B[39m\u001B[38;5;241m.\u001B[39mbias \u001B[38;5;241m+\u001B[39m\u001B[38;5;241m=\u001B[39m np\u001B[38;5;241m.\u001B[39msum(update)\n",
      "File \u001B[0;32m<__array_function__ internals>:200\u001B[0m, in \u001B[0;36mdot\u001B[0;34m(*args, **kwargs)\u001B[0m\n",
      "\u001B[0;31mValueError\u001B[0m: shapes (2,) and (1,9) not aligned: 2 (dim 0) != 1 (dim 0)"
     ]
    }
   ],
   "source": [
    "import numpy as np\n",
    "\n",
    "def sigmoid(x):\n",
    "    return 1 / (1 + np.exp(-x))\n",
    "\n",
    "class Perceptron:\n",
    "    def __init__(self, learning_rate=0.01, n_iters=1000):\n",
    "        self.lr = learning_rate\n",
    "        self.n_iters = n_iters\n",
    "        self.activation_func = sigmoid\n",
    "        self.weights = None\n",
    "        self.bias = None\n",
    "\n",
    "    def fit(self, X, y):\n",
    "        n_samples, n_features = X.shape\n",
    "        self.weights = np.zeros(n_features)\n",
    "        self.bias = 0\n",
    "\n",
    "        y_ = np.array([np.where(y == 0, 1, 0), np.where(y == 1, 1, 0)])\n",
    "\n",
    "        for _ in range(self.n_iters):\n",
    "            for idx, x_i in enumerate(X):\n",
    "                linear_output = np.dot(x_i, self.weights) + self.bias\n",
    "                y_predicted = self.activation_func(linear_output)\n",
    "\n",
    "                update = self.lr * (y_[:,idx] - y_predicted)\n",
    "                self.weights += np.dot(update, x_i.reshape(1, -1))\n",
    "                self.bias += np.sum(update)\n",
    "\n",
    "    def predict(self, X):\n",
    "        linear_output = np.dot(X, self.weights.T) + self.bias\n",
    "        y_predicted = self.activation_func(linear_output)\n",
    "        return np.argmax(y_predicted, axis=1)\n",
    "\n",
    "\n",
    "if __name__ == \"__main__\":\n",
    "    X = np.array([[1,1,1,1,0,1,1,1,1], [1,0,1,0,1,0,1,0,1]])\n",
    "    y = np.array([0, 1])\n",
    "\n",
    "    p0 = Perceptron()\n",
    "    p1 = Perceptron()\n",
    "\n",
    "    p0.fit(X, y)\n",
    "    p1.fit(X, y)\n",
    "\n",
    "    # Test individual nodes\n",
    "    random_input = np.random.randint(0, 2, size=9)\n",
    "    pred0 = p0.predict(random_input.reshape(1,-1))\n",
    "    pred1 = p1.predict(random_input.reshape(1,-1))\n",
    "    print(\"Prediction for O node:\", pred0)\n",
    "    print(\"Prediction for X node:\", pred1)\n"
   ],
   "metadata": {
    "collapsed": false
   }
  },
  {
   "cell_type": "code",
   "execution_count": null,
   "outputs": [],
   "source": [],
   "metadata": {
    "collapsed": false
   }
  }
 ],
 "metadata": {
  "kernelspec": {
   "display_name": "Python 3",
   "language": "python",
   "name": "python3"
  },
  "language_info": {
   "codemirror_mode": {
    "name": "ipython",
    "version": 2
   },
   "file_extension": ".py",
   "mimetype": "text/x-python",
   "name": "python",
   "nbconvert_exporter": "python",
   "pygments_lexer": "ipython2",
   "version": "2.7.6"
  }
 },
 "nbformat": 4,
 "nbformat_minor": 0
}
