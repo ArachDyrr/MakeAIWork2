{
 "cells": [
  {
   "cell_type": "markdown",
   "source": [],
   "metadata": {
    "collapsed": false
   }
  },
  {
   "cell_type": "code",
   "execution_count": 3,
   "outputs": [],
   "source": [
    "class Matrix:\n",
    "    \"\"\"Home Brew Matrix class\"\"\"\n",
    "    def __init__(self, argInput):\n",
    "        self.input = argInput\n",
    "\n",
    "    def printable (self): # generates a printable object\n",
    "        \"\"\"generates a printable object\"\"\"\n",
    "        return (self.input)\n",
    "\n",
    "    def transpose (self):\n",
    "        \"\"\"transposes a matrix\"\"\"\n",
    "        transposed_input = list(map(list, zip(*self.input)))\n",
    "        return transposed_input\n",
    "\n",
    "    def shapeCohesionCheck(self):\n",
    "         \"\"\"Checks if all rows in a matrix have the same amount of items\"\"\"\n",
    "         row_nr = 0\n",
    "         base_row_length = len(self.input[0])\n",
    "         for item in self.input:\n",
    "            rows_col = len(self.input[row_nr])\n",
    "            if base_row_length != rows_col:\n",
    "                print(f'Error in {self.input} {item}')\n",
    "                return False\n",
    "            row_nr += 1\n",
    "            return True\n",
    "\n",
    "    def matrix_multiplication(self, other):\n",
    "        \"\"\"multiplies two matrices if permitted\"\"\"\n",
    "        # check if both matrices have the proper shape to be multiplied\n",
    "\n",
    "        if len(self.input[0]) == len(other.input):\n",
    "            pass\n",
    "            # DeMorgan\n",
    "            # not (A and B) == not A or not B\n",
    "\n",
    "            if not (self.matrix_shape_check() and other.matrix_shape_check()):\n",
    "                return None\n",
    "        else:\n",
    "            print('Matrix shapes do not match!')\n",
    "            return None\n",
    "\n",
    "        # transpose the second matrix\n",
    "        other_t = list(map(list, zip(*other.input)))\n",
    "\n",
    "        # create the new matrix for the multiplication result\n",
    "        result_matrix = []\n",
    "\n",
    "        # cycle through the matrices to calculate the cells for result_matrix row by row and add them to the new matrix\n",
    "        for i in range(len(self.input)):\n",
    "            row = []\n",
    "            for j in range(len(other.input[0])):\n",
    "                cell = list(map(lambda x, y: x * y, self.input[i], other_t[j]))\n",
    "                cell_sum = sum(cell)\n",
    "                row.append(cell_sum)\n",
    "            result_matrix.append(row)\n",
    "\n",
    "        return result_matrix\n",
    "\n",
    "    def matrix_shape_check(self):\n",
    "        \"\"\"check if all rows in matrix have the same length\"\"\"\n",
    "        shape = len(self.input[0])\n",
    "        return all(len(row) == shape for row in self.input)\n",
    "\n",
    "    def __eq__ (self, other):\n",
    "\n",
    "        return len(self.input[0]) == len(other.input)\n",
    "\n",
    "    def __mul__(self, other):\n",
    "        \"\"\"multiplies 2 matrixes\"\"\"\n",
    "        return self.matrix_multiplication(other)"
   ],
   "metadata": {
    "collapsed": false,
    "ExecuteTime": {
     "start_time": "2023-04-06T12:41:38.962538Z",
     "end_time": "2023-04-06T12:41:38.968799Z"
    }
   }
  },
  {
   "cell_type": "code",
   "execution_count": 4,
   "outputs": [],
   "source": [
    "# import random\n",
    "#\n",
    "# def initial_random_weights(i_n):\n",
    "#     \"\"\"generate random weights totaling to 1\"\"\"\n",
    "#\n",
    "#     i_n = [sum(i_n, [])]\n",
    "#\n",
    "#     # Generate n random values\n",
    "#     initial_weights = [random.random() for i in range(len(i_n[0]))]\n",
    "#\n",
    "#     # Calculate the sum of the random values\n",
    "#     weight_sum = sum(initial_weights)\n",
    "#\n",
    "#     # Divide each random value by the sum to normalize them\n",
    "#     random_weights = [round(item/weight_sum,2) for item in initial_weights]\n",
    "#\n",
    "#     return [random_weights]\n",
    "#\n",
    "# class Node (Matrix):\n",
    "#     def __init__(self, argInput):\n",
    "#         super().__init__(argInput)\n",
    "#         self.bias = None\n",
    "#         self.weights = initial_random_weights(self.input)\n",
    "#\n",
    "#     def set_bias(self, bias):\n",
    "#         self.bias = bias\n",
    "#\n",
    "#     def set_weights(self, weights):\n",
    "#         self.weights\n",
    "#\n",
    "#     def get_weight_str(self):\n",
    "#         weight_str = ''\n",
    "#         for row in self.weight:\n",
    "#             weight_str += ' '.join([str(elem) for elem in row]) + '\\n'\n",
    "#         return weight_str\n",
    "#\n"
   ],
   "metadata": {
    "collapsed": false,
    "ExecuteTime": {
     "start_time": "2023-04-06T12:41:44.806452Z",
     "end_time": "2023-04-06T12:41:44.811126Z"
    }
   }
  },
  {
   "cell_type": "code",
   "execution_count": 5,
   "outputs": [],
   "source": [
    "import logging\n",
    "import numpy as np\n",
    "import pydot\n",
    "# from HombrewMatrix import Matrix\n",
    "\n",
    "logging.basicConfig(level=logging.DEBUG)\n",
    "\n",
    "\n",
    "class Perceptron:\n",
    "\n",
    "    \"\"\"\n",
    "    Perceptron class to simulate a Neuron\n",
    "    \"\"\"\n",
    "\n",
    "    # Constructor\n",
    "    # 'dunder init'\n",
    "    def __init__(self):\n",
    "        self.weightVector = None\n",
    "        self.bias = 0\n",
    "\n",
    "    def initialize(self, nrOfFeatures):\n",
    "        \"\"\"Initialize w and b as zero\"\"\"\n",
    "\n",
    "        # Create initial weight vector for each feature\n",
    "        self.weightVector = [[0] * len(nrOfFeatures)]\n",
    "\n",
    "\n",
    "        # print(list) # was placed 2 tabs back\n",
    "\n",
    "        # Initialize bias\n",
    "        self.bias = 0\n",
    "\n",
    "    def train(self, X, y, epochs=100, learningRate=0.1):\n",
    "        \"\"\"\n",
    "        Train the perceptron using the inputVector\n",
    "        and target labels\n",
    "        \"\"\"\n",
    "        # Initialize weights and bias\n",
    "        nrOfFeatures = X.shape[1]\n",
    "        self.initialize(nrOfFeatures)\n",
    "\n",
    "        epochs = range(0, epochs)\n",
    "\n",
    "        # for each epoch\n",
    "        for epoch in epochs:\n",
    "            logging.info(f\"epoch : {epoch}\")\n",
    "\n",
    "            # For each inputVector\n",
    "            for inputVector, label in zip(X, y):\n",
    "                logging.debug(f\"inputVector : {inputVector}\")\n",
    "\n",
    "                # Labeled output\n",
    "                logging.debug(f\"label : {label}\")\n",
    "\n",
    "                # Predict output\n",
    "                prediction = self.predict(inputVector)\n",
    "                logging.debug(f\"prediction : {prediction}\")\n",
    "\n",
    "                # Determine error\n",
    "                error = label - prediction\n",
    "                logging.debug(f\"error : {error}\")\n",
    "\n",
    "                # update weight and b\n",
    "                logging.debug(f\"deltaWeight : {deltaWeight}\")\n",
    "\n",
    "                logging.debug(f\"learningRate : {learningRate}\")\n",
    "\n",
    "                logging.debug(f\"deltaBias : {deltaBias}\")\n",
    "\n",
    "                print()\n",
    "\n",
    "    def predict(self, inputVector):\n",
    "        \"\"\"\n",
    "        Determin outputvalue by multiplying\n",
    "        inputvector with weightvector\n",
    "        \"\"\"\n",
    "        activation = matrix_multiplication(inputVector , self.weightVector) + self.bias\n",
    "        logging.debug(f\"activation : {activation}\")\n",
    "\n",
    "        return 1 if activation > 0 else 0"
   ],
   "metadata": {
    "collapsed": false,
    "ExecuteTime": {
     "start_time": "2023-04-06T12:41:51.064017Z",
     "end_time": "2023-04-06T12:41:51.149928Z"
    }
   }
  },
  {
   "cell_type": "code",
   "execution_count": 6,
   "metadata": {
    "collapsed": true,
    "ExecuteTime": {
     "start_time": "2023-04-06T12:41:52.637250Z",
     "end_time": "2023-04-06T12:41:52.641196Z"
    }
   },
   "outputs": [],
   "source": [
    "circle = [\n",
    "    [1,1,1],\n",
    "    [1,0,1],\n",
    "    [1,1,1]\n",
    "    ]"
   ]
  },
  {
   "cell_type": "code",
   "execution_count": 7,
   "outputs": [
    {
     "ename": "NameError",
     "evalue": "name 'Node' is not defined",
     "output_type": "error",
     "traceback": [
      "\u001B[0;31m---------------------------------------------------------------------------\u001B[0m",
      "\u001B[0;31mNameError\u001B[0m                                 Traceback (most recent call last)",
      "Cell \u001B[0;32mIn[7], line 1\u001B[0m\n\u001B[0;32m----> 1\u001B[0m node0 \u001B[38;5;241m=\u001B[39m \u001B[43mNode\u001B[49m(circle)\n\u001B[1;32m      3\u001B[0m \u001B[38;5;28mprint\u001B[39m (node0\u001B[38;5;241m.\u001B[39mget_weight_str())\n",
      "\u001B[0;31mNameError\u001B[0m: name 'Node' is not defined"
     ]
    }
   ],
   "source": [
    "node0 = Node(circle)\n",
    "\n",
    "print (node0.get_weight_str())"
   ],
   "metadata": {
    "collapsed": false
   }
  },
  {
   "cell_type": "code",
   "execution_count": 8,
   "outputs": [],
   "source": [
    "cross = [\n",
    "    [1,0,1],\n",
    "    [0,1,0],\n",
    "    [1,0,1]\n",
    "\n",
    "]"
   ],
   "metadata": {
    "collapsed": false,
    "ExecuteTime": {
     "start_time": "2023-04-06T12:41:56.056298Z",
     "end_time": "2023-04-06T12:41:56.065373Z"
    }
   }
  },
  {
   "cell_type": "code",
   "execution_count": 9,
   "outputs": [
    {
     "name": "stdout",
     "output_type": "stream",
     "text": [
      "cirle = [[1, 1, 1], [1, 0, 1], [1, 1, 1]], cross = [[1, 0, 1], [0, 1, 0], [1, 0, 1]]\n"
     ]
    }
   ],
   "source": [
    "print(f\"cirle = {circle}, cross = {cross}\")"
   ],
   "metadata": {
    "collapsed": false,
    "ExecuteTime": {
     "start_time": "2023-04-06T12:41:56.733875Z",
     "end_time": "2023-04-06T12:41:56.739183Z"
    }
   }
  },
  {
   "cell_type": "code",
   "execution_count": 10,
   "outputs": [
    {
     "ename": "NameError",
     "evalue": "name 'hb' is not defined",
     "output_type": "error",
     "traceback": [
      "\u001B[0;31m---------------------------------------------------------------------------\u001B[0m",
      "\u001B[0;31mNameError\u001B[0m                                 Traceback (most recent call last)",
      "Cell \u001B[0;32mIn[10], line 1\u001B[0m\n\u001B[0;32m----> 1\u001B[0m weights0 \u001B[38;5;241m=\u001B[39m \u001B[43mhb\u001B[49m\u001B[38;5;241m.\u001B[39minitial_random_weights(circle)\n\u001B[1;32m      3\u001B[0m display(weights0)\n",
      "\u001B[0;31mNameError\u001B[0m: name 'hb' is not defined"
     ]
    }
   ],
   "source": [
    "\n",
    "weights0 = hb.initial_random_weights(circle)\n",
    "\n",
    "display(weights0)"
   ],
   "metadata": {
    "collapsed": false,
    "ExecuteTime": {
     "start_time": "2023-04-04T15:00:38.223163Z",
     "end_time": "2023-04-04T15:00:38.226645Z"
    }
   }
  },
  {
   "cell_type": "code",
   "execution_count": 11,
   "outputs": [
    {
     "ename": "NameError",
     "evalue": "name 'hb' is not defined",
     "output_type": "error",
     "traceback": [
      "\u001B[0;31m---------------------------------------------------------------------------\u001B[0m",
      "\u001B[0;31mNameError\u001B[0m                                 Traceback (most recent call last)",
      "Cell \u001B[0;32mIn[11], line 3\u001B[0m\n\u001B[1;32m      1\u001B[0m matrix \u001B[38;5;241m=\u001B[39m circle\n\u001B[0;32m----> 3\u001B[0m I_n \u001B[38;5;241m=\u001B[39m \u001B[43mhb\u001B[49m\u001B[38;5;241m.\u001B[39minitial_input(matrix)\n\u001B[1;32m      4\u001B[0m W_n \u001B[38;5;241m=\u001B[39m hb\u001B[38;5;241m.\u001B[39minitial_random_weights(matrix)\n\u001B[1;32m      6\u001B[0m \u001B[38;5;28mprint\u001B[39m (I_n)\n",
      "\u001B[0;31mNameError\u001B[0m: name 'hb' is not defined"
     ]
    }
   ],
   "source": [
    "matrix = circle\n",
    "\n",
    "I_n = hb.initial_input(matrix)\n",
    "W_n = hb.initial_random_weights(matrix)\n",
    "\n",
    "print (I_n)\n",
    "print()\n",
    "print(W_n)"
   ],
   "metadata": {
    "collapsed": false,
    "ExecuteTime": {
     "start_time": "2023-04-04T15:00:38.685867Z",
     "end_time": "2023-04-04T15:00:38.690878Z"
    }
   }
  },
  {
   "cell_type": "markdown",
   "source": [
    "# output:\n",
    "list of lists\n",
    "[[0],   the 0th is the circle\n",
    "[0]]    the 1st is the diagonal cross\n",
    "\n"
   ],
   "metadata": {
    "collapsed": false
   }
  },
  {
   "cell_type": "code",
   "execution_count": 12,
   "outputs": [],
   "source": [
    "matrix = circle"
   ],
   "metadata": {
    "collapsed": false,
    "ExecuteTime": {
     "start_time": "2023-04-06T12:41:59.164854Z",
     "end_time": "2023-04-06T12:41:59.173751Z"
    }
   }
  },
  {
   "cell_type": "markdown",
   "source": [
    "Generate the imputs"
   ],
   "metadata": {
    "collapsed": false
   }
  },
  {
   "cell_type": "code",
   "execution_count": 13,
   "outputs": [
    {
     "ename": "NameError",
     "evalue": "name 'hb' is not defined",
     "output_type": "error",
     "traceback": [
      "\u001B[0;31m---------------------------------------------------------------------------\u001B[0m",
      "\u001B[0;31mNameError\u001B[0m                                 Traceback (most recent call last)",
      "Cell \u001B[0;32mIn[13], line 1\u001B[0m\n\u001B[0;32m----> 1\u001B[0m input_n \u001B[38;5;241m=\u001B[39m \u001B[43mhb\u001B[49m\u001B[38;5;241m.\u001B[39minitial_input(matrix)\n\u001B[1;32m      3\u001B[0m \u001B[38;5;28mprint\u001B[39m(input_n)\n",
      "\u001B[0;31mNameError\u001B[0m: name 'hb' is not defined"
     ]
    }
   ],
   "source": [
    "input_n = hb.initial_input(matrix)\n",
    "\n",
    "print(input_n)"
   ],
   "metadata": {
    "collapsed": false,
    "ExecuteTime": {
     "start_time": "2023-04-04T15:32:39.449789Z",
     "end_time": "2023-04-04T15:32:39.458013Z"
    }
   }
  },
  {
   "cell_type": "markdown",
   "source": [
    "Generate the initial weights0 (In W0n) and weights1 (In W1n)"
   ],
   "metadata": {
    "collapsed": false
   }
  },
  {
   "cell_type": "code",
   "execution_count": 14,
   "outputs": [
    {
     "ename": "NameError",
     "evalue": "name 'hb' is not defined",
     "output_type": "error",
     "traceback": [
      "\u001B[0;31m---------------------------------------------------------------------------\u001B[0m",
      "\u001B[0;31mNameError\u001B[0m                                 Traceback (most recent call last)",
      "Cell \u001B[0;32mIn[14], line 1\u001B[0m\n\u001B[0;32m----> 1\u001B[0m weights0 \u001B[38;5;241m=\u001B[39m\u001B[43mhb\u001B[49m\u001B[38;5;241m.\u001B[39minitial_random_weights(matrix)\n\u001B[1;32m      2\u001B[0m weights1 \u001B[38;5;241m=\u001B[39mhb\u001B[38;5;241m.\u001B[39minitial_random_weights(matrix)\n\u001B[1;32m      3\u001B[0m \u001B[38;5;28mprint\u001B[39m (weights0,\n\u001B[1;32m      4\u001B[0m \n\u001B[1;32m      5\u001B[0m        weights1)\n",
      "\u001B[0;31mNameError\u001B[0m: name 'hb' is not defined"
     ]
    }
   ],
   "source": [
    "weights0 =hb.initial_random_weights(matrix)\n",
    "weights1 =hb.initial_random_weights(matrix)\n",
    "print (weights0,\n",
    "\n",
    "       weights1)"
   ],
   "metadata": {
    "collapsed": false,
    "ExecuteTime": {
     "start_time": "2023-04-04T15:32:39.865954Z",
     "end_time": "2023-04-04T15:32:39.875988Z"
    }
   }
  },
  {
   "cell_type": "markdown",
   "source": [
    "set initial bias"
   ],
   "metadata": {
    "collapsed": false
   }
  },
  {
   "cell_type": "code",
   "execution_count": 15,
   "outputs": [],
   "source": [
    "import random\n",
    "bias0 = random.uniform(-1, 1)\n",
    "bias1 = random.uniform(-1, 1)"
   ],
   "metadata": {
    "collapsed": false,
    "ExecuteTime": {
     "start_time": "2023-04-06T12:42:03.463021Z",
     "end_time": "2023-04-06T12:42:03.469478Z"
    }
   }
  },
  {
   "cell_type": "markdown",
   "source": [
    "Calculate output"
   ],
   "metadata": {
    "collapsed": false
   }
  },
  {
   "cell_type": "code",
   "execution_count": 55,
   "outputs": [
    {
     "name": "stdout",
     "output_type": "stream",
     "text": [
      "[[0.86], [0.96]]\n"
     ]
    }
   ],
   "source": [
    "output = []\n",
    "output0 = sum(hb.matrix_multiplication(weights0,input_n), [])\n",
    "output1 = sum(hb.matrix_multiplication(weights1,input_n), [])\n",
    "\n",
    "\n",
    "output.append(output0)\n",
    "output.append(output1)\n",
    "\n",
    "# add bias\n",
    "output0[0] += bias_c\n",
    "output1[0] += bias_x\n",
    "\n",
    "\n",
    "# print(input_n)\n",
    "# print(weights0)\n",
    "print (output)"
   ],
   "metadata": {
    "collapsed": false,
    "ExecuteTime": {
     "start_time": "2023-04-04T15:32:40.747408Z",
     "end_time": "2023-04-04T15:32:40.752500Z"
    }
   }
  },
  {
   "cell_type": "code",
   "execution_count": 57,
   "outputs": [
    {
     "name": "stdout",
     "output_type": "stream",
     "text": [
      "[-0.4444444444444444]\n",
      "[[-0.5430583962778781], [0.15651011345992205]]\n"
     ]
    }
   ],
   "source": [
    "output = []\n",
    "output0 = sum(hb.matrix_multiplication(weight_c,input_n), [])\n",
    "output1 = sum(hb.matrix_multiplication(weight_x,input_n), [])\n",
    "\n",
    "output.append(output0)\n",
    "output.append(output1)\n",
    "\n",
    "# add bias\n",
    "output0[0] += bias0\n",
    "output1[0] += bias1\n",
    "\n",
    "# print the output\n",
    "print (output)\n"
   ],
   "metadata": {
    "collapsed": false,
    "ExecuteTime": {
     "start_time": "2023-04-04T15:38:43.166970Z",
     "end_time": "2023-04-04T15:38:43.171742Z"
    }
   }
  },
  {
   "cell_type": "markdown",
   "source": [
    "start to learn\n"
   ],
   "metadata": {
    "collapsed": false
   }
  },
  {
   "cell_type": "markdown",
   "source": [],
   "metadata": {
    "collapsed": false
   }
  },
  {
   "cell_type": "code",
   "execution_count": null,
   "outputs": [],
   "source": [],
   "metadata": {
    "collapsed": false
   }
  }
 ],
 "metadata": {
  "kernelspec": {
   "display_name": "Python 3",
   "language": "python",
   "name": "python3"
  },
  "language_info": {
   "codemirror_mode": {
    "name": "ipython",
    "version": 2
   },
   "file_extension": ".py",
   "mimetype": "text/x-python",
   "name": "python",
   "nbconvert_exporter": "python",
   "pygments_lexer": "ipython2",
   "version": "2.7.6"
  }
 },
 "nbformat": 4,
 "nbformat_minor": 0
}
