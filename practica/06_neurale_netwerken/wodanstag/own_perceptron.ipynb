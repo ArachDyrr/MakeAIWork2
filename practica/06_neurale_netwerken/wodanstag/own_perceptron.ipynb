{
 "cells": [
  {
   "cell_type": "code",
   "execution_count": 45,
   "outputs": [],
   "source": [
    "# create a sigmoid function without using math\n",
    "\n",
    "# functions to calulate matehmathical e\n",
    "\n",
    "def calculate_e(n):\n",
    "    e = 0\n",
    "    for i in range(n):\n",
    "        e += 1 / factorial(i)\n",
    "    return e\n",
    "\n",
    "def factorial(n):\n",
    "    if n == 0:\n",
    "        return 1\n",
    "    else:\n",
    "        return n * factorial(n-1)\n",
    "\n",
    "# Example usage\n",
    "calculated_e =calculate_e(2000)  # Output: 2.7182818011463845\n",
    "\n",
    "\n",
    "def sigmoid(x):\n",
    "    return 1 / (1 + pow(calculated_e, -x))\n"
   ],
   "metadata": {
    "collapsed": false,
    "ExecuteTime": {
     "start_time": "2023-04-06T11:27:29.175601Z",
     "end_time": "2023-04-06T11:27:30.066747Z"
    }
   }
  },
  {
   "cell_type": "code",
   "execution_count": 51,
   "outputs": [],
   "source": [
    "import random\n",
    "\n",
    "class Matrix:\n",
    "    \"\"\"Homebrew Matrix class\"\"\"\n",
    "\n",
    "    def __init__(self, argInput):\n",
    "        self.input = argInput\n",
    "        self.rows = len(argInput)\n",
    "        self.cols = len(argInput[0])\n",
    "\n",
    "    def printable(self):\n",
    "        \"\"\"generates a printable object\"\"\"\n",
    "        return self.input\n",
    "\n",
    "    def transpose(self):\n",
    "        \"\"\"transposes a matrix\"\"\"\n",
    "        transposed_input = list(map(list, zip(*self.input)))\n",
    "        return Matrix(transposed_input)\n",
    "\n",
    "    def shapeCohesionCheck(self):\n",
    "        \"\"\"Checks if all rows in a matrix have the same amount of items\"\"\"\n",
    "        row_nr = 0\n",
    "        base_row_length = len(self.input[0])\n",
    "        for item in self.input:\n",
    "            rows_col = len(self.input[row_nr])\n",
    "            if base_row_length != rows_col:\n",
    "                print(f'Error in {self.input} {item}')\n",
    "                return False\n",
    "            row_nr += 1\n",
    "        return True\n",
    "\n",
    "    def matrix_multiplication(self, other):\n",
    "        # Check that the number of columns in the first matrix matches the number of rows in the second matrix\n",
    "        if self.cols != other.rows:\n",
    "            raise ValueError(\"Matrix shapes do not match!\")\n",
    "        # Create an empty result matrix with the appropriate dimensions\n",
    "        result = Matrix.zeros(self.rows, other.cols)\n",
    "        # Perform the matrix multiplication by iterating over the rows of the first matrix and the columns of the second matrix\n",
    "        for i in range(self.rows):\n",
    "            for j in range(other.cols):\n",
    "                # Calculate the dot product of the i-th row of the first matrix and the j-th column of the second matrix\n",
    "                dot_product = 0\n",
    "                for k in range(self.cols):\n",
    "                    dot_product += self.input[i][k] * other.input[k][j]\n",
    "                # Set the corresponding element in the result matrix to the dot product\n",
    "                result.input[i][j] = dot_product\n",
    "        return result\n",
    "\n",
    "    def matrix_shape_check(self):\n",
    "        \"\"\"check if all rows in matrix have the same length\"\"\"\n",
    "        shape = len(self.input[0])\n",
    "        return all(len(row) == shape for row in self.input)\n",
    "\n",
    "    def __eq__(self, other):\n",
    "        return len(self.input[0]) == len(other.input)\n",
    "\n",
    "    def __mul__(self, other):\n",
    "        \"\"\"multiplies 2 matrixes\"\"\"\n",
    "        return self.matrix_multiplication(other)\n",
    "\n",
    "    @staticmethod\n",
    "    def zeros(rows, cols):\n",
    "        \"\"\"creates a matrix of zeros with given shape\"\"\"\n",
    "        return Matrix([[0 for j in range(cols)] for i in range(rows)])\n",
    "\n",
    "    @staticmethod\n",
    "    def random(rows, cols):\n",
    "        \"\"\"creates a matrix of random values with given shape\"\"\"\n",
    "        return Matrix([[random.uniform(-1, 1) for j in range(cols)] for i in range(rows)])\n"
   ],
   "metadata": {
    "collapsed": false,
    "ExecuteTime": {
     "start_time": "2023-04-06T11:31:29.750790Z",
     "end_time": "2023-04-06T11:31:29.764592Z"
    }
   }
  },
  {
   "cell_type": "markdown",
   "source": [],
   "metadata": {
    "collapsed": false
   }
  },
  {
   "cell_type": "code",
   "execution_count": 52,
   "outputs": [
    {
     "name": "stdout",
     "output_type": "stream",
     "text": [
      "[[3, 3], [3, 3]]\n"
     ]
    }
   ],
   "source": [
    "# test\n",
    "\n",
    "matrix9 = Matrix([[1,1,1],[1,1,1]])\n",
    "matrix8 = Matrix([[1,1],[1,1],[1,1]])\n",
    "\n",
    "result = matrix9*matrix8\n",
    "result = result.printable()\n",
    "print (result)"
   ],
   "metadata": {
    "collapsed": false,
    "ExecuteTime": {
     "start_time": "2023-04-06T11:31:34.131438Z",
     "end_time": "2023-04-06T11:31:34.150884Z"
    }
   }
  },
  {
   "cell_type": "code",
   "execution_count": 58,
   "outputs": [],
   "source": [
    "class Perceptron:\n",
    "    def __init__(self, num_inputs, learning_rate):\n",
    "        self.weights = [0] * num_inputs\n",
    "        self.learning_rate = learning_rate\n",
    "\n",
    "    def predict(self, inputs):\n",
    "        activation = 0\n",
    "        for i in range(len(inputs)):\n",
    "            activation += inputs[i] * self.weights[i]\n",
    "        return 1 if activation >= 0 else 0\n",
    "\n",
    "    def train(self, training_inputs, labels, num_epochs):\n",
    "        for epoch in range(num_epochs):\n",
    "            for i in range(len(training_inputs)):\n",
    "                prediction = self.predict(training_inputs[i])\n",
    "                error = labels[i] - prediction\n",
    "                for j in range(len(self.weights)):\n",
    "                    self.weights[j] += self.learning_rate * error * training_inputs[i][j]\n"
   ],
   "metadata": {
    "collapsed": false,
    "ExecuteTime": {
     "start_time": "2023-04-06T12:09:14.416695Z",
     "end_time": "2023-04-06T12:09:14.420414Z"
    }
   }
  },
  {
   "cell_type": "code",
   "execution_count": 59,
   "outputs": [
    {
     "ename": "NameError",
     "evalue": "name 'learning_rate' is not defined",
     "output_type": "error",
     "traceback": [
      "\u001B[0;31m---------------------------------------------------------------------------\u001B[0m",
      "\u001B[0;31mNameError\u001B[0m                                 Traceback (most recent call last)",
      "Cell \u001B[0;32mIn[59], line 12\u001B[0m\n\u001B[1;32m      9\u001B[0m x_labels \u001B[38;5;241m=\u001B[39m [\u001B[38;5;241m0\u001B[39m, \u001B[38;5;241m1\u001B[39m, \u001B[38;5;241m0\u001B[39m]\n\u001B[1;32m     11\u001B[0m \u001B[38;5;66;03m# Create perceptron instances\u001B[39;00m\n\u001B[0;32m---> 12\u001B[0m o_perceptron \u001B[38;5;241m=\u001B[39m Perceptron(\u001B[38;5;241m9\u001B[39m, \u001B[43mlearning_rate\u001B[49m)\n\u001B[1;32m     13\u001B[0m x_perceptron \u001B[38;5;241m=\u001B[39m Perceptron(\u001B[38;5;241m9\u001B[39m, learning_rate)\n\u001B[1;32m     15\u001B[0m \u001B[38;5;66;03m# Train perceptrons\u001B[39;00m\n",
      "\u001B[0;31mNameError\u001B[0m: name 'learning_rate' is not defined"
     ]
    }
   ],
   "source": [
    "# Training inputs for \"o\"\n",
    "o_inputs = [[1,1,1], [1,0,1], [1,1,1]]\n",
    "# Labels for \"o\"\n",
    "o_labels = [1, 0, 1]\n",
    "\n",
    "# Training inputs for \"x\"\n",
    "x_inputs = [[1,0,1], [0,1,0], [1,0,1]]\n",
    "# Labels for \"x\"\n",
    "x_labels = [0, 1, 0]\n",
    "\n",
    "# Create perceptron instances\n",
    "o_perceptron = Perceptron(9, learning_rate)\n",
    "x_perceptron = Perceptron(9, learning_rate)\n",
    "\n",
    "# Train perceptrons\n",
    "o_perceptron.train(o_inputs, o_labels, num_epochs)\n",
    "x_perceptron.train(x_inputs, x_labels, num_epochs)\n"
   ],
   "metadata": {
    "collapsed": false,
    "ExecuteTime": {
     "start_time": "2023-04-06T11:37:14.338992Z",
     "end_time": "2023-04-06T11:37:14.357147Z"
    }
   }
  },
  {
   "cell_type": "code",
   "execution_count": 55,
   "outputs": [
    {
     "ename": "AttributeError",
     "evalue": "type object 'Matrix' has no attribute 'dot_product'",
     "output_type": "error",
     "traceback": [
      "\u001B[0;31m---------------------------------------------------------------------------\u001B[0m",
      "\u001B[0;31mAttributeError\u001B[0m                            Traceback (most recent call last)",
      "Cell \u001B[0;32mIn[55], line 6\u001B[0m\n\u001B[1;32m      3\u001B[0m targets0 \u001B[38;5;241m=\u001B[39m [\u001B[38;5;241m0\u001B[39m]\n\u001B[1;32m      5\u001B[0m \u001B[38;5;66;03m# Train node0 to detect 0s\u001B[39;00m\n\u001B[0;32m----> 6\u001B[0m \u001B[43mnode0\u001B[49m\u001B[38;5;241;43m.\u001B[39;49m\u001B[43mtrain\u001B[49m\u001B[43m(\u001B[49m\u001B[43minputs0\u001B[49m\u001B[43m,\u001B[49m\u001B[43m \u001B[49m\u001B[43mtargets0\u001B[49m\u001B[43m,\u001B[49m\u001B[43m \u001B[49m\u001B[38;5;241;43m0.1\u001B[39;49m\u001B[43m,\u001B[49m\u001B[43m \u001B[49m\u001B[38;5;241;43m1000\u001B[39;49m\u001B[43m)\u001B[49m\n\u001B[1;32m      8\u001B[0m \u001B[38;5;66;03m# Input data for Xs\u001B[39;00m\n\u001B[1;32m      9\u001B[0m inputs1 \u001B[38;5;241m=\u001B[39m [Matrix([[\u001B[38;5;241m1\u001B[39m,\u001B[38;5;241m0\u001B[39m,\u001B[38;5;241m1\u001B[39m],[\u001B[38;5;241m0\u001B[39m,\u001B[38;5;241m1\u001B[39m,\u001B[38;5;241m0\u001B[39m],[\u001B[38;5;241m1\u001B[39m,\u001B[38;5;241m0\u001B[39m,\u001B[38;5;241m1\u001B[39m]])]\n",
      "Cell \u001B[0;32mIn[53], line 19\u001B[0m, in \u001B[0;36mPerceptron.train\u001B[0;34m(self, inputs, targets, learning_rate, epochs)\u001B[0m\n\u001B[1;32m     16\u001B[0m \u001B[38;5;28;01mfor\u001B[39;00m i \u001B[38;5;129;01min\u001B[39;00m \u001B[38;5;28mrange\u001B[39m(epochs):\n\u001B[1;32m     17\u001B[0m     \u001B[38;5;28;01mfor\u001B[39;00m j \u001B[38;5;129;01min\u001B[39;00m \u001B[38;5;28mrange\u001B[39m(\u001B[38;5;28mlen\u001B[39m(inputs)):\n\u001B[1;32m     18\u001B[0m         \u001B[38;5;66;03m# Feed forward the current inputs to get a prediction\u001B[39;00m\n\u001B[0;32m---> 19\u001B[0m         prediction \u001B[38;5;241m=\u001B[39m \u001B[38;5;28;43mself\u001B[39;49m\u001B[38;5;241;43m.\u001B[39;49m\u001B[43mguess\u001B[49m\u001B[43m(\u001B[49m\u001B[43minputs\u001B[49m\u001B[43m[\u001B[49m\u001B[43mj\u001B[49m\u001B[43m]\u001B[49m\u001B[43m)\u001B[49m\n\u001B[1;32m     21\u001B[0m         \u001B[38;5;66;03m# Compute the error between the prediction and the target\u001B[39;00m\n\u001B[1;32m     22\u001B[0m         error \u001B[38;5;241m=\u001B[39m targets[j] \u001B[38;5;241m-\u001B[39m prediction\n",
      "Cell \u001B[0;32mIn[53], line 11\u001B[0m, in \u001B[0;36mPerceptron.guess\u001B[0;34m(self, inputs)\u001B[0m\n\u001B[1;32m      9\u001B[0m \u001B[38;5;28;01mdef\u001B[39;00m \u001B[38;5;21mguess\u001B[39m(\u001B[38;5;28mself\u001B[39m, inputs):\n\u001B[1;32m     10\u001B[0m \u001B[38;5;250m    \u001B[39m\u001B[38;5;124;03m\"\"\"Computes the output of the perceptron for a given input\"\"\"\u001B[39;00m\n\u001B[0;32m---> 11\u001B[0m     \u001B[38;5;28msum\u001B[39m \u001B[38;5;241m=\u001B[39m \u001B[43mMatrix\u001B[49m\u001B[38;5;241;43m.\u001B[39;49m\u001B[43mdot_product\u001B[49m(\u001B[38;5;28mself\u001B[39m\u001B[38;5;241m.\u001B[39mweights\u001B[38;5;241m.\u001B[39mtranspose(), inputs) \u001B[38;5;241m+\u001B[39m \u001B[38;5;28mself\u001B[39m\u001B[38;5;241m.\u001B[39mbias\n\u001B[1;32m     12\u001B[0m     \u001B[38;5;28;01mreturn\u001B[39;00m sigmoid(\u001B[38;5;28msum\u001B[39m)\n",
      "\u001B[0;31mAttributeError\u001B[0m: type object 'Matrix' has no attribute 'dot_product'"
     ]
    }
   ],
   "source": [],
   "metadata": {
    "collapsed": false
   }
  },
  {
   "cell_type": "markdown",
   "source": [],
   "metadata": {
    "collapsed": false
   }
  },
  {
   "cell_type": "markdown",
   "source": [],
   "metadata": {
    "collapsed": false
   }
  },
  {
   "cell_type": "code",
   "execution_count": 60,
   "outputs": [
    {
     "ename": "IndexError",
     "evalue": "list index out of range",
     "output_type": "error",
     "traceback": [
      "\u001B[0;31m---------------------------------------------------------------------------\u001B[0m",
      "\u001B[0;31mIndexError\u001B[0m                                Traceback (most recent call last)",
      "Cell \u001B[0;32mIn[60], line 41\u001B[0m\n\u001B[1;32m     38\u001B[0m x_perceptron \u001B[38;5;241m=\u001B[39m Perceptron(\u001B[38;5;241m9\u001B[39m, learning_rate)\n\u001B[1;32m     40\u001B[0m \u001B[38;5;66;03m# Train perceptrons\u001B[39;00m\n\u001B[0;32m---> 41\u001B[0m \u001B[43mo_perceptron\u001B[49m\u001B[38;5;241;43m.\u001B[39;49m\u001B[43mtrain\u001B[49m\u001B[43m(\u001B[49m\u001B[43mo_inputs\u001B[49m\u001B[43m,\u001B[49m\u001B[43m \u001B[49m\u001B[43mo_labels\u001B[49m\u001B[43m,\u001B[49m\u001B[43m \u001B[49m\u001B[43mnum_epochs\u001B[49m\u001B[43m)\u001B[49m\n\u001B[1;32m     42\u001B[0m x_perceptron\u001B[38;5;241m.\u001B[39mtrain(x_inputs, x_labels, num_epochs)\n",
      "Cell \u001B[0;32mIn[60], line 18\u001B[0m, in \u001B[0;36mPerceptron.train\u001B[0;34m(self, training_inputs, labels, num_epochs)\u001B[0m\n\u001B[1;32m     16\u001B[0m error \u001B[38;5;241m=\u001B[39m labels[i] \u001B[38;5;241m-\u001B[39m prediction\n\u001B[1;32m     17\u001B[0m \u001B[38;5;28;01mfor\u001B[39;00m j \u001B[38;5;129;01min\u001B[39;00m \u001B[38;5;28mrange\u001B[39m(\u001B[38;5;28mlen\u001B[39m(\u001B[38;5;28mself\u001B[39m\u001B[38;5;241m.\u001B[39mweights)):\n\u001B[0;32m---> 18\u001B[0m     \u001B[38;5;28mself\u001B[39m\u001B[38;5;241m.\u001B[39mweights[j] \u001B[38;5;241m+\u001B[39m\u001B[38;5;241m=\u001B[39m \u001B[38;5;28mself\u001B[39m\u001B[38;5;241m.\u001B[39mlearning_rate \u001B[38;5;241m*\u001B[39m error \u001B[38;5;241m*\u001B[39m \u001B[43mtraining_inputs\u001B[49m\u001B[43m[\u001B[49m\u001B[43mi\u001B[49m\u001B[43m]\u001B[49m\u001B[43m[\u001B[49m\u001B[43mj\u001B[49m\u001B[43m]\u001B[49m\n",
      "\u001B[0;31mIndexError\u001B[0m: list index out of range"
     ]
    }
   ],
   "source": [
    "class Perceptron:\n",
    "    def __init__(self, num_inputs, learning_rate):\n",
    "        self.weights = [0] * num_inputs\n",
    "        self.learning_rate = learning_rate\n",
    "\n",
    "    def predict(self, inputs):\n",
    "        activation = 0\n",
    "        for i in range(len(inputs)):\n",
    "            activation += inputs[i] * self.weights[i]\n",
    "        return 1 if activation >= 0 else 0\n",
    "\n",
    "    def train(self, training_inputs, labels, num_epochs):\n",
    "        for epoch in range(num_epochs):\n",
    "            for i in range(len(training_inputs)):\n",
    "                prediction = self.predict(training_inputs[i])\n",
    "                error = labels[i] - prediction\n",
    "                for j in range(len(self.weights)):\n",
    "                    self.weights[j] += self.learning_rate * error * training_inputs[i][j]\n",
    "\n",
    "# Set learning rate\n",
    "learning_rate = 0.1\n",
    "\n",
    "# Training inputs for \"o\"\n",
    "o_inputs = [[1,1,1], [1,0,1], [1,1,1]]\n",
    "# Labels for \"o\"\n",
    "o_labels = [1, 0, 1]\n",
    "\n",
    "# Training inputs for \"x\"\n",
    "x_inputs = [[1,0,1], [0,1,0], [1,0,1]]\n",
    "# Labels for \"x\"\n",
    "x_labels = [0, 1, 0]\n",
    "\n",
    "# Set number of epochs\n",
    "num_epochs = 10\n",
    "\n",
    "# Create perceptron instances\n",
    "o_perceptron = Perceptron(9, learning_rate)\n",
    "x_perceptron = Perceptron(9, learning_rate)\n",
    "\n",
    "# Train perceptrons\n",
    "o_perceptron.train(o_inputs, o_labels, num_epochs)\n",
    "x_perceptron.train(x_inputs, x_labels, num_epochs)\n"
   ],
   "metadata": {
    "collapsed": false
   }
  },
  {
   "cell_type": "code",
   "execution_count": null,
   "outputs": [],
   "source": [],
   "metadata": {
    "collapsed": false
   }
  }
 ],
 "metadata": {
  "kernelspec": {
   "display_name": "Python 3",
   "language": "python",
   "name": "python3"
  },
  "language_info": {
   "codemirror_mode": {
    "name": "ipython",
    "version": 2
   },
   "file_extension": ".py",
   "mimetype": "text/x-python",
   "name": "python",
   "nbconvert_exporter": "python",
   "pygments_lexer": "ipython2",
   "version": "2.7.6"
  }
 },
 "nbformat": 4,
 "nbformat_minor": 0
}
