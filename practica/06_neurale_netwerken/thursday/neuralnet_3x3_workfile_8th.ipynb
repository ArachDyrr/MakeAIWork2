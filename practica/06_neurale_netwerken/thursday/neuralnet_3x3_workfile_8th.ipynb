{
 "cells": [
  {
   "cell_type": "code",
   "execution_count": 159,
   "outputs": [],
   "source": [
    "circle = [\n",
    "    [1,1,1],\n",
    "    [1,0,1],\n",
    "    [1,1,1]\n",
    "    ]\n",
    "cross = [\n",
    "    [1,0,1],\n",
    "    [0,1,0],\n",
    "    [1,0,1]\n",
    "]\n",
    "# hapes and labels\n",
    "shapes = [circle,cross]\n",
    "labels = [[1,0],[0,1]]\n",
    "\n",
    "# print(f\"cirle = {circle}, cross = {cross}\")"
   ],
   "metadata": {
    "collapsed": false,
    "ExecuteTime": {
     "start_time": "2023-04-07T23:06:19.863155Z",
     "end_time": "2023-04-07T23:06:19.869870Z"
    }
   }
  },
  {
   "cell_type": "code",
   "execution_count": 160,
   "outputs": [],
   "source": [
    "# import random\n",
    "# # create random array\n",
    "#\n",
    "# matrix = [[random.randint(0, 1) for j in range(3)] for i in range(3)]"
   ],
   "metadata": {
    "collapsed": false,
    "ExecuteTime": {
     "start_time": "2023-04-07T23:06:20.405990Z",
     "end_time": "2023-04-07T23:06:20.410890Z"
    }
   }
  },
  {
   "cell_type": "code",
   "execution_count": 161,
   "outputs": [],
   "source": [
    "# functions\n",
    "\n",
    "\n",
    "import random\n",
    "\n",
    "# bias0 = random.uniform(-1, 1)\n",
    "# bias1 = random.uniform(-1, 1)\n",
    "\n",
    "# print(bias0)\n",
    "\n",
    "# create the check to see if the matrix has the same amount of items per row\n",
    "\n",
    "\n",
    "def matrix_shape_check(matrix):\n",
    "    \"\"\"Checks if all rows in a matrix have the same amount of items\"\"\"\n",
    "    row_nr = 0\n",
    "    base_row_length = len(matrix[0])\n",
    "    for item in matrix:\n",
    "        rows_col = len(matrix[row_nr])\n",
    "        if base_row_length != rows_col:\n",
    "            print(f'Error in {matrix} {item}')\n",
    "            return False\n",
    "        row_nr += 1\n",
    "    return True\n",
    "\n",
    "\n",
    "# create the function to multiply the 2 matrixes\n",
    "\n",
    "def matrix_multiplication(matrix1, matrix2):\n",
    "    \"\"\"multiplies two matrixes if permitted\"\"\"\n",
    "    # check if both lists of lists have the proper shape to be a matrix.\n",
    "\n",
    "    if len(matrix1[0]) == len(matrix2):\n",
    "        pass\n",
    "    # DeMorgan\n",
    "    # not (A and B) == not A or not B\n",
    "\n",
    "        if not (matrix_shape_check(matrix1) and matrix_shape_check(matrix2)):\n",
    "            return None\n",
    "    else:\n",
    "        print('Matrix shapes != match!')\n",
    "        return None\n",
    "\n",
    "    # transpose matrix_2\n",
    "    matrix2t = list(map(list, zip(*matrix2)))\n",
    "\n",
    "    # create the new matrix for the multiplication result\n",
    "    matrix3 = []\n",
    "\n",
    "    # cycle true the matrixes to calculate the cells for matrix3 row by row and add them to the new matrix\n",
    "    for i in range(len(matrix1)):\n",
    "        row = []\n",
    "        for j in range(len(matrix2[0])):\n",
    "            cel = list(map(lambda x, y: x * y, matrix1[i], matrix2t[j]))\n",
    "            cel_s = sum(cel)\n",
    "            row.append(cel_s)\n",
    "        matrix3.append(row)\n",
    "\n",
    "    return matrix3\n",
    "\n",
    "\n",
    "def initial_input(list_of_list_matrix):\n",
    "    \"\"\"flaten a matrix to ( n * 0) \"\"\"\n",
    "    flattned_matrix = [sum(list_of_list_matrix, [])]\n",
    "    initial_matrix = list(map(list, zip(*flattned_matrix)))\n",
    "    return initial_matrix\n",
    "    # return flattned_matrix\n",
    "\n",
    "\n",
    "# a function to generate random weights\n",
    "def initial_random_weights(i_n):\n",
    "    \"\"\"generate random weights totaling to 1\"\"\"\n",
    "\n",
    "    i_n = [sum(i_n, [])]\n",
    "\n",
    "    # Generate n random values\n",
    "    initial_weights = [random.random() for i in range(len(i_n[0]))]\n",
    "\n",
    "    # Calculate the sum of the random values\n",
    "    weight_sum = sum(initial_weights)\n",
    "\n",
    "    # Divide each random value by the sum to normalize them\n",
    "    random_weights = [round(item/weight_sum,2) for item in initial_weights]\n",
    "\n",
    "    return [random_weights]\n",
    "\n",
    "def softmax(output):\n",
    "    output0 = output[0][0]\n",
    "    output1 = output[1][0]\n",
    "    e = 2.718281828459045\n",
    "    softmax_output0 = e ** output0 / (e ** output0 + e ** output1)\n",
    "    softmax_output1 = e ** output1 / (e ** output0 + e ** output1)\n",
    "    return [[softmax_output0], [softmax_output1]]\n",
    "\n",
    "def result_label(softmax_output):\n",
    "    if softmax_output[0] < softmax_output[1]:\n",
    "        return circle\n",
    "    elif softmax_output[1] < softmax_output[0]:\n",
    "        return cross\n",
    "    else:\n",
    "        return None\n",
    "\n",
    "def result_string(softmax_output):\n",
    "    if softmax_output[0] < softmax_output[1]:\n",
    "        return 'circle'\n",
    "    elif softmax_output[1] < softmax_output[0]:\n",
    "        return 'cross'\n",
    "    else:\n",
    "        return 'None'\n",
    "\n",
    "\n",
    "# prediction\n",
    "def predict(shape):\n",
    "    # make empty list\n",
    "    output = []\n",
    "    output0 = sum(matrix_multiplication(weights0,shape), [])\n",
    "    output1 = sum(matrix_multiplication(weights1,shape), [])\n",
    "\n",
    "    # add bias\n",
    "    output0[0] += bias0\n",
    "    output1[0] += bias1\n",
    "\n",
    "    output.append(output0)\n",
    "    output.append(output1)\n",
    "\n",
    "    return output\n",
    "\n",
    "\n",
    "\n",
    "\n",
    "\n",
    "def gradientDescent(shapes, labels):\n",
    "    # (inputShapes, outputLabels: X,Y)\n",
    "# stochastic (= per sample) of alle samples (= gemiddelde van een aantal samples of een deel van de hele set (= batch)\n",
    "# hier kiezen we per sample\n",
    "    for i in range(len(shapes)):\n",
    "        Yhats = predict(shapes[i])\n",
    "        error0 = labels[i][0] - Yhats[0][0]\n",
    "        error1 = labels[i][1] - Yhats[1][0]\n",
    "\n",
    "        # input\n",
    "        dw0 = -2 * error0 * shapes[i][0][0]\n",
    "        dw1 = -2 * error0 * shapes[i][0][1]\n",
    "        dw2 = -2 * error0 * shapes[i][0][2]\n",
    "        dw3 = -2 * error0 * shapes[i][1][0]\n",
    "        dw4 = -2 * error0 * shapes[i][1][1]\n",
    "        dw5 = -2 * error0 * shapes[i][1][2]\n",
    "        dw6 = -2 * error0 * shapes[i][2][0]\n",
    "        dw7 = -2 * error0 * shapes[i][2][1]\n",
    "        dw8 = -2 * error0 * shapes[i][2][2]\n",
    "        db  = -2 * error0\n",
    "\n",
    "        weights0[0][0] -= learnRate * dw0\n",
    "        weights0[0][1] -= learnRate * dw1\n",
    "        weights0[0][2] -= learnRate * dw2\n",
    "        weights0[0][3] -= learnRate * dw3\n",
    "        weights0[0][4] -= learnRate * dw4\n",
    "        weights0[0][5] -= learnRate * dw5\n",
    "        weights0[0][6] -= learnRate * dw6\n",
    "        weights0[0][7] -= learnRate * dw7\n",
    "        weights0[0][8] -= learnRate * dw8\n",
    "        bias0 -= learnRate * db\n",
    "\n",
    "        # input\n",
    "        dw0 = -2 * error1 * shapes[i][0][0]\n",
    "        dw1 = -2 * error1 * shapes[i][0][1]\n",
    "        dw2 = -2 * error1 * shapes[i][0][2]\n",
    "        dw3 = -2 * error1 * shapes[i][1][0]\n",
    "        dw4 = -2 * error1 * shapes[i][1][1]\n",
    "        dw5 = -2 * error1 * shapes[i][1][2]\n",
    "        dw6 = -2 * error1 * shapes[i][2][0]\n",
    "        dw7 = -2 * error1 * shapes[i][2][1]\n",
    "        dw8 = -2 * error1 * shapes[i][2][2]\n",
    "        db  = -2 * error1\n",
    "\n",
    "        weights1[0][0] -= learnRate * dw0\n",
    "        weights1[0][1] -= learnRate * dw1\n",
    "        weights1[0][2] -= learnRate * dw2\n",
    "        weights1[0][3] -= learnRate * dw3\n",
    "        weights1[0][4] -= learnRate * dw4\n",
    "        weights1[0][5] -= learnRate * dw5\n",
    "        weights1[0][6] -= learnRate * dw6\n",
    "        weights1[0][7] -= learnRate * dw7\n",
    "        weights1[0][8] -= learnRate * dw8\n",
    "        bias1 -= learnRate * db\n",
    "\n",
    "\n",
    "\n",
    "\n"
   ],
   "metadata": {
    "collapsed": false,
    "ExecuteTime": {
     "start_time": "2023-04-07T23:06:20.955768Z",
     "end_time": "2023-04-07T23:06:20.957337Z"
    }
   }
  },
  {
   "cell_type": "markdown",
   "source": [
    "# output:\n",
    "list of lists\n",
    "[[0],   the 0th is the circle\n",
    "[0]]    the 1st is the diagonal cross\n",
    "\n"
   ],
   "metadata": {
    "collapsed": false
   }
  },
  {
   "cell_type": "markdown",
   "source": [
    "Generate the imputs and the initial weights0 (In W0n) and weights1 (In W1n) and initial biases and bias0 bias1"
   ],
   "metadata": {
    "collapsed": false
   }
  },
  {
   "cell_type": "code",
   "execution_count": 162,
   "outputs": [],
   "source": [
    "matrix = [[random.randint(0, 1) for j in range(3)] for i in range(3)]"
   ],
   "metadata": {
    "collapsed": false,
    "ExecuteTime": {
     "start_time": "2023-04-07T23:06:22.446497Z",
     "end_time": "2023-04-07T23:06:22.454387Z"
    }
   }
  },
  {
   "cell_type": "code",
   "execution_count": 163,
   "outputs": [],
   "source": [
    "\n",
    "weights0 =initial_random_weights(matrix)\n",
    "weights1 =initial_random_weights(matrix)\n",
    "bias0 = random.uniform(-1, 1)\n",
    "bias1 = random.uniform(-1, 1)"
   ],
   "metadata": {
    "collapsed": false,
    "ExecuteTime": {
     "start_time": "2023-04-07T23:06:22.980506Z",
     "end_time": "2023-04-07T23:06:22.993814Z"
    }
   }
  },
  {
   "cell_type": "markdown",
   "source": [
    "Calculate output"
   ],
   "metadata": {
    "collapsed": false
   }
  },
  {
   "cell_type": "markdown",
   "source": [
    "apply a softmax"
   ],
   "metadata": {
    "collapsed": false
   }
  },
  {
   "cell_type": "code",
   "execution_count": 164,
   "outputs": [],
   "source": [
    "# #  what does output mean?\n",
    "# lookslike_matrix = result_label(softmax_output)\n",
    "# lookslike_string = result_string(softmax_output)\n"
   ],
   "metadata": {
    "collapsed": false,
    "ExecuteTime": {
     "start_time": "2023-04-07T23:06:24.610912Z",
     "end_time": "2023-04-07T23:06:24.618380Z"
    }
   }
  },
  {
   "cell_type": "code",
   "execution_count": 165,
   "outputs": [],
   "source": [
    "# output = []\n",
    "# output0 = sum(matrix_multiplication(weight_c,input_n), [])\n",
    "# output1 = sum(matrix_multiplication(weight_x,input_n), [])\n",
    "#\n",
    "# output.append(output0)\n",
    "# output.append(output1)\n",
    "#\n",
    "# # add bias\n",
    "# output0[0] += bias_c\n",
    "# output1[0] += bias_x\n",
    "#\n",
    "# # print the output\n",
    "# print (output)\n"
   ],
   "metadata": {
    "collapsed": false,
    "ExecuteTime": {
     "start_time": "2023-04-07T23:06:25.215969Z",
     "end_time": "2023-04-07T23:06:25.220671Z"
    }
   }
  },
  {
   "cell_type": "markdown",
   "source": [
    "start to learn\n"
   ],
   "metadata": {
    "collapsed": false
   }
  },
  {
   "cell_type": "code",
   "execution_count": 166,
   "outputs": [
    {
     "name": "stdout",
     "output_type": "stream",
     "text": [
      "Matrix shapes != match!\n"
     ]
    },
    {
     "ename": "TypeError",
     "evalue": "'NoneType' object is not iterable",
     "output_type": "error",
     "traceback": [
      "\u001B[0;31m---------------------------------------------------------------------------\u001B[0m",
      "\u001B[0;31mTypeError\u001B[0m                                 Traceback (most recent call last)",
      "Cell \u001B[0;32mIn[166], line 12\u001B[0m\n\u001B[1;32m      6\u001B[0m \u001B[38;5;66;03m# weightVector0 = initializeWeightMatrix(9)\u001B[39;00m\n\u001B[1;32m      7\u001B[0m \u001B[38;5;66;03m# weightVector1 = initializeWeightMatrix(9)\u001B[39;00m\n\u001B[1;32m      8\u001B[0m \u001B[38;5;66;03m# # bias0 en bias1 zitten hier al in een lijst\u001B[39;00m\n\u001B[1;32m      9\u001B[0m \u001B[38;5;66;03m# biasVector = initializeBias(2)\u001B[39;00m\n\u001B[1;32m     11\u001B[0m \u001B[38;5;28;01mfor\u001B[39;00m epoch \u001B[38;5;129;01min\u001B[39;00m \u001B[38;5;28mrange\u001B[39m(epochs):\n\u001B[0;32m---> 12\u001B[0m     \u001B[43mgradientDescent\u001B[49m\u001B[43m(\u001B[49m\u001B[43mshapes\u001B[49m\u001B[43m,\u001B[49m\u001B[43m \u001B[49m\u001B[43mlabels\u001B[49m\u001B[43m)\u001B[49m\n\u001B[1;32m     13\u001B[0m     \u001B[38;5;66;03m# print(MSE(inputShapes, outputLabels))\u001B[39;00m\n\u001B[1;32m     14\u001B[0m \n\u001B[1;32m     15\u001B[0m \u001B[38;5;66;03m# print(biasVector)\u001B[39;00m\n",
      "Cell \u001B[0;32mIn[161], line 137\u001B[0m, in \u001B[0;36mgradientDescent\u001B[0;34m(shapes, labels)\u001B[0m\n\u001B[1;32m    132\u001B[0m \u001B[38;5;28;01mdef\u001B[39;00m \u001B[38;5;21mgradientDescent\u001B[39m(shapes, labels):\n\u001B[1;32m    133\u001B[0m     \u001B[38;5;66;03m# (inputShapes, outputLabels: X,Y)\u001B[39;00m\n\u001B[1;32m    134\u001B[0m \u001B[38;5;66;03m# stochastic (= per sample) of alle samples (= gemiddelde van een aantal samples of een deel van de hele set (= batch)\u001B[39;00m\n\u001B[1;32m    135\u001B[0m \u001B[38;5;66;03m# hier kiezen we per sample\u001B[39;00m\n\u001B[1;32m    136\u001B[0m     \u001B[38;5;28;01mfor\u001B[39;00m i \u001B[38;5;129;01min\u001B[39;00m \u001B[38;5;28mrange\u001B[39m(\u001B[38;5;28mlen\u001B[39m(shapes)):\n\u001B[0;32m--> 137\u001B[0m         Yhats \u001B[38;5;241m=\u001B[39m \u001B[43mpredict\u001B[49m\u001B[43m(\u001B[49m\u001B[43mshapes\u001B[49m\u001B[43m[\u001B[49m\u001B[43mi\u001B[49m\u001B[43m]\u001B[49m\u001B[43m)\u001B[49m\n\u001B[1;32m    138\u001B[0m         error0 \u001B[38;5;241m=\u001B[39m labels[i][\u001B[38;5;241m0\u001B[39m] \u001B[38;5;241m-\u001B[39m Yhats[\u001B[38;5;241m0\u001B[39m][\u001B[38;5;241m0\u001B[39m]\n\u001B[1;32m    139\u001B[0m         error1 \u001B[38;5;241m=\u001B[39m labels[i][\u001B[38;5;241m1\u001B[39m] \u001B[38;5;241m-\u001B[39m Yhats[\u001B[38;5;241m1\u001B[39m][\u001B[38;5;241m0\u001B[39m]\n",
      "Cell \u001B[0;32mIn[161], line 116\u001B[0m, in \u001B[0;36mpredict\u001B[0;34m(shape)\u001B[0m\n\u001B[1;32m    113\u001B[0m \u001B[38;5;28;01mdef\u001B[39;00m \u001B[38;5;21mpredict\u001B[39m(shape):\n\u001B[1;32m    114\u001B[0m     \u001B[38;5;66;03m# make empty list\u001B[39;00m\n\u001B[1;32m    115\u001B[0m     output \u001B[38;5;241m=\u001B[39m []\n\u001B[0;32m--> 116\u001B[0m     output0 \u001B[38;5;241m=\u001B[39m \u001B[38;5;28;43msum\u001B[39;49m\u001B[43m(\u001B[49m\u001B[43mmatrix_multiplication\u001B[49m\u001B[43m(\u001B[49m\u001B[43mweights0\u001B[49m\u001B[43m,\u001B[49m\u001B[43mshape\u001B[49m\u001B[43m)\u001B[49m\u001B[43m,\u001B[49m\u001B[43m \u001B[49m\u001B[43m[\u001B[49m\u001B[43m]\u001B[49m\u001B[43m)\u001B[49m\n\u001B[1;32m    117\u001B[0m     output1 \u001B[38;5;241m=\u001B[39m \u001B[38;5;28msum\u001B[39m(matrix_multiplication(weights1,shape), [])\n\u001B[1;32m    119\u001B[0m     \u001B[38;5;66;03m# add bias\u001B[39;00m\n",
      "\u001B[0;31mTypeError\u001B[0m: 'NoneType' object is not iterable"
     ]
    }
   ],
   "source": [
    "# learning steps, size and amount\n",
    "\n",
    "learnRate = 0.01\n",
    "epochs = 1000\n",
    "\n",
    "# weightVector0 = initializeWeightMatrix(9)\n",
    "# weightVector1 = initializeWeightMatrix(9)\n",
    "# # bias0 en bias1 zitten hier al in een lijst\n",
    "# biasVector = initializeBias(2)\n",
    "\n",
    "for epoch in range(epochs):\n",
    "    gradientDescent(shapes, labels)\n",
    "    # print(MSE(inputShapes, outputLabels))\n",
    "\n",
    "# print(biasVector)"
   ],
   "metadata": {
    "collapsed": false,
    "ExecuteTime": {
     "start_time": "2023-04-07T23:06:11.598890Z",
     "end_time": "2023-04-07T23:06:11.637826Z"
    }
   }
  },
  {
   "cell_type": "markdown",
   "source": [],
   "metadata": {
    "collapsed": false
   }
  },
  {
   "cell_type": "markdown",
   "source": [
    "visualisation!"
   ],
   "metadata": {
    "collapsed": false
   }
  },
  {
   "cell_type": "code",
   "execution_count": null,
   "outputs": [],
   "source": [
    "import matplotlib.pyplot as plt\n",
    "\n",
    "\n",
    "\n",
    "# Create a grayscale colormap\n",
    "cmap = plt.get_cmap('gray')\n",
    "\n",
    "# Set up a figure with two subplots\n",
    "fig, (ax1, ax2) = plt.subplots(1, 2)\n",
    "\n",
    "# Display the cross array in the left subplot\n",
    "ax1.imshow(matrix, cmap=cmap)\n",
    "ax1.axis('off')\n",
    "\n",
    "# Display the circle array in the right subplot\n",
    "ax2.imshow(lookslike_matrix, cmap=cmap)\n",
    "ax2.axis('off')\n",
    "\n",
    "# Show the plot\n",
    "plt.show()\n",
    "print(f'The image looks most like a {lookslike_string}')\n"
   ],
   "metadata": {
    "collapsed": false,
    "ExecuteTime": {
     "start_time": "2023-04-06T15:44:26.875332Z",
     "end_time": "2023-04-06T15:44:26.896767Z"
    }
   }
  },
  {
   "cell_type": "code",
   "execution_count": null,
   "outputs": [],
   "source": [],
   "metadata": {
    "collapsed": false
   }
  }
 ],
 "metadata": {
  "kernelspec": {
   "display_name": "Python 3",
   "language": "python",
   "name": "python3"
  },
  "language_info": {
   "codemirror_mode": {
    "name": "ipython",
    "version": 2
   },
   "file_extension": ".py",
   "mimetype": "text/x-python",
   "name": "python",
   "nbconvert_exporter": "python",
   "pygments_lexer": "ipython2",
   "version": "2.7.6"
  }
 },
 "nbformat": 4,
 "nbformat_minor": 0
}
