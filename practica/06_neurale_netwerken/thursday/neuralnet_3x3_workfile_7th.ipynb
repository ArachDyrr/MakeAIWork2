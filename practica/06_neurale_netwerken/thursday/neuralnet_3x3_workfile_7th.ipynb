{
 "cells": [
  {
   "cell_type": "code",
   "execution_count": 75,
   "metadata": {
    "collapsed": true,
    "ExecuteTime": {
     "start_time": "2023-04-06T14:23:51.855804Z",
     "end_time": "2023-04-06T14:23:51.864061Z"
    }
   },
   "outputs": [],
   "source": [
    "circle = [\n",
    "    [1,1,1],\n",
    "    [1,0,1],\n",
    "    [1,1,1]\n",
    "    ]"
   ]
  },
  {
   "cell_type": "code",
   "execution_count": 76,
   "outputs": [],
   "source": [
    "cross = [\n",
    "    [1,0,1],\n",
    "    [0,1,0],\n",
    "    [1,0,1]\n",
    "\n",
    "]"
   ],
   "metadata": {
    "collapsed": false,
    "ExecuteTime": {
     "start_time": "2023-04-06T14:23:52.740134Z",
     "end_time": "2023-04-06T14:23:52.751139Z"
    }
   }
  },
  {
   "cell_type": "code",
   "execution_count": 77,
   "outputs": [
    {
     "name": "stdout",
     "output_type": "stream",
     "text": [
      "cirle = [[1, 1, 1], [1, 0, 1], [1, 1, 1]], cross = [[1, 0, 1], [0, 1, 0], [1, 0, 1]]\n"
     ]
    }
   ],
   "source": [
    "print(f\"cirle = {circle}, cross = {cross}\")"
   ],
   "metadata": {
    "collapsed": false,
    "ExecuteTime": {
     "start_time": "2023-04-06T14:23:53.506434Z",
     "end_time": "2023-04-06T14:23:53.519045Z"
    }
   }
  },
  {
   "cell_type": "code",
   "execution_count": 78,
   "outputs": [],
   "source": [
    "import random\n",
    "\n",
    "# create the check to see if the matrix has the same amount of items per row\n",
    "\n",
    "\n",
    "def matrix_shape_check(matrix):\n",
    "    \"\"\"Checks if all rows in a matrix have the same amount of items\"\"\"\n",
    "    row_nr = 0\n",
    "    base_row_length = len(matrix[0])\n",
    "    for item in matrix:\n",
    "        rows_col = len(matrix[row_nr])\n",
    "        if base_row_length != rows_col:\n",
    "            print(f'Error in {matrix} {item}')\n",
    "            return False\n",
    "        row_nr += 1\n",
    "    return True\n",
    "\n",
    "\n",
    "# create the function to multiply the 2 matrixes\n",
    "\n",
    "def matrix_multiplication(matrix1, matrix2):\n",
    "    \"\"\"multiplies two matrixes if permitted\"\"\"\n",
    "    # check if both lists of lists have the proper shape to be a matrix.\n",
    "\n",
    "    if len(matrix1[0]) == len(matrix2):\n",
    "        pass\n",
    "    # DeMorgan\n",
    "    # not (A and B) == not A or not B\n",
    "\n",
    "        if not (matrix_shape_check(matrix1) and matrix_shape_check(matrix2)):\n",
    "            return None\n",
    "    else:\n",
    "        print('Matrix shapes != match!')\n",
    "        return None\n",
    "\n",
    "    # transpose matrix_2\n",
    "    matrix2t = list(map(list, zip(*matrix2)))\n",
    "\n",
    "    # create the new matrix for the multiplication result\n",
    "    matrix3 = []\n",
    "\n",
    "    # cycle true the matrixes to calculate the cells for matrix3 row by row and add them to the new matrix\n",
    "    for i in range(len(matrix1)):\n",
    "        row = []\n",
    "        for j in range(len(matrix2[0])):\n",
    "            cel = list(map(lambda x, y: x * y, matrix1[i], matrix2t[j]))\n",
    "            cel_s = sum(cel)\n",
    "            row.append(cel_s)\n",
    "        matrix3.append(row)\n",
    "\n",
    "    return matrix3\n",
    "\n",
    "\n",
    "def initial_input(list_of_list_matrix):\n",
    "    \"\"\"flaten a matrix to ( n * 0) \"\"\"\n",
    "    flattned_matrix = [sum(list_of_list_matrix, [])]\n",
    "    initial_matrix = list(map(list, zip(*flattned_matrix)))\n",
    "    return initial_matrix\n",
    "    # return flattned_matrix\n",
    "\n",
    "\n",
    "# a function to generate random weights\n",
    "def initial_random_weights(i_n):\n",
    "    \"\"\"generate random weights totaling to 1\"\"\"\n",
    "\n",
    "    i_n = [sum(i_n, [])]\n",
    "\n",
    "    # Generate n random values\n",
    "    initial_weights = [random.random() for i in range(len(i_n[0]))]\n",
    "\n",
    "    # Calculate the sum of the random values\n",
    "    weight_sum = sum(initial_weights)\n",
    "\n",
    "    # Divide each random value by the sum to normalize them\n",
    "    random_weights = [round(item/weight_sum,2) for item in initial_weights]\n",
    "\n",
    "    return [random_weights]\n"
   ],
   "metadata": {
    "collapsed": false,
    "ExecuteTime": {
     "start_time": "2023-04-06T14:23:54.120969Z",
     "end_time": "2023-04-06T14:23:54.123606Z"
    }
   }
  },
  {
   "cell_type": "code",
   "execution_count": 79,
   "outputs": [],
   "source": [
    "# def matrix_flattener(list_of_list_matrix):\n",
    "#     flattned_matrix = sum(list_of_list_matrix, [])\n",
    "#     return flattned_matrix\n",
    "\n",
    "# import homebrew_functions as hb"
   ],
   "metadata": {
    "collapsed": false,
    "ExecuteTime": {
     "start_time": "2023-04-06T14:23:54.716411Z",
     "end_time": "2023-04-06T14:23:54.720878Z"
    }
   }
  },
  {
   "cell_type": "code",
   "execution_count": 80,
   "outputs": [
    {
     "data": {
      "text/plain": "[[0.11, 0.16, 0.23, 0.06, 0.04, 0.08, 0.01, 0.18, 0.15]]"
     },
     "metadata": {},
     "output_type": "display_data"
    }
   ],
   "source": [
    "\n",
    "weights0 = initial_random_weights(circle)\n",
    "\n",
    "display(weights0)"
   ],
   "metadata": {
    "collapsed": false,
    "ExecuteTime": {
     "start_time": "2023-04-06T14:23:55.249101Z",
     "end_time": "2023-04-06T14:23:55.256915Z"
    }
   }
  },
  {
   "cell_type": "code",
   "execution_count": 122,
   "outputs": [
    {
     "name": "stdout",
     "output_type": "stream",
     "text": [
      "[[0], [1], [0], [0], [0], [1], [1], [1], [1]]\n",
      "\n",
      "[[0.12, 0.06, 0.13, 0.08, 0.13, 0.06, 0.18, 0.11, 0.11]]\n"
     ]
    }
   ],
   "source": [
    "import random\n",
    "# create random array\n",
    "\n",
    "matrix = [[random.randint(0, 1) for j in range(3)] for i in range(3)]\n",
    "\n",
    "\n",
    "\n",
    "I_n = initial_input(matrix)\n",
    "W_n = initial_random_weights(matrix)\n",
    "\n",
    "print (I_n)\n",
    "print()\n",
    "print(W_n)"
   ],
   "metadata": {
    "collapsed": false,
    "ExecuteTime": {
     "start_time": "2023-04-06T14:50:38.865314Z",
     "end_time": "2023-04-06T14:50:38.876008Z"
    }
   }
  },
  {
   "cell_type": "markdown",
   "source": [
    "# output:\n",
    "list of lists\n",
    "[[0],   the 0th is the circle\n",
    "[0]]    the 1st is the diagonal cross\n",
    "\n"
   ],
   "metadata": {
    "collapsed": false
   }
  },
  {
   "cell_type": "code",
   "execution_count": 123,
   "outputs": [],
   "source": [
    "matrix = matrix"
   ],
   "metadata": {
    "collapsed": false,
    "ExecuteTime": {
     "start_time": "2023-04-06T14:50:46.474061Z",
     "end_time": "2023-04-06T14:50:46.476633Z"
    }
   }
  },
  {
   "cell_type": "markdown",
   "source": [
    "Generate the imputs"
   ],
   "metadata": {
    "collapsed": false
   }
  },
  {
   "cell_type": "code",
   "execution_count": 124,
   "outputs": [
    {
     "name": "stdout",
     "output_type": "stream",
     "text": [
      "[[0], [1], [0], [0], [0], [1], [1], [1], [1]]\n"
     ]
    }
   ],
   "source": [
    "input_n = initial_input(matrix)\n",
    "\n",
    "print(input_n)"
   ],
   "metadata": {
    "collapsed": false,
    "ExecuteTime": {
     "start_time": "2023-04-06T14:50:47.164101Z",
     "end_time": "2023-04-06T14:50:47.167862Z"
    }
   }
  },
  {
   "cell_type": "markdown",
   "source": [
    "Generate the initial weights0 (In W0n) and weights1 (In W1n)"
   ],
   "metadata": {
    "collapsed": false
   }
  },
  {
   "cell_type": "code",
   "execution_count": 125,
   "outputs": [
    {
     "name": "stdout",
     "output_type": "stream",
     "text": [
      "[[0.01, 0.01, 0.05, 0.21, 0.07, 0.11, 0.24, 0.05, 0.26]] [[0.09, 0.1, 0.1, 0.08, 0.17, 0.06, 0.04, 0.18, 0.19]]\n"
     ]
    }
   ],
   "source": [
    "weights0 =initial_random_weights(matrix)\n",
    "weights1 =initial_random_weights(matrix)\n",
    "print (weights0,\n",
    "\n",
    "       weights1)"
   ],
   "metadata": {
    "collapsed": false,
    "ExecuteTime": {
     "start_time": "2023-04-06T14:50:47.647284Z",
     "end_time": "2023-04-06T14:50:47.660943Z"
    }
   }
  },
  {
   "cell_type": "markdown",
   "source": [
    "set initial bias"
   ],
   "metadata": {
    "collapsed": false
   }
  },
  {
   "cell_type": "code",
   "execution_count": 126,
   "outputs": [],
   "source": [
    "import random\n",
    "bias0 = random.uniform(-1, 1)\n",
    "bias1 = random.uniform(-1, 1)\n",
    "\n",
    "bias0 = 0\n",
    "bias1 = 0"
   ],
   "metadata": {
    "collapsed": false,
    "ExecuteTime": {
     "start_time": "2023-04-06T14:50:48.024819Z",
     "end_time": "2023-04-06T14:50:48.031510Z"
    }
   }
  },
  {
   "cell_type": "markdown",
   "source": [
    "Calculate output"
   ],
   "metadata": {
    "collapsed": false
   }
  },
  {
   "cell_type": "code",
   "execution_count": 127,
   "outputs": [
    {
     "name": "stdout",
     "output_type": "stream",
     "text": [
      "[[0.6699999999999999], [0.5700000000000001]]\n",
      "<class 'list'>\n"
     ]
    }
   ],
   "source": [
    "output = []\n",
    "output0 = sum(matrix_multiplication(weights0,input_n), [])\n",
    "output1 = sum(matrix_multiplication(weights1,input_n), [])\n",
    "\n",
    "\n",
    "output.append(output0)\n",
    "output.append(output1)\n",
    "\n",
    "# add bias\n",
    "output0[0] += bias0\n",
    "output1[0] += bias1\n",
    "\n",
    "\n",
    "# print(input_n)\n",
    "# print(weights0)\n",
    "print (output)\n",
    "print (type(output))"
   ],
   "metadata": {
    "collapsed": false,
    "ExecuteTime": {
     "start_time": "2023-04-06T14:50:48.461617Z",
     "end_time": "2023-04-06T14:50:48.473368Z"
    }
   }
  },
  {
   "cell_type": "markdown",
   "source": [
    "apply a softmax"
   ],
   "metadata": {
    "collapsed": false
   }
  },
  {
   "cell_type": "code",
   "execution_count": 128,
   "outputs": [
    {
     "name": "stdout",
     "output_type": "stream",
     "text": [
      "<class 'list'>\n",
      "[[0.4850044983805899], [0.5149955016194101]]\n"
     ]
    }
   ],
   "source": [
    "def softmax(output):\n",
    "    output0 = output[0][0]\n",
    "    output1 = output[1][0]\n",
    "    e = 2.718281828459045\n",
    "    softmax_output0 = e ** output0 / (e ** output0 + e ** output1)\n",
    "    softmax_output1 = e ** output1 / (e ** output0 + e ** output1)\n",
    "    return [[softmax_output0], [softmax_output1]]\n",
    "\n",
    "input_values = [[0.91], [0.9700000000000001]]\n",
    "print (type(input_values))\n",
    "softmax_output = softmax(input_values)\n",
    "print(softmax_output)"
   ],
   "metadata": {
    "collapsed": false,
    "ExecuteTime": {
     "start_time": "2023-04-06T14:50:48.910643Z",
     "end_time": "2023-04-06T14:50:48.919338Z"
    }
   }
  },
  {
   "cell_type": "code",
   "execution_count": 129,
   "outputs": [
    {
     "name": "stdout",
     "output_type": "stream",
     "text": [
      "<class 'list'>\n",
      "[[0.4850044983805899], [0.5149955016194101]]\n"
     ]
    }
   ],
   "source": [
    "import math\n",
    "\n",
    "def softmax(x):\n",
    "    # Calculate the exponential of each element in the input array\n",
    "    exp_x = [math.exp(i[0]) for i in x]\n",
    "    # Calculate the sum of exponential elements\n",
    "    sum_exp_x = sum(exp_x)\n",
    "    # Calculate the softmax of each element\n",
    "    softmax_x = [[i / sum_exp_x] for i in exp_x]\n",
    "    return softmax_x\n",
    "\n",
    "# Example usage\n",
    "input_values = [[0.91], [0.9700000000000001]]\n",
    "print (type(input_values))\n",
    "softmax_output = softmax(input_values)\n",
    "print(softmax_output)"
   ],
   "metadata": {
    "collapsed": false,
    "ExecuteTime": {
     "start_time": "2023-04-06T14:50:49.149799Z",
     "end_time": "2023-04-06T14:50:49.160117Z"
    }
   }
  },
  {
   "cell_type": "code",
   "execution_count": 130,
   "outputs": [],
   "source": [
    "def result_label(softmax_output):\n",
    "    if softmax_output[0] < softmax_output[1]:\n",
    "        return circle\n",
    "    elif softmax_output[1] < softmax_output[0]:\n",
    "        return cross\n",
    "    else:\n",
    "        return None\n",
    "\n",
    "def result_string(softmax_output):\n",
    "    if softmax_output[0] < softmax_output[1]:\n",
    "        return 'circle'\n",
    "    elif softmax_output[1] < softmax_output[0]:\n",
    "        return 'cross'\n",
    "    else:\n",
    "        return 'None'\n",
    "\n",
    "lookslike_matrix = result_label(softmax_output)\n",
    "lookslike_string = result_string(softmax_output)\n"
   ],
   "metadata": {
    "collapsed": false,
    "ExecuteTime": {
     "start_time": "2023-04-06T14:50:49.386031Z",
     "end_time": "2023-04-06T14:50:49.397036Z"
    }
   }
  },
  {
   "cell_type": "code",
   "execution_count": 131,
   "outputs": [
    {
     "ename": "NameError",
     "evalue": "name 'weight_c' is not defined",
     "output_type": "error",
     "traceback": [
      "\u001B[0;31m---------------------------------------------------------------------------\u001B[0m",
      "\u001B[0;31mNameError\u001B[0m                                 Traceback (most recent call last)",
      "Cell \u001B[0;32mIn[131], line 2\u001B[0m\n\u001B[1;32m      1\u001B[0m output \u001B[38;5;241m=\u001B[39m []\n\u001B[0;32m----> 2\u001B[0m output0 \u001B[38;5;241m=\u001B[39m \u001B[38;5;28msum\u001B[39m(matrix_multiplication(\u001B[43mweight_c\u001B[49m,input_n), [])\n\u001B[1;32m      3\u001B[0m output1 \u001B[38;5;241m=\u001B[39m \u001B[38;5;28msum\u001B[39m(matrix_multiplication(weight_x,input_n), [])\n\u001B[1;32m      5\u001B[0m output\u001B[38;5;241m.\u001B[39mappend(output0)\n",
      "\u001B[0;31mNameError\u001B[0m: name 'weight_c' is not defined"
     ]
    }
   ],
   "source": [
    "output = []\n",
    "output0 = sum(matrix_multiplication(weight_c,input_n), [])\n",
    "output1 = sum(matrix_multiplication(weight_x,input_n), [])\n",
    "\n",
    "output.append(output0)\n",
    "output.append(output1)\n",
    "\n",
    "# add bias\n",
    "output0[0] += bias_c\n",
    "output1[0] += bias_x\n",
    "\n",
    "# print the output\n",
    "print (output)\n"
   ],
   "metadata": {
    "collapsed": false,
    "ExecuteTime": {
     "start_time": "2023-04-04T15:38:43.166970Z",
     "end_time": "2023-04-04T15:38:43.171742Z"
    }
   }
  },
  {
   "cell_type": "markdown",
   "source": [
    "start to learn\n"
   ],
   "metadata": {
    "collapsed": false
   }
  },
  {
   "cell_type": "markdown",
   "source": [],
   "metadata": {
    "collapsed": false
   }
  },
  {
   "cell_type": "markdown",
   "source": [
    "visualisation!"
   ],
   "metadata": {
    "collapsed": false
   }
  },
  {
   "cell_type": "code",
   "execution_count": 132,
   "outputs": [
    {
     "data": {
      "text/plain": "<Figure size 640x480 with 2 Axes>",
      "image/png": "[encoded data removed]"
     },
     "metadata": {},
     "output_type": "display_data"
    },
    {
     "name": "stdout",
     "output_type": "stream",
     "text": [
      "The image looks most like a circle\n"
     ]
    }
   ],
   "source": [
    "import matplotlib.pyplot as plt\n",
    "\n",
    "\n",
    "\n",
    "# Create a grayscale colormap\n",
    "cmap = plt.get_cmap('gray')\n",
    "\n",
    "# Set up a figure with two subplots\n",
    "fig, (ax1, ax2) = plt.subplots(1, 2)\n",
    "\n",
    "# Display the cross array in the left subplot\n",
    "ax1.imshow(matrix, cmap=cmap)\n",
    "ax1.axis('off')\n",
    "\n",
    "# Display the circle array in the right subplot\n",
    "ax2.imshow(lookslike_matrix, cmap=cmap)\n",
    "ax2.axis('off')\n",
    "\n",
    "# Show the plot\n",
    "plt.show()\n",
    "print(f'The image looks most like a {lookslike_string}')\n"
   ],
   "metadata": {
    "collapsed": false,
    "ExecuteTime": {
     "start_time": "2023-04-06T14:50:50.982141Z",
     "end_time": "2023-04-06T14:50:51.004934Z"
    }
   }
  },
  {
   "cell_type": "code",
   "execution_count": 132,
   "outputs": [],
   "source": [],
   "metadata": {
    "collapsed": false,
    "ExecuteTime": {
     "start_time": "2023-04-06T14:50:51.253668Z",
     "end_time": "2023-04-06T14:50:51.270507Z"
    }
   }
  },
  {
   "cell_type": "code",
   "execution_count": null,
   "outputs": [],
   "source": [],
   "metadata": {
    "collapsed": false
   }
  }
 ],
 "metadata": {
  "kernelspec": {
   "display_name": "Python 3",
   "language": "python",
   "name": "python3"
  },
  "language_info": {
   "codemirror_mode": {
    "name": "ipython",
    "version": 2
   },
   "file_extension": ".py",
   "mimetype": "text/x-python",
   "name": "python",
   "nbconvert_exporter": "python",
   "pygments_lexer": "ipython2",
   "version": "2.7.6"
  }
 },
 "nbformat": 4,
 "nbformat_minor": 0
}
