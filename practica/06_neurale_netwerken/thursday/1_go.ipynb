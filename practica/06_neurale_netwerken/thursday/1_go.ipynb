{
 "cells": [
  {
   "cell_type": "code",
   "execution_count": 1,
   "outputs": [],
   "source": [
    "class Matrix:\n",
    "    \"\"\"Homebrew Matrix class\"\"\"\n",
    "    def __init__(self, argInput):\n",
    "        self.input = argInput\n",
    "\n",
    "    def printable (self): # generates a printable object\n",
    "        \"\"\"generates a printable object\"\"\"\n",
    "        return (self.input)\n",
    "\n",
    "    def transpose (self):\n",
    "        \"\"\"transposes a matrix\"\"\"\n",
    "        transposed_input = list(map(list, zip(*self.input)))\n",
    "        return transposed_input\n",
    "\n",
    "    def shapeCohesionCheck(self):\n",
    "         \"\"\"Checks if all rows in a matrix have the same amount of items\"\"\"\n",
    "         row_nr = 0\n",
    "         base_row_length = len(self.input[0])\n",
    "         for item in self.input:\n",
    "            rows_col = len(self.input[row_nr])\n",
    "            if base_row_length != rows_col:\n",
    "                print(f'Error in {self.input} {item}')\n",
    "                return False\n",
    "            row_nr += 1\n",
    "            return True\n",
    "\n",
    "    def matrix_multiplication(self, other):\n",
    "        \"\"\"multiplies two matrices if permitted\"\"\"\n",
    "        # check if both matrices have the proper shape to be multiplied\n",
    "\n",
    "        if len(self.input[0]) == len(other.input):\n",
    "            pass\n",
    "            # DeMorgan\n",
    "            # not (A and B) == not A or not B\n",
    "\n",
    "            if not (self.matrix_shape_check() and other.matrix_shape_check()):\n",
    "                return None\n",
    "        else:\n",
    "            print('Matrix shapes do not match!')\n",
    "            return None\n",
    "\n",
    "        # transpose the second matrix\n",
    "        other_t = list(map(list, zip(*other.input)))\n",
    "\n",
    "        # create the new matrix for the multiplication result\n",
    "        result_matrix = []\n",
    "\n",
    "        # cycle through the matrices to calculate the cells for result_matrix row by row and add them to the new matrix\n",
    "        for i in range(len(self.input)):\n",
    "            row = []\n",
    "            for j in range(len(other.input[0])):\n",
    "                cell = list(map(lambda x, y: x * y, self.input[i], other_t[j]))\n",
    "                cell_sum = sum(cell)\n",
    "                row.append(cell_sum)\n",
    "            result_matrix.append(row)\n",
    "\n",
    "        return result_matrix\n",
    "\n",
    "    def matrix_shape_check(self):\n",
    "        \"\"\"check if all rows in matrix have the same length\"\"\"\n",
    "        shape = len(self.input[0])\n",
    "        return all(len(row) == shape for row in self.input)\n",
    "\n",
    "    def __eq__ (self, other):\n",
    "\n",
    "        return len(self.input[0]) == len(other.input)\n",
    "\n",
    "    def __mul__(self, other):\n",
    "        \"\"\"multiplies 2 matrixes\"\"\"\n",
    "        return self.matrix_multiplication(other)"
   ],
   "metadata": {
    "collapsed": false,
    "ExecuteTime": {
     "start_time": "2023-04-06T09:40:51.566821Z",
     "end_time": "2023-04-06T09:40:51.571992Z"
    }
   }
  },
  {
   "cell_type": "code",
   "execution_count": 2,
   "metadata": {
    "collapsed": true,
    "ExecuteTime": {
     "start_time": "2023-04-06T09:40:57.451869Z",
     "end_time": "2023-04-06T09:40:57.459104Z"
    }
   },
   "outputs": [],
   "source": [
    "class Perceptron:\n",
    "    def __init__(self):\n",
    "        self.weights = [0, 0, 0, 0, 0, 0, 0, 0, 0]\n",
    "        self.bias = 0\n",
    "\n",
    "    def activate(self, x):\n",
    "        # compute the dot product of the input values and the weights\n",
    "        z = sum([x[i] * self.weights[i] for i in range(9)]) + self.bias\n",
    "\n",
    "        # apply the activation function (in this case, a step function)\n",
    "        if z > 0:\n",
    "            return 1\n",
    "        else:\n",
    "            return 0\n"
   ]
  },
  {
   "cell_type": "code",
   "execution_count": 3,
   "outputs": [],
   "source": [
    "x_image = Matrix([[1, 0, 1], [0, 1, 0], [1, 0, 1]])\n",
    "x_vector = [val/255 for sublist in x_image.printable() for val in sublist]\n"
   ],
   "metadata": {
    "collapsed": false,
    "ExecuteTime": {
     "start_time": "2023-04-06T09:40:58.834087Z",
     "end_time": "2023-04-06T09:40:58.841766Z"
    }
   }
  },
  {
   "cell_type": "code",
   "execution_count": 4,
   "outputs": [
    {
     "ename": "SyntaxError",
     "evalue": "incomplete input (2779700527.py, line 17)",
     "output_type": "error",
     "traceback": [
      "\u001B[0;36m  Cell \u001B[0;32mIn[4], line 17\u001B[0;36m\u001B[0m\n\u001B[0;31m    \u001B[0m\n\u001B[0m    ^\u001B[0m\n\u001B[0;31mSyntaxError\u001B[0m\u001B[0;31m:\u001B[0m incomplete input\n"
     ]
    }
   ],
   "source": [
    "perceptron = Perceptron()\n",
    "\n",
    "# train the perceptron using a dataset of labeled X's and O's\n",
    "\n",
    "x_image = Matrix([[1, 0, 1], [0, 1, 0], [1, 0, 1]])\n",
    "x_vector = [val/255 for sublist in x_image.printable() for val in sublist]\n",
    "x_label = 1  # label for X's\n",
    "\n",
    "o_image = Matrix([[1, 1, 1], [1, 0, 1], [1, 1, 1]])\n",
    "o_vector = [val/255 for sublist in o_image.printable() for val in sublist]\n",
    "o_label = 0  # label for O's\n",
    "\n",
    "# repeat the following steps for each example in the dataset:\n",
    "output = perceptron.activate(x_vector)\n",
    "error = x_label - output\n",
    "perceptron.weights = [perceptron.weights[i] + error * x_vector[i] for i in range\n"
   ],
   "metadata": {
    "collapsed": false
   }
  },
  {
   "cell_type": "code",
   "execution_count": null,
   "outputs": [],
   "source": [
    "# Create a perceptron with 9 inputs and 1 output\n",
    "p = Perceptron(9, 1)\n",
    "\n",
    "# Create a list of training data\n",
    "training_data = [\n",
    "    (Matrix([[1, 0, 1], [0, 1, 0], [1, 0, 1]]), [1]),  # X\n",
    "    (Matrix([[1, 1, 1], [1, 0, 1], [1, 1, 1]]), [-1])  # O\n",
    "]\n",
    "\n",
    "# Train the perceptron on the training data\n",
    "p.train(training_data)\n",
    "\n",
    "# Test the perceptron\n",
    "x = Matrix([[1, 0, 1], [0, 1, 0], [1, 0, 1]])\n",
    "o = Matrix([[1, 1, 1], [1, 0, 1], [1, 1, 1]])\n",
    "\n",
    "print(p.predict(x))  # Should output [1]\n",
    "print(p.predict(o))  # Should output [-1]\n"
   ],
   "metadata": {
    "collapsed": false
   }
  },
  {
   "cell_type": "code",
   "execution_count": null,
   "outputs": [],
   "source": [
    "class Perceptron:\n",
    "    def __init__(self, num_inputs, learning_rate=0.1):\n",
    "        self.weights = [0] * num_inputs\n",
    "        self.bias = 0\n",
    "        self.learning_rate = learning_rate\n",
    "\n",
    "    def dot_product(self, inputs):\n",
    "        return sum([i*w for i, w in zip(inputs, self.weights)]) + self.bias\n",
    "\n",
    "    def activate(self, x):\n",
    "        return 1 if x >= 0 else -1\n",
    "\n",
    "    def predict(self, inputs):\n",
    "        dp = self.dot_product(inputs.input[0])\n",
    "        return self.activate(dp)\n",
    "\n",
    "    def train(self, training_data, num_epochs=10):\n",
    "        for epoch in range(num_epochs):\n",
    "            for inputs, expected_output in training_data:\n",
    "                # Compute the predicted output\n",
    "                predicted_output = self.predict(inputs)\n",
    "\n",
    "                # Update the weights and bias\n",
    "                error = expected_output - predicted_output\n",
    "                for i in range(len(self.weights)):\n",
    "                    self.weights[i] += self.learning_rate * error * inputs.input[0][i]\n",
    "                self.bias += self.learning_rate * error\n",
    "\n",
    "                # Print the current weights and bias (optional)\n",
    "                # print(f'Weights: {self.weights}, Bias: {self.bias}')\n",
    "\n"
   ],
   "metadata": {
    "collapsed": false
   }
  },
  {
   "cell_type": "code",
   "execution_count": null,
   "outputs": [],
   "source": [
    "# Define the training data\n",
    "x1 = Matrix([[1,0,1],[0,1,0],[1,0,1]])\n",
    "o1 = Matrix([[1,1,1],[1,0,1],[1,1,1]])\n",
    "training_data = [\n",
    "    (x1, 1),\n",
    "    (o1, -1),\n",
    "]\n",
    "\n",
    "# Create the perceptron and train it\n",
    "perceptron = Perceptron(9)\n",
    "perceptron.train(training_data)\n"
   ],
   "metadata": {
    "collapsed": false
   }
  },
  {
   "cell_type": "code",
   "execution_count": null,
   "outputs": [],
   "source": [
    "# Test the perceptron on some new input\n",
    "test_x = Matrix([[1,0,1],[0,1,0],[1,0,1]])\n",
    "print(perceptron.predict(test_x))  # should output 1\n",
    "\n",
    "test_o = Matrix([[1,1,1],[1,0,1],[1,1,1]])\n",
    "print(perceptron.predict(test_o))  # should output -1\n"
   ],
   "metadata": {
    "collapsed": false
   }
  }
 ],
 "metadata": {
  "kernelspec": {
   "display_name": "Python 3",
   "language": "python",
   "name": "python3"
  },
  "language_info": {
   "codemirror_mode": {
    "name": "ipython",
    "version": 2
   },
   "file_extension": ".py",
   "mimetype": "text/x-python",
   "name": "python",
   "nbconvert_exporter": "python",
   "pygments_lexer": "ipython2",
   "version": "2.7.6"
  }
 },
 "nbformat": 4,
 "nbformat_minor": 0
}
