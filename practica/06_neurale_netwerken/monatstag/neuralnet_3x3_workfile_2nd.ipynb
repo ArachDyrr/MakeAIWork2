{
 "cells": [
  {
   "cell_type": "code",
   "execution_count": 10,
   "outputs": [],
   "source": [
    "import random"
   ],
   "metadata": {
    "collapsed": false,
    "ExecuteTime": {
     "start_time": "2023-04-03T16:36:13.834987Z",
     "end_time": "2023-04-03T16:36:13.842014Z"
    }
   }
  },
  {
   "cell_type": "markdown",
   "source": [
    "for the array we define white as 0 and black as 1"
   ],
   "metadata": {
    "collapsed": false
   }
  },
  {
   "cell_type": "code",
   "execution_count": 18,
   "outputs": [
    {
     "name": "stdout",
     "output_type": "stream",
     "text": [
      "[[0, 1, 0], [1, 1, 1], [0, 1, 0]]\n"
     ]
    }
   ],
   "source": [
    "array = [[random.randint(0, 1) for j in range(3)] for i in range(3)]\n",
    "array = [[0,1,0],\n",
    "         [1,1,1],\n",
    "         [0,1,0]]\n",
    "print(array)"
   ],
   "metadata": {
    "collapsed": false,
    "ExecuteTime": {
     "start_time": "2023-04-03T16:45:52.688811Z",
     "end_time": "2023-04-03T16:45:52.693904Z"
    }
   }
  },
  {
   "cell_type": "markdown",
   "source": [
    "# input"
   ],
   "metadata": {
    "collapsed": false
   }
  },
  {
   "cell_type": "markdown",
   "source": [
    "9 posities op het grid, dus 9 input's"
   ],
   "metadata": {
    "collapsed": false
   }
  },
  {
   "cell_type": "code",
   "execution_count": 19,
   "outputs": [],
   "source": [
    "i0 = array[2][2]\n",
    "i1 = array[2][1]\n",
    "i2 = array[2][0]\n",
    "i3 = array[1][2]\n",
    "i4 = array[1][1]\n",
    "i5 = array[1][0]\n",
    "i6 = array[0][2]\n",
    "i7 = array[0][1]\n",
    "i8 = array[0][0]\n"
   ],
   "metadata": {
    "collapsed": false,
    "ExecuteTime": {
     "start_time": "2023-04-03T16:45:56.952650Z",
     "end_time": "2023-04-03T16:45:56.962370Z"
    }
   }
  },
  {
   "cell_type": "markdown",
   "source": [
    "# weights"
   ],
   "metadata": {
    "collapsed": false
   }
  },
  {
   "cell_type": "code",
   "execution_count": 23,
   "outputs": [],
   "source": [
    "w00 = 1/18\n",
    "w01 = 1/18\n",
    "w02 = 1/18\n",
    "w03 = 1/18\n",
    "w04 = 9/18\n",
    "w05 = 1/18\n",
    "w06 = 1/18\n",
    "w07 = 1/18\n",
    "w08 = 1/18\n",
    "w10 = -1/18\n",
    "w11 = -1/18\n",
    "w12 = -1/18\n",
    "w13 = -1/18\n",
    "w14 = -9/18\n",
    "w15 = -1/18\n",
    "w16 = -1/18\n",
    "w17 = -1/18\n",
    "w18 = -1/18\n",
    "\n",
    "b0 = 0\n",
    "b1 = 1\n",
    "#\n",
    "# w00 = 2/18\n",
    "# w01 = 2/18\n",
    "# w02 = 2/18\n",
    "# w03 = 2/18\n",
    "# w04 = 2/18\n",
    "# w05 = 2/18\n",
    "# w06 = 2/18\n",
    "# w07 = 2/18\n",
    "# w08 = 2/18\n",
    "# w10 = 2/18\n",
    "# w11 = 2/18\n",
    "# w12 = 2/18\n",
    "# w13 = 2/18\n",
    "# w14 = 2/18\n",
    "# w15 = 2/18\n",
    "# w16 = 2/18\n",
    "# w17 = 2/18\n",
    "# w18 = 2/18\n",
    "#\n",
    "# b0 = 0\n",
    "# b1 = 0"
   ],
   "metadata": {
    "collapsed": false,
    "ExecuteTime": {
     "start_time": "2023-04-03T16:46:30.439487Z",
     "end_time": "2023-04-03T16:46:30.447066Z"
    }
   }
  },
  {
   "cell_type": "markdown",
   "source": [
    "the weight formula"
   ],
   "metadata": {
    "collapsed": false
   }
  },
  {
   "cell_type": "code",
   "execution_count": 24,
   "outputs": [
    {
     "name": "stdout",
     "output_type": "stream",
     "text": [
      "0.7222222222222223\n",
      "0.2222222222222222\n"
     ]
    }
   ],
   "source": [
    "\n",
    "o0 = i0*w00 + i1*w01 + i2*w02 + i3*w03 + i4*w04 + i5*w05 + i6*w06 + i7*w07 + i8*w08 + b0\n",
    "o1 = i1*w11 + i1*w11 + i2*w12 + i3*w13 + i4*w14 + i5*w15 + i6*w16 + i7*w17 + i8*w18 + b1\n",
    "\n",
    "print (o0)\n",
    "print (o1)"
   ],
   "metadata": {
    "collapsed": false,
    "ExecuteTime": {
     "start_time": "2023-04-03T16:46:32.579534Z",
     "end_time": "2023-04-03T16:46:32.583516Z"
    }
   }
  },
  {
   "cell_type": "markdown",
   "source": [
    "# output"
   ],
   "metadata": {
    "collapsed": false
   }
  },
  {
   "cell_type": "markdown",
   "source": [
    "2 opties of een rondje of een kruisje"
   ],
   "metadata": {
    "collapsed": false
   }
  },
  {
   "cell_type": "code",
   "execution_count": 28,
   "outputs": [
    {
     "name": "stdout",
     "output_type": "stream",
     "text": [
      "o0 (0.7222222222222223) states this is a probably not a circle\n",
      "o1 (0.2222222222222222) states this is a probably a cross\n"
     ]
    }
   ],
   "source": [
    "# o0\n",
    "if o0 <= 0.5:\n",
    "    print (f'o0 ({o0}) states this is a probably a circle')\n",
    "else:\n",
    "    print (f'o0 ({o0}) states this is a probably not a circle')\n",
    "# 01\n",
    "if o1 <= 0.5:\n",
    "    print (f'o1 ({o1}) states this is a probably a cross')\n",
    "else:\n",
    "    print (f'o1 ({o1}) states this is a probably not a  cross')"
   ],
   "metadata": {
    "collapsed": false,
    "ExecuteTime": {
     "start_time": "2023-04-03T16:56:24.132328Z",
     "end_time": "2023-04-03T16:56:24.138287Z"
    }
   }
  },
  {
   "cell_type": "code",
   "execution_count": 29,
   "outputs": [],
   "source": [
    "def output(array):\n",
    "    if o0 > o1:\n",
    "        return 'circle'\n",
    "    elif o1 > o0:\n",
    "        return 'cross'\n",
    "    else:\n",
    "        return 'unknown'"
   ],
   "metadata": {
    "collapsed": false,
    "ExecuteTime": {
     "start_time": "2023-04-03T16:56:26.275799Z",
     "end_time": "2023-04-03T16:56:26.287777Z"
    }
   }
  },
  {
   "cell_type": "markdown",
   "source": [
    "# visualisation!"
   ],
   "metadata": {
    "collapsed": false
   }
  },
  {
   "cell_type": "code",
   "execution_count": 31,
   "outputs": [
    {
     "data": {
      "text/plain": "<Figure size 640x480 with 1 Axes>",
      "image/png": "[encoded data removed]"
     },
     "metadata": {},
     "output_type": "display_data"
    },
    {
     "name": "stdout",
     "output_type": "stream",
     "text": [
      "\n",
      "The image above is a probably a circle\n"
     ]
    }
   ],
   "source": [
    "import matplotlib.pyplot as plt\n",
    "\n",
    "# Define the array\n",
    "\n",
    "# Create a grayscale colormap\n",
    "cmap = plt.get_cmap('gray')\n",
    "\n",
    "# Display the array as an image\n",
    "plt.imshow(array, cmap=cmap)\n",
    "\n",
    "# Turn off axis labels and ticks\n",
    "plt.axis('off')\n",
    "\n",
    "# Show the plot\n",
    "plt.show()\n",
    "print()\n",
    "print (f\"The image above is a probably a {output(array)}\")"
   ],
   "metadata": {
    "collapsed": false,
    "ExecuteTime": {
     "start_time": "2023-04-03T16:57:49.767139Z",
     "end_time": "2023-04-03T16:57:49.789524Z"
    }
   }
  },
  {
   "cell_type": "code",
   "execution_count": null,
   "outputs": [],
   "source": [],
   "metadata": {
    "collapsed": false
   }
  }
 ],
 "metadata": {
  "kernelspec": {
   "display_name": "Python 3",
   "language": "python",
   "name": "python3"
  },
  "language_info": {
   "codemirror_mode": {
    "name": "ipython",
    "version": 2
   },
   "file_extension": ".py",
   "mimetype": "text/x-python",
   "name": "python",
   "nbconvert_exporter": "python",
   "pygments_lexer": "ipython2",
   "version": "2.7.6"
  }
 },
 "nbformat": 4,
 "nbformat_minor": 0
}
