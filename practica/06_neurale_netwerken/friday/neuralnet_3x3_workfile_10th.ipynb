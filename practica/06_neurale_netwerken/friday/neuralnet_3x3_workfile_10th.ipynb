{
 "cells": [
  {
   "cell_type": "markdown",
   "source": [
    "# a collection of functions and imports"
   ],
   "metadata": {
    "collapsed": false
   }
  },
  {
   "cell_type": "code",
   "execution_count": 1,
   "outputs": [],
   "source": [
    "# # functions WIP let thsi work with the homebrew Matrix class\n",
    "\n",
    "import matplotlib.pyplot as plt\n",
    "import random\n",
    "\n",
    "\n",
    "# print(bias0)\n",
    "\n",
    "# create the check to see if the matrix has the same amount of items per row\n",
    "\n",
    "\n",
    "def matrix_shape_check(matrix):\n",
    "    \"\"\"Checks if all rows in a matrix have the same amount of items\"\"\"\n",
    "    row_nr = 0\n",
    "    base_row_length = len(matrix[0])\n",
    "    for item in matrix:\n",
    "        rows_col = len(matrix[row_nr])\n",
    "        if base_row_length != rows_col:\n",
    "            print(f'Error in {matrix} {item}')\n",
    "            return False\n",
    "        row_nr += 1\n",
    "    return True\n",
    "\n",
    "\n",
    "# create the function to multiply the 2 matrixes\n",
    "\n",
    "def matrix_multiplication(matrix1, matrix2):\n",
    "    \"\"\"multiplies two matrixes if permitted\"\"\"\n",
    "    # check if both lists of lists have the proper shape to be a matrix.\n",
    "\n",
    "    if len(matrix1[0]) == len(matrix2):\n",
    "        pass\n",
    "    # DeMorgan\n",
    "    # not (A and B) == not A or not B\n",
    "\n",
    "        if not (matrix_shape_check(matrix1) and matrix_shape_check(matrix2)):\n",
    "            return None\n",
    "    else:\n",
    "        print('Matrix shapes != match!')\n",
    "        return None\n",
    "\n",
    "    # transpose matrix_2\n",
    "    matrix2t = list(map(list, zip(*matrix2)))\n",
    "\n",
    "    # create the new matrix for the multiplication result\n",
    "    matrix3 = []\n",
    "\n",
    "    # cycle true the matrixes to calculate the cells for matrix3 row by row and add them to the new matrix\n",
    "    for i in range(len(matrix1)):\n",
    "        row = []\n",
    "        for j in range(len(matrix2[0])):\n",
    "            cel = list(map(lambda x, y: x * y, matrix1[i], matrix2t[j]))\n",
    "            cel_s = sum(cel)\n",
    "            row.append(cel_s)\n",
    "        matrix3.append(row)\n",
    "\n",
    "    return matrix3\n",
    "\n",
    "\n",
    "def initial_input(list_of_list_matrix):\n",
    "    \"\"\"flaten a matrix to ( n * 0) \"\"\"\n",
    "    flattned_matrix = [sum(list_of_list_matrix, [])]\n",
    "    initial_matrix = list(map(list, zip(*flattned_matrix)))\n",
    "    return initial_matrix\n",
    "    # return flattned_matrix\n",
    "\n",
    "def flatten(list_of_list_matrix):\n",
    "    \"\"\"flaten a matrix to ( n * 0) \"\"\"\n",
    "    flattned_matrix = [sum(list_of_list_matrix, [])]\n",
    "    initial_matrix = list(map(list, zip(*flattned_matrix)))\n",
    "    return initial_matrix\n",
    "    # return flattned_matrix\n",
    "\n",
    "\n",
    "# a function to generate random weights\n",
    "def initial_random_weights(i_n):\n",
    "    \"\"\"generate random weights totaling to 1\"\"\"\n",
    "\n",
    "    i_n = [sum(i_n, [])]\n",
    "\n",
    "    # Generate n random values\n",
    "    initial_weights = [random.random() for i in range(len(i_n[0]))]\n",
    "\n",
    "    # Calculate the sum of the random values\n",
    "    weight_sum = sum(initial_weights)\n",
    "\n",
    "    # Divide each random value by the sum to normalize them\n",
    "    random_weights = [round(item/weight_sum,2) for item in initial_weights]\n",
    "\n",
    "    return [random_weights]\n",
    "\n",
    "def softmax(output):\n",
    "    \"\"\"squishes the output so that the sum equals 1\"\"\"\n",
    "    output0 = output[0][0]\n",
    "    output1 = output[1][0]\n",
    "    e = 2.718281828459045\n",
    "    softmax_output0 = e ** output0 / (e ** output0 + e ** output1)\n",
    "    softmax_output1 = e ** output1 / (e ** output0 + e ** output1)\n",
    "    return [[softmax_output0], [softmax_output1]]\n",
    "\n",
    "def result_label(softmax_output):\n",
    "    \"\"\"produces the nested list of the label the output looks most like\"\"\"\n",
    "    if softmax_output[0] > softmax_output[1]:\n",
    "        return circle\n",
    "    elif softmax_output[1] > softmax_output[0]:\n",
    "        return cross\n",
    "    else:\n",
    "        return None\n",
    "\n",
    "def result_string(softmax_output):\n",
    "    \"\"\"produces the string of the label the output looks most like\"\"\"\n",
    "    if softmax_output[0] > softmax_output[1]:\n",
    "        return 'circle'\n",
    "    elif softmax_output[1] > softmax_output[0]:\n",
    "        return 'cross'\n",
    "    else:\n",
    "        return 'None'\n",
    "\n",
    "\n",
    "# prediction\n",
    "def predict(shape):\n",
    "    \"\"\"sum (w1-n * i1-n) + bias for both nodes\"\"\"\n",
    "    # make empty list\n",
    "    output = []\n",
    "    output0 = sum(matrix_multiplication(weights0,flatten(shape)), [])\n",
    "    output1 = sum(matrix_multiplication(weights1,flatten(shape)), [])\n",
    "\n",
    "    # add bias\n",
    "    output0[0] += bias0\n",
    "    output1[0] += bias1\n",
    "\n",
    "    output.append(output0)\n",
    "    output.append(output1)\n",
    "\n",
    "    return output\n",
    "\n",
    "\n",
    "\n",
    "\n",
    "\n",
    "def gradient_descent(shapes, labels):\n",
    "    \"\"\"the weight and bias adjustments\"\"\"\n",
    "    # (inputShapes, outputLabels: X,Y)\n",
    "# stochastic (= per sample) of alle samples (= gemiddelde van een aantal samples of een deel van de hele set (= batch)\n",
    "# hier kiezen we per sample\n",
    "\n",
    "    global bias0, bias1\n",
    "    for i in range(len(shapes)):\n",
    "        Yhats = predict(shapes[i])\n",
    "        error0 = labels[i][0] - Yhats[0][0]\n",
    "        error1 = labels[i][1] - Yhats[1][0]\n",
    "\n",
    "        # input\n",
    "        dw0 = -2 * error0 * shapes[i][0][0]\n",
    "        dw1 = -2 * error0 * shapes[i][0][1]\n",
    "        dw2 = -2 * error0 * shapes[i][0][2]\n",
    "        dw3 = -2 * error0 * shapes[i][1][0]\n",
    "        dw4 = -2 * error0 * shapes[i][1][1]\n",
    "        dw5 = -2 * error0 * shapes[i][1][2]\n",
    "        dw6 = -2 * error0 * shapes[i][2][0]\n",
    "        dw7 = -2 * error0 * shapes[i][2][1]\n",
    "        dw8 = -2 * error0 * shapes[i][2][2]\n",
    "        db  = -2 * error0\n",
    "\n",
    "        weights0[0][0] -= learnRate * dw0\n",
    "        weights0[0][1] -= learnRate * dw1\n",
    "        weights0[0][2] -= learnRate * dw2\n",
    "        weights0[0][3] -= learnRate * dw3\n",
    "        weights0[0][4] -= learnRate * dw4\n",
    "        weights0[0][5] -= learnRate * dw5\n",
    "        weights0[0][6] -= learnRate * dw6\n",
    "        weights0[0][7] -= learnRate * dw7\n",
    "        weights0[0][8] -= learnRate * dw8\n",
    "        bias0 -= learnRate * db\n",
    "\n",
    "        # input\n",
    "        dw0 = -2 * error1 * shapes[i][0][0]\n",
    "        dw1 = -2 * error1 * shapes[i][0][1]\n",
    "        dw2 = -2 * error1 * shapes[i][0][2]\n",
    "        dw3 = -2 * error1 * shapes[i][1][0]\n",
    "        dw4 = -2 * error1 * shapes[i][1][1]\n",
    "        dw5 = -2 * error1 * shapes[i][1][2]\n",
    "        dw6 = -2 * error1 * shapes[i][2][0]\n",
    "        dw7 = -2 * error1 * shapes[i][2][1]\n",
    "        dw8 = -2 * error1 * shapes[i][2][2]\n",
    "        db  = -2 * error1\n",
    "\n",
    "        weights1[0][0] -= learnRate * dw0\n",
    "        weights1[0][1] -= learnRate * dw1\n",
    "        weights1[0][2] -= learnRate * dw2\n",
    "        weights1[0][3] -= learnRate * dw3\n",
    "        weights1[0][4] -= learnRate * dw4\n",
    "        weights1[0][5] -= learnRate * dw5\n",
    "        weights1[0][6] -= learnRate * dw6\n",
    "        weights1[0][7] -= learnRate * dw7\n",
    "        weights1[0][8] -= learnRate * dw8\n",
    "        bias1 -= learnRate * db\n",
    "\n",
    "\n",
    "\n",
    "\n"
   ],
   "metadata": {
    "collapsed": false,
    "ExecuteTime": {
     "start_time": "2023-04-09T20:53:30.684084Z",
     "end_time": "2023-04-09T20:53:31.625730Z"
    }
   }
  },
  {
   "cell_type": "markdown",
   "source": [
    "# the shapes I want to train my NN for."
   ],
   "metadata": {
    "collapsed": false
   }
  },
  {
   "cell_type": "code",
   "execution_count": 2,
   "outputs": [],
   "source": [
    "circle = [\n",
    "    [1,1,1],\n",
    "    [1,0,1],\n",
    "    [1,1,1]\n",
    "    ]\n",
    "circle2 = [\n",
    "    [0,1,0],\n",
    "    [1,0,1],\n",
    "    [0,1,0]\n",
    "    ]\n",
    "\n",
    "cross = [\n",
    "    [1,0,1],\n",
    "    [0,1,0],\n",
    "    [1,0,1]\n",
    "]\n",
    "\n",
    "cross2 = [\n",
    "    [0,1,0],\n",
    "    [1,1,1],\n",
    "    [0,1,0]\n",
    "]\n",
    "# shapes and labels\n",
    "shapes = [circle,circle2,cross]\n",
    "labels = [[1,0],[1,0],[0,1],[0,1]]\n",
    "\n"
   ],
   "metadata": {
    "collapsed": false,
    "ExecuteTime": {
     "start_time": "2023-04-09T20:53:31.627148Z",
     "end_time": "2023-04-09T20:53:31.629452Z"
    }
   }
  },
  {
   "cell_type": "markdown",
   "source": [
    "# random not so random thoughts\n",
    "list of lists\n",
    "[[0],   the 0th is the circle\n",
    "[0]]    the 1st is the cross\n",
    "\n",
    "\n",
    "Calculate output\n",
    "\n",
    "\n",
    "Generate the imputs and the initial weights0 (In W0n) and weights1 (In W1n) and initial biases and bias0 bias1\n",
    "\n",
    "apply a softmax\n",
    "start to learn"
   ],
   "metadata": {
    "collapsed": false
   }
  },
  {
   "cell_type": "markdown",
   "source": [
    "# start training"
   ],
   "metadata": {
    "collapsed": false
   }
  },
  {
   "cell_type": "code",
   "execution_count": 3,
   "outputs": [],
   "source": [
    "# Generate the imputs and the initial weights0 (In W0n) and weights1 (In W1n) and initial biases and bias0 bias1\n",
    "\n",
    "training_matrix_format = circle\n",
    "\n",
    "\n",
    "weights0 =initial_random_weights(training_matrix_format)\n",
    "weights1 =initial_random_weights(training_matrix_format)\n",
    "bias0 = random.uniform(-1, 1)\n",
    "bias1 = random.uniform(-1, 1)\n",
    "\n",
    "\n",
    "# learning steps, size and amount\n",
    "\n",
    "learnRate = 0.001\n",
    "epochs = 800000\n",
    "\n",
    "# weightVector0 = initializeWeightMatrix(9)\n",
    "# weightVector1 = initializeWeightMatrix(9)\n",
    "# # bias0 en bias1 zitten hier al in een lijst\n",
    "# biasVector = initializeBias(2)\n",
    "\n",
    "for epoch in range(epochs):\n",
    "    gradient_descent(shapes, labels)\n",
    "    # print(MSE(inputShapes, outputLabels))\n",
    "\n",
    "# print(biasVector)"
   ],
   "metadata": {
    "collapsed": false,
    "ExecuteTime": {
     "start_time": "2023-04-09T20:53:31.655196Z",
     "end_time": "2023-04-09T20:53:54.441977Z"
    }
   }
  },
  {
   "cell_type": "code",
   "execution_count": 4,
   "outputs": [],
   "source": [
    "# WIP add a picture to see the effect of the learning itterations."
   ],
   "metadata": {
    "collapsed": false,
    "ExecuteTime": {
     "start_time": "2023-04-09T20:53:54.442767Z",
     "end_time": "2023-04-09T20:53:54.444654Z"
    }
   }
  },
  {
   "cell_type": "code",
   "execution_count": 5,
   "outputs": [
    {
     "name": "stdout",
     "output_type": "stream",
     "text": [
      "1.1788980122961314\n",
      "0.5054974528237481\n",
      "\n",
      "-0.15749999999999623 0.3022245030740382 -0.017499999999996674\n",
      "0.3122245030740382 0.17889801229612445 0.24222450307402354\n",
      "0.1325000000000043 0.32222450307403844 0.042500000000002515\n",
      "\n",
      "0.060000000000006645 -0.026125636794062913 -0.01999999999999225\n",
      "-0.17612563679405654 0.5054974528237335 -0.0661256367940613\n",
      "0.020000000000007574 -0.22612563679405642 -0.05999999999999353\n",
      "\n",
      "-0.17889801229614527\n",
      "0.4945025471762235\n"
     ]
    }
   ],
   "source": [
    "# just to look at the weights and biases.\n",
    "\n",
    "print(sum(sum(weights0, []))+bias0)\n",
    "print(sum(sum(weights1, []))+bias1)\n",
    "print()\n",
    "print(weights0[0][0],weights0[0][1],weights0[0][2])\n",
    "print(weights0[0][3],weights0[0][4],weights0[0][5])\n",
    "print(weights0[0][6],weights0[0][7],weights0[0][8])\n",
    "print()\n",
    "print(weights1[0][0],weights1[0][1],weights1[0][2])\n",
    "print(weights1[0][3],weights1[0][4],weights1[0][5])\n",
    "print(weights1[0][6],weights1[0][7],weights1[0][8])\n",
    "print()\n",
    "print(bias0)\n",
    "print(bias1)\n"
   ],
   "metadata": {
    "collapsed": false,
    "ExecuteTime": {
     "start_time": "2023-04-09T20:53:54.447241Z",
     "end_time": "2023-04-09T20:53:54.449029Z"
    }
   }
  },
  {
   "cell_type": "markdown",
   "source": [
    "# lets run some tests"
   ],
   "metadata": {
    "collapsed": false
   }
  },
  {
   "cell_type": "code",
   "execution_count": 6,
   "outputs": [
    {
     "name": "stdout",
     "output_type": "stream",
     "text": [
      "The input matrix [[0, 1, 0], [0, 0, 1], [1, 1, 1]]\n",
      "the output [[0.8627754969259618], [0.13612563679405693]]\n",
      "The checked looks most like [[1, 1, 1], [1, 0, 1], [1, 1, 1]]\n",
      "The checked is labled circle\n"
     ]
    },
    {
     "data": {
      "text/plain": "<Figure size 640x480 with 2 Axes>",
      "image/png": "[encoded data removed]"
     },
     "metadata": {},
     "output_type": "display_data"
    },
    {
     "name": "stdout",
     "output_type": "stream",
     "text": [
      "The image looks most like a circle\n"
     ]
    }
   ],
   "source": [
    "# generate the random matrix to test the prediction\n",
    "matrix_check = [[random.randint(0, 1) for j in range(3)] for i in range(3)]\n",
    "# matrix_check = circle\n",
    "# matrix_check = cross\n",
    "\n",
    "# predict what the result would be based on the wights and biases trained earlier.\n",
    "output_check = predict(matrix_check)\n",
    "\n",
    "#  what does output mean?\n",
    "softmax_output_check = softmax(output_check)\n",
    "\n",
    "lookslike_matrix = result_label(softmax_output_check)\n",
    "lookslike_string = result_string(softmax_output_check)\n",
    "\n",
    "# print the output\n",
    "print (f'The input matrix {matrix_check}')\n",
    "print (f'the output {output_check}')\n",
    "print (f'The checked looks most like {lookslike_matrix}')\n",
    "print (f'The checked is labled {lookslike_string}')\n",
    "\n",
    "# visualisation!\n",
    "# ---------------------------------------------------------\n",
    "\n",
    "\n",
    "\n",
    "# Create a grayscale colormap\n",
    "cmap = plt.get_cmap('gray')\n",
    "\n",
    "# Set up a figure with two subplots\n",
    "fig, (ax1, ax2) = plt.subplots(1, 2)\n",
    "\n",
    "# Display the cross array in the left subplot\n",
    "ax1.imshow(matrix_check, cmap=cmap)\n",
    "ax1.axis('off')\n",
    "\n",
    "# Display the circle array in the right subplot\n",
    "ax2.imshow(lookslike_matrix, cmap=cmap)\n",
    "ax2.axis('off')\n",
    "\n",
    "# Show the plot\n",
    "plt.show()\n",
    "print(f'The image looks most like a {lookslike_string}')\n"
   ],
   "metadata": {
    "collapsed": false,
    "ExecuteTime": {
     "start_time": "2023-04-09T20:53:54.451238Z",
     "end_time": "2023-04-09T20:53:54.528387Z"
    }
   }
  },
  {
   "cell_type": "code",
   "execution_count": 6,
   "outputs": [],
   "source": [],
   "metadata": {
    "collapsed": false,
    "ExecuteTime": {
     "start_time": "2023-04-09T20:53:54.527395Z",
     "end_time": "2023-04-09T20:53:54.530250Z"
    }
   }
  }
 ],
 "metadata": {
  "kernelspec": {
   "display_name": "Python 3",
   "language": "python",
   "name": "python3"
  },
  "language_info": {
   "codemirror_mode": {
    "name": "ipython",
    "version": 2
   },
   "file_extension": ".py",
   "mimetype": "text/x-python",
   "name": "python",
   "nbconvert_exporter": "python",
   "pygments_lexer": "ipython2",
   "version": "2.7.6"
  }
 },
 "nbformat": 4,
 "nbformat_minor": 0
}
