{
 "cells": [
  {
   "cell_type": "code",
   "execution_count": 2,
   "metadata": {
    "collapsed": true,
    "ExecuteTime": {
     "start_time": "2023-04-04T14:24:17.065317Z",
     "end_time": "2023-04-04T14:24:17.072432Z"
    }
   },
   "outputs": [],
   "source": [
    "circle = [\n",
    "    [1,1,1],\n",
    "    [1,0,1],\n",
    "    [1,1,1]\n",
    "    ]"
   ]
  },
  {
   "cell_type": "code",
   "execution_count": 3,
   "outputs": [],
   "source": [
    "cross = [\n",
    "    [1,0,1],\n",
    "    [0,1,0],\n",
    "    [1,0,1]\n",
    "\n",
    "]"
   ],
   "metadata": {
    "collapsed": false,
    "ExecuteTime": {
     "start_time": "2023-04-04T14:24:17.782401Z",
     "end_time": "2023-04-04T14:24:17.789942Z"
    }
   }
  },
  {
   "cell_type": "code",
   "execution_count": 4,
   "outputs": [
    {
     "name": "stdout",
     "output_type": "stream",
     "text": [
      "cirle = [[1, 1, 1], [1, 0, 1], [1, 1, 1]], cross = [[1, 0, 1], [0, 1, 0], [1, 0, 1]]\n"
     ]
    }
   ],
   "source": [
    "print(f\"cirle = {circle}, cross = {cross}\")"
   ],
   "metadata": {
    "collapsed": false,
    "ExecuteTime": {
     "start_time": "2023-04-04T14:24:18.764791Z",
     "end_time": "2023-04-04T14:24:18.773154Z"
    }
   }
  },
  {
   "cell_type": "code",
   "execution_count": 5,
   "outputs": [],
   "source": [
    "import homebrew_functions as hb"
   ],
   "metadata": {
    "collapsed": false,
    "ExecuteTime": {
     "start_time": "2023-04-04T14:24:19.864321Z",
     "end_time": "2023-04-04T14:24:19.872532Z"
    }
   }
  },
  {
   "cell_type": "code",
   "execution_count": 6,
   "outputs": [],
   "source": [
    "# def matrix_flattener(list_of_list_matrix):\n",
    "#     flattned_matrix = sum(list_of_list_matrix, [])\n",
    "#     return flattned_matrix\n",
    "\n",
    "import homebrew_functions as hb"
   ],
   "metadata": {
    "collapsed": false,
    "ExecuteTime": {
     "start_time": "2023-04-04T14:24:20.631559Z",
     "end_time": "2023-04-04T14:24:20.640022Z"
    }
   }
  },
  {
   "cell_type": "code",
   "execution_count": 7,
   "outputs": [
    {
     "data": {
      "text/plain": "[[0.08, 0.06, 0.18, 0.03, 0.05, 0.08, 0.22, 0.1, 0.2]]"
     },
     "metadata": {},
     "output_type": "display_data"
    }
   ],
   "source": [
    "\n",
    "weights0 = hb.initial_random_weights(circle)\n",
    "\n",
    "display(weights0)"
   ],
   "metadata": {
    "collapsed": false,
    "ExecuteTime": {
     "start_time": "2023-04-04T14:24:21.682800Z",
     "end_time": "2023-04-04T14:24:21.688064Z"
    }
   }
  },
  {
   "cell_type": "code",
   "execution_count": 8,
   "outputs": [
    {
     "name": "stdout",
     "output_type": "stream",
     "text": [
      "[[1], [1], [1], [1], [0], [1], [1], [1], [1]]\n",
      "\n",
      "[[0.21, 0.2, 0.14, 0.02, 0.09, 0.04, 0.0, 0.16, 0.15]]\n"
     ]
    }
   ],
   "source": [
    "matrix = circle\n",
    "\n",
    "I_n = hb.initial_input(matrix)\n",
    "W_n = hb.initial_random_weights(matrix)\n",
    "\n",
    "print (I_n)\n",
    "print()\n",
    "print(W_n)"
   ],
   "metadata": {
    "collapsed": false,
    "ExecuteTime": {
     "start_time": "2023-04-04T14:24:22.566434Z",
     "end_time": "2023-04-04T14:24:22.576518Z"
    }
   }
  },
  {
   "cell_type": "markdown",
   "source": [
    "# output:\n",
    "list of lists\n",
    "[[0],   the 0th is the circle\n",
    "[0]]    the 1st is the diagonal cross\n",
    "\n"
   ],
   "metadata": {
    "collapsed": false
   }
  },
  {
   "cell_type": "code",
   "execution_count": 9,
   "outputs": [],
   "source": [
    "matrix = matrix"
   ],
   "metadata": {
    "collapsed": false,
    "ExecuteTime": {
     "start_time": "2023-04-04T14:24:25.961407Z",
     "end_time": "2023-04-04T14:24:25.972559Z"
    }
   }
  },
  {
   "cell_type": "markdown",
   "source": [
    "Generate the imputs"
   ],
   "metadata": {
    "collapsed": false
   }
  },
  {
   "cell_type": "code",
   "execution_count": 10,
   "outputs": [
    {
     "name": "stdout",
     "output_type": "stream",
     "text": [
      "[[1], [1], [1], [1], [0], [1], [1], [1], [1]]\n"
     ]
    }
   ],
   "source": [
    "input_n = hb.initial_input(matrix)\n",
    "\n",
    "print(input_n)"
   ],
   "metadata": {
    "collapsed": false,
    "ExecuteTime": {
     "start_time": "2023-04-04T14:24:28.861579Z",
     "end_time": "2023-04-04T14:24:28.870788Z"
    }
   }
  },
  {
   "cell_type": "markdown",
   "source": [
    "Generate the initial weights0 (In W0n) and weights1 (In W1n)"
   ],
   "metadata": {
    "collapsed": false
   }
  },
  {
   "cell_type": "code",
   "execution_count": 11,
   "outputs": [
    {
     "name": "stdout",
     "output_type": "stream",
     "text": [
      "[[0.16, 0.11, 0.1, 0.16, 0.02, 0.12, 0.14, 0.03, 0.16]] [[0.13, 0.1, 0.09, 0.09, 0.14, 0.12, 0.12, 0.16, 0.05]]\n"
     ]
    }
   ],
   "source": [
    "weights0 =hb.initial_random_weights(matrix)\n",
    "weights1 =hb.initial_random_weights(matrix)\n",
    "print (weights0,\n",
    "\n",
    "       weights1)"
   ],
   "metadata": {
    "collapsed": false,
    "ExecuteTime": {
     "start_time": "2023-04-04T14:24:30.894491Z",
     "end_time": "2023-04-04T14:24:30.904569Z"
    }
   }
  },
  {
   "cell_type": "markdown",
   "source": [
    "set initial bias"
   ],
   "metadata": {
    "collapsed": false
   }
  },
  {
   "cell_type": "code",
   "execution_count": 12,
   "outputs": [],
   "source": [
    "import random\n",
    "bias0 = random.uniform(-1, 1)\n",
    "bias1 = random.uniform(-1, 1)"
   ],
   "metadata": {
    "collapsed": false,
    "ExecuteTime": {
     "start_time": "2023-04-04T14:24:32.828328Z",
     "end_time": "2023-04-04T14:24:32.838767Z"
    }
   }
  },
  {
   "cell_type": "markdown",
   "source": [
    "Calculate output"
   ],
   "metadata": {
    "collapsed": false
   }
  },
  {
   "cell_type": "code",
   "execution_count": 15,
   "outputs": [
    {
     "name": "stdout",
     "output_type": "stream",
     "text": [
      "[[[0.9800000000000001]], [[0.8600000000000001]]]\n"
     ]
    }
   ],
   "source": [
    "output = []\n",
    "output0 = hb.matrix_multiplication(weights0,input_n)\n",
    "output1 = hb.matrix_multiplication(weights1,input_n)\n",
    "\n",
    "output.append(output0)\n",
    "output.append(output1)\n",
    "\n",
    "# print(input_n)\n",
    "# print(weights0)\n",
    "print (output)"
   ],
   "metadata": {
    "collapsed": false,
    "ExecuteTime": {
     "start_time": "2023-04-04T14:24:37.149697Z",
     "end_time": "2023-04-04T14:24:37.172226Z"
    }
   }
  },
  {
   "cell_type": "code",
   "execution_count": null,
   "outputs": [],
   "source": [],
   "metadata": {
    "collapsed": false
   }
  }
 ],
 "metadata": {
  "kernelspec": {
   "display_name": "Python 3",
   "language": "python",
   "name": "python3"
  },
  "language_info": {
   "codemirror_mode": {
    "name": "ipython",
    "version": 2
   },
   "file_extension": ".py",
   "mimetype": "text/x-python",
   "name": "python",
   "nbconvert_exporter": "python",
   "pygments_lexer": "ipython2",
   "version": "2.7.6"
  }
 },
 "nbformat": 4,
 "nbformat_minor": 0
}
