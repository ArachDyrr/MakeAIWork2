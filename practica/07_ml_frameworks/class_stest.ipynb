{
 "cells": [
  {
   "cell_type": "code",
   "execution_count": 58,
   "metadata": {
    "collapsed": true,
    "ExecuteTime": {
     "start_time": "2023-04-05T09:14:42.779497Z",
     "end_time": "2023-04-05T09:14:42.783210Z"
    }
   },
   "outputs": [],
   "source": [
    "import random\n",
    "\n",
    "\n",
    "class Matrix:\n",
    "    # create the check to see if the matrix has the same amount of items per row\n",
    "    def __init__(self, argInput):\n",
    "        self.input = argInput\n",
    "\n",
    "    def getListOfLists (self): # generates a printable object\n",
    "        return (self.input)\n",
    "\n",
    "    def transpose (self):\n",
    "        transposed_input = list(map(list, zip(*self.input)))\n",
    "        return transposed_input\n",
    "\n",
    "    def shapeCohesionCheck(self):\n",
    "         \"\"\"Checks if all rows in a matrix have the same amount of items\"\"\"\n",
    "         row_nr = 0\n",
    "         base_row_length = len(self.input[0])\n",
    "         for item in self.input:\n",
    "            rows_col = len(self.input[row_nr])\n",
    "            if base_row_length != rows_col:\n",
    "                print(f'Error in {self.input} {item}')\n",
    "                return False\n",
    "            row_nr += 1\n",
    "            return True\n",
    "\n",
    "    def __mul__(self, other):\n",
    "        if len(self.input[0]) == len(self.other):\n",
    "            pass\n",
    "        # DeMorgan\n",
    "        # not (A and B) == not A or not B\n",
    "\n",
    "            if not (self.shapeCohesionCheck() and other.sshapeCohesionCheck()):\n",
    "                return None\n",
    "        else:\n",
    "            print('Matrix shapes != match!')\n",
    "            return None\n",
    "        #\n",
    "        # # transpose matrix_2\n",
    "        # other_transposed = list(map(list, zip(*other)))\n",
    "        #\n",
    "        # # create the new matrix for the multiplication result\n",
    "        # multiplication_result = []\n",
    "        #\n",
    "        # # cycle true the matrixes to calculate the cells for matrix3 row by row and add them to the new matrix\n",
    "        # # for i in range(len(self.input)):\n",
    "        # #     row = []\n",
    "        # #     for j in range(len(other[0])):\n",
    "        # #         cel = list(map(lambda x, y: x * y, self.input[i], other_transposed[j]))\n",
    "        # #         cel_s = sum(cel)\n",
    "        # #         row.append(cel_s)\n",
    "        # #     multiplication_result.append(row)\n",
    "        #\n",
    "        # return multiplication_result\n"
   ]
  },
  {
   "cell_type": "code",
   "execution_count": 48,
   "outputs": [],
   "source": [
    "circle = [\n",
    "    [1,1,1],\n",
    "    [0,0,0],\n",
    "    [1,1,1]\n",
    "    ]\n",
    "\n"
   ],
   "metadata": {
    "collapsed": false,
    "ExecuteTime": {
     "start_time": "2023-04-04T16:55:13.525159Z",
     "end_time": "2023-04-04T16:55:13.532091Z"
    }
   }
  },
  {
   "cell_type": "markdown",
   "source": [],
   "metadata": {
    "collapsed": false
   }
  },
  {
   "cell_type": "code",
   "execution_count": 49,
   "outputs": [],
   "source": [
    "circle_matrix = Matrix(circle)"
   ],
   "metadata": {
    "collapsed": false,
    "ExecuteTime": {
     "start_time": "2023-04-04T16:55:14.493897Z",
     "end_time": "2023-04-04T16:55:14.497893Z"
    }
   }
  },
  {
   "cell_type": "code",
   "execution_count": 50,
   "outputs": [
    {
     "name": "stdout",
     "output_type": "stream",
     "text": [
      "[[1, 0, 1], [1, 0, 1], [1, 0, 1]]\n"
     ]
    }
   ],
   "source": [
    "transposed_matrix = circle_matrix.transpose()\n",
    "print(transposed_matrix)"
   ],
   "metadata": {
    "collapsed": false,
    "ExecuteTime": {
     "start_time": "2023-04-04T16:55:15.020222Z",
     "end_time": "2023-04-04T16:55:15.030153Z"
    }
   }
  },
  {
   "cell_type": "code",
   "execution_count": 53,
   "outputs": [
    {
     "name": "stdout",
     "output_type": "stream",
     "text": [
      "True\n"
     ]
    }
   ],
   "source": [
    "shape_checked_matrix = circle_matrix.shapeCohesionCheck()\n",
    "print(shape_checked_matrix)"
   ],
   "metadata": {
    "collapsed": false,
    "ExecuteTime": {
     "start_time": "2023-04-04T16:55:29.955351Z",
     "end_time": "2023-04-04T16:55:29.959495Z"
    }
   }
  },
  {
   "cell_type": "code",
   "execution_count": 52,
   "outputs": [],
   "source": [
    "import this"
   ],
   "metadata": {
    "collapsed": false,
    "ExecuteTime": {
     "start_time": "2023-04-04T16:55:17.590339Z",
     "end_time": "2023-04-04T16:55:17.598699Z"
    }
   }
  },
  {
   "cell_type": "code",
   "execution_count": 59,
   "outputs": [
    {
     "ename": "TypeError",
     "evalue": "can't multiply sequence by non-int of type 'Matrix'",
     "output_type": "error",
     "traceback": [
      "\u001B[0;31m---------------------------------------------------------------------------\u001B[0m",
      "\u001B[0;31mTypeError\u001B[0m                                 Traceback (most recent call last)",
      "Cell \u001B[0;32mIn[59], line 1\u001B[0m\n\u001B[0;32m----> 1\u001B[0m x\u001B[38;5;241m=\u001B[39m \u001B[43mcircle_matrix\u001B[49m\u001B[38;5;241;43m*\u001B[39;49m\u001B[43mtransposed_matrix\u001B[49m\n\u001B[1;32m      2\u001B[0m \u001B[38;5;28mprint\u001B[39m (x)\n",
      "\u001B[0;31mTypeError\u001B[0m: can't multiply sequence by non-int of type 'Matrix'"
     ]
    }
   ],
   "source": [
    "x= circle_matrix*transposed_matrix\n",
    "print (x)"
   ],
   "metadata": {
    "collapsed": false
   }
  },
  {
   "cell_type": "code",
   "execution_count": null,
   "outputs": [],
   "source": [],
   "metadata": {
    "collapsed": false
   }
  }
 ],
 "metadata": {
  "kernelspec": {
   "display_name": "Python 3",
   "language": "python",
   "name": "python3"
  },
  "language_info": {
   "codemirror_mode": {
    "name": "ipython",
    "version": 2
   },
   "file_extension": ".py",
   "mimetype": "text/x-python",
   "name": "python",
   "nbconvert_exporter": "python",
   "pygments_lexer": "ipython2",
   "version": "2.7.6"
  }
 },
 "nbformat": 4,
 "nbformat_minor": 0
}
