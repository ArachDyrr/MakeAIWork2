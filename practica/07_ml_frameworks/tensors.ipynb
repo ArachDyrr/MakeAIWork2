{
 "cells": [
  {
   "cell_type": "markdown",
   "metadata": {
    "colab_type": "text",
    "id": "T1bdIQ2NW1fr"
   },
   "source": [
    "# Getting Started with PyTorch\n",
    "\n",
    "[PyTorch](https://pytorch.org/) is:\n",
    "\n",
    "> An open source machine learning framework that accelerates the path from research prototyping to production deployment.\n",
    "\n",
    "In my humble opinion, PyTorch is the [sweet](https://www.youtube.com/watch?v=-h4spfuMGDI) way to solve Machine Learning problems, in the real world! The vast community allows you to work state-of-the-art models and deploy them to production in no time (relatively speaking). Let's get started!\n",
    "\n",
    "<a href=\"https://github.com/curiousily/Getting-Things-Done-with-Pytorch/blob/master/04.first-neural-network.ipynb\">Getting-Things-Done-with-Pytorch</a>"
   ]
  },
  {
   "cell_type": "markdown",
   "metadata": {
    "colab_type": "text",
    "id": "QKXpuuCt3rYB"
   },
   "source": [
    "## PyTorch -> NumPy\n",
    "\n",
    "Do you know NumPy? If you do, learning PyTorch will be a breeze! If you don't, prepare to learn the skills that will guide you on your journey Machine Learning Mastery!\n",
    "\n",
    "Let's start with something simple:"
   ]
  },
  {
   "cell_type": "code",
   "execution_count": 1,
   "metadata": {
    "colab": {},
    "colab_type": "code",
    "id": "Wk173ueH4Uxy",
    "ExecuteTime": {
     "start_time": "2023-04-11T13:20:43.146268Z",
     "end_time": "2023-04-11T13:20:43.961993Z"
    }
   },
   "outputs": [],
   "source": [
    "import torch\n",
    "import numpy as np"
   ]
  },
  {
   "cell_type": "code",
   "execution_count": 56,
   "metadata": {
    "colab": {
     "base_uri": "https://localhost:8080/",
     "height": 34
    },
    "colab_type": "code",
    "id": "vfzfCdLx5FEm",
    "outputId": "7f9fe41b-e6a3-4941-9bb8-404c0f747ddf",
    "ExecuteTime": {
     "start_time": "2023-04-11T13:35:47.822666Z",
     "end_time": "2023-04-11T13:35:47.832012Z"
    }
   },
   "outputs": [
    {
     "data": {
      "text/plain": "array([ 9, 11])"
     },
     "execution_count": 56,
     "metadata": {},
     "output_type": "execute_result"
    }
   ],
   "source": [
    "a = np.array([1, 2])\n",
    "b = np.array([8, 9])\n",
    "\n",
    "c = a + b\n",
    "c"
   ]
  },
  {
   "cell_type": "markdown",
   "metadata": {
    "colab_type": "text",
    "id": "KwCAz4WM7XOy"
   },
   "source": [
    "Adding the same arrays with PyTorch looks like this:"
   ]
  },
  {
   "cell_type": "code",
   "execution_count": 7,
   "metadata": {
    "colab": {
     "base_uri": "https://localhost:8080/",
     "height": 34
    },
    "colab_type": "code",
    "id": "dDUOcIf07k8r",
    "outputId": "2d574606-4f2d-4f94-8c7a-c06e55bc1e75",
    "ExecuteTime": {
     "start_time": "2023-04-11T13:21:16.134515Z",
     "end_time": "2023-04-11T13:21:16.146077Z"
    }
   },
   "outputs": [
    {
     "data": {
      "text/plain": "tensor([ 9, 11])"
     },
     "execution_count": 7,
     "metadata": {},
     "output_type": "execute_result"
    }
   ],
   "source": [
    "a = torch.tensor([1, 2])\n",
    "b = torch.tensor([8, 9])\n",
    "\n",
    "c = a + b\n",
    "c"
   ]
  },
  {
   "cell_type": "markdown",
   "metadata": {
    "colab_type": "text",
    "id": "a-8tu_mlBVRx"
   },
   "source": [
    "Fortunately, you can go from NumPy to PyTorch:"
   ]
  },
  {
   "cell_type": "code",
   "execution_count": 4,
   "metadata": {
    "colab": {
     "base_uri": "https://localhost:8080/",
     "height": 34
    },
    "colab_type": "code",
    "id": "mYBBtOZ5BzZt",
    "outputId": "0170ea79-c8f5-4070-8ed0-8f48792680b5",
    "ExecuteTime": {
     "start_time": "2023-04-11T13:21:01.247749Z",
     "end_time": "2023-04-11T13:21:01.263266Z"
    }
   },
   "outputs": [
    {
     "data": {
      "text/plain": "array([1, 2])"
     },
     "execution_count": 4,
     "metadata": {},
     "output_type": "execute_result"
    }
   ],
   "source": [
    "a = torch.tensor([1, 2])\n",
    "a.numpy()"
   ]
  },
  {
   "cell_type": "markdown",
   "metadata": {
    "colab_type": "text",
    "id": "n_tueio4B9UM"
   },
   "source": [
    " and vice versa:"
   ]
  },
  {
   "cell_type": "code",
   "execution_count": 8,
   "metadata": {
    "colab": {
     "base_uri": "https://localhost:8080/",
     "height": 34
    },
    "colab_type": "code",
    "id": "wbGxHHCmCI0y",
    "outputId": "9bdee02c-655e-4af0-9ffb-00e1b751a7d9",
    "ExecuteTime": {
     "start_time": "2023-04-11T13:21:42.563139Z",
     "end_time": "2023-04-11T13:21:42.567413Z"
    }
   },
   "outputs": [
    {
     "data": {
      "text/plain": "tensor([1, 2])"
     },
     "execution_count": 8,
     "metadata": {},
     "output_type": "execute_result"
    }
   ],
   "source": [
    "a = np.array([1, 2])\n",
    "torch.from_numpy(a)"
   ]
  },
  {
   "cell_type": "markdown",
   "metadata": {
    "colab_type": "text",
    "id": "8eX91koTxYtc"
   },
   "source": [
    "The good news is that the conversions incur almost no cost on the performance of your app. The NumPy and PyTorch store data in memory in the same way. That is, PyTorch is reusing the work done by NumPy.\n",
    "\n",
    "## Tensors\n",
    "\n",
    "Tensors are just n-dimensional number (including booleans) containers. You can find the complete list of supported data types at [PyTorch's Tensor Docs](https://pytorch.org/docs/stable/tensors.html).\n",
    "\n",
    "So, how can you create a Tensor (try to ignore that I've already shown you how to do it)?\n",
    "\n"
   ]
  },
  {
   "cell_type": "code",
   "execution_count": 9,
   "metadata": {
    "colab": {
     "base_uri": "https://localhost:8080/",
     "height": 51
    },
    "colab_type": "code",
    "id": "YbBs1LnZ4In7",
    "outputId": "22e79557-9936-423c-b3bd-b81872fe1127",
    "ExecuteTime": {
     "start_time": "2023-04-11T13:21:58.963435Z",
     "end_time": "2023-04-11T13:21:58.971327Z"
    }
   },
   "outputs": [
    {
     "data": {
      "text/plain": "tensor([[1, 2],\n        [2, 1]])"
     },
     "execution_count": 9,
     "metadata": {},
     "output_type": "execute_result"
    }
   ],
   "source": [
    "# 2 x 2\n",
    "# rows x cols\n",
    "torch.tensor([[1, 2], [2, 1]])"
   ]
  },
  {
   "cell_type": "markdown",
   "metadata": {
    "colab_type": "text",
    "id": "qpfHgg9j40Zx"
   },
   "source": [
    "You can create a tensor from floats:"
   ]
  },
  {
   "cell_type": "code",
   "execution_count": 11,
   "metadata": {
    "colab": {
     "base_uri": "https://localhost:8080/",
     "height": 51
    },
    "colab_type": "code",
    "id": "oQxFkDU94lZE",
    "outputId": "5b7283e1-c4cf-42b8-d40c-c06fbc7208da",
    "ExecuteTime": {
     "start_time": "2023-04-11T13:22:18.050165Z",
     "end_time": "2023-04-11T13:22:18.058258Z"
    }
   },
   "outputs": [
    {
     "data": {
      "text/plain": "tensor([[1., 2.],\n        [2., 1.]])"
     },
     "execution_count": 11,
     "metadata": {},
     "output_type": "execute_result"
    }
   ],
   "source": [
    "torch.FloatTensor([[1, 2], [2, 1]])"
   ]
  },
  {
   "cell_type": "markdown",
   "metadata": {
    "colab_type": "text",
    "id": "1_t2URO15H1m"
   },
   "source": [
    "Or define the type like so:"
   ]
  },
  {
   "cell_type": "code",
   "execution_count": 14,
   "metadata": {
    "colab": {
     "base_uri": "https://localhost:8080/",
     "height": 51
    },
    "colab_type": "code",
    "id": "V38yr_Jw47bz",
    "outputId": "b4b41f5b-e62f-4423-8312-d5c5536b514b",
    "ExecuteTime": {
     "start_time": "2023-04-11T13:22:55.239802Z",
     "end_time": "2023-04-11T13:22:55.251712Z"
    }
   },
   "outputs": [
    {
     "data": {
      "text/plain": "tensor([[True, True],\n        [True, True]])"
     },
     "execution_count": 14,
     "metadata": {},
     "output_type": "execute_result"
    }
   ],
   "source": [
    "# 0 -> False\n",
    "torch.tensor([[1, 2], [2, 1]], dtype=torch.bool)"
   ]
  },
  {
   "cell_type": "markdown",
   "metadata": {
    "colab_type": "text",
    "id": "JmRTLJtN58lV"
   },
   "source": [
    "You can use a wide range of factory methods to create Tensors without manually specifying each number. For example, you can create a matrix with random numbers like this: "
   ]
  },
  {
   "cell_type": "code",
   "execution_count": 15,
   "metadata": {
    "colab": {
     "base_uri": "https://localhost:8080/",
     "height": 68
    },
    "colab_type": "code",
    "id": "IX7D1-fO59Tp",
    "outputId": "46527178-2120-4d4a-b759-724f76193d08",
    "ExecuteTime": {
     "start_time": "2023-04-11T13:23:11.306763Z",
     "end_time": "2023-04-11T13:23:11.310036Z"
    }
   },
   "outputs": [
    {
     "data": {
      "text/plain": "tensor([[0.6589, 0.9447],\n        [0.3100, 0.7106],\n        [0.6826, 0.5982]])"
     },
     "execution_count": 15,
     "metadata": {},
     "output_type": "execute_result"
    }
   ],
   "source": [
    "# 3 x 2\n",
    "# random values between 0 and 1\n",
    "torch.rand(3, 2)"
   ]
  },
  {
   "cell_type": "markdown",
   "metadata": {
    "colab_type": "text",
    "id": "4vYL2FDC6emK"
   },
   "source": [
    "Or one full of ones:"
   ]
  },
  {
   "cell_type": "code",
   "execution_count": 22,
   "metadata": {
    "colab": {
     "base_uri": "https://localhost:8080/",
     "height": 68
    },
    "colab_type": "code",
    "id": "xpYH8oSK6haK",
    "outputId": "329b7140-5f8b-4f7f-8eb5-41b8a1c4747e",
    "ExecuteTime": {
     "start_time": "2023-04-11T13:24:55.308892Z",
     "end_time": "2023-04-11T13:24:55.319893Z"
    }
   },
   "outputs": [
    {
     "data": {
      "text/plain": "tensor([[0., 0.],\n        [0., 0.],\n        [0., 0.]])"
     },
     "execution_count": 22,
     "metadata": {},
     "output_type": "execute_result"
    }
   ],
   "source": [
    "# Generate a 3 x 2 matrix of float values\n",
    "torch.ones(3, 2)\n",
    "torch.zeros(3, 2)\n"
   ]
  },
  {
   "cell_type": "markdown",
   "metadata": {
    "colab_type": "text",
    "id": "CK5KF34VGNeI"
   },
   "source": [
    "PyTorch has a variety of useful operations:"
   ]
  },
  {
   "cell_type": "code",
   "execution_count": 23,
   "metadata": {
    "colab": {
     "base_uri": "https://localhost:8080/",
     "height": 68
    },
    "colab_type": "code",
    "id": "NLMyFkALGd84",
    "outputId": "d8498aef-e2c0-489f-db1d-7ea84fbd1f30",
    "ExecuteTime": {
     "start_time": "2023-04-11T13:25:04.891013Z",
     "end_time": "2023-04-11T13:25:04.894070Z"
    }
   },
   "outputs": [
    {
     "name": "stdout",
     "output_type": "stream",
     "text": [
      "tensor([[2, 3],\n",
      "        [1, 2]])\n",
      "sum: 8\n"
     ]
    }
   ],
   "source": [
    "x = torch.tensor([[2, 3], [1, 2]])\n",
    "print(x)\n",
    "print(f'sum: {x.sum()}')"
   ]
  },
  {
   "cell_type": "code",
   "execution_count": 33,
   "outputs": [
    {
     "name": "stdout",
     "output_type": "stream",
     "text": [
      "tensor([[2, 3],\n",
      "        [1, 2]])\n",
      "sum: 5\n"
     ]
    }
   ],
   "source": [
    "x = torch.tensor([[2, 3], [1, 2]])\n",
    "print(x)\n",
    "print(f'sum: {x[0].sum()}')"
   ],
   "metadata": {
    "collapsed": false,
    "ExecuteTime": {
     "start_time": "2023-04-11T13:28:34.058084Z",
     "end_time": "2023-04-11T13:28:34.066739Z"
    }
   }
  },
  {
   "cell_type": "markdown",
   "metadata": {
    "colab_type": "text",
    "id": "QyzGvIsAIt-u"
   },
   "source": [
    "Get the transpose of a 2-D tensor:"
   ]
  },
  {
   "cell_type": "code",
   "execution_count": 34,
   "metadata": {
    "colab": {
     "base_uri": "https://localhost:8080/",
     "height": 51
    },
    "colab_type": "code",
    "id": "rDgKzHgkIi4O",
    "outputId": "4fe531d4-71fb-4b28-b455-6593d0e86b51",
    "ExecuteTime": {
     "start_time": "2023-04-11T13:28:39.927462Z",
     "end_time": "2023-04-11T13:28:39.937884Z"
    }
   },
   "outputs": [
    {
     "data": {
      "text/plain": "tensor([[2, 1],\n        [3, 2]])"
     },
     "execution_count": 34,
     "metadata": {},
     "output_type": "execute_result"
    }
   ],
   "source": [
    "x.t()"
   ]
  },
  {
   "cell_type": "code",
   "execution_count": 40,
   "metadata": {
    "ExecuteTime": {
     "start_time": "2023-04-11T13:29:57.219326Z",
     "end_time": "2023-04-11T13:29:57.227681Z"
    }
   },
   "outputs": [
    {
     "data": {
      "text/plain": "tensor([1])"
     },
     "execution_count": 40,
     "metadata": {},
     "output_type": "execute_result"
    }
   ],
   "source": [
    "# Scalar is a single valued tensor\n",
    "\n",
    "x = torch.tensor([1])\n",
    "type(x)\n",
    "x.t()"
   ]
  },
  {
   "cell_type": "markdown",
   "metadata": {
    "colab_type": "text",
    "id": "d_JRK8brLZTh"
   },
   "source": [
    "Get the shape of each dimension:"
   ]
  },
  {
   "cell_type": "code",
   "execution_count": 41,
   "metadata": {
    "colab": {
     "base_uri": "https://localhost:8080/",
     "height": 34
    },
    "colab_type": "code",
    "id": "GvDZZ-igLaio",
    "outputId": "04cff3fb-e665-485c-c155-2f562667dc48",
    "ExecuteTime": {
     "start_time": "2023-04-11T13:29:59.685755Z",
     "end_time": "2023-04-11T13:29:59.694187Z"
    }
   },
   "outputs": [
    {
     "data": {
      "text/plain": "torch.Size([1])"
     },
     "execution_count": 41,
     "metadata": {},
     "output_type": "execute_result"
    }
   ],
   "source": [
    "# x = torch.rand(3, 2)\n",
    "\n",
    "x.size()"
   ]
  },
  {
   "cell_type": "markdown",
   "metadata": {
    "colab_type": "text",
    "id": "zxjrhfUfR_rM"
   },
   "source": [
    "Generally, performing some operation creates a new Tensor:"
   ]
  },
  {
   "cell_type": "code",
   "execution_count": 49,
   "metadata": {
    "colab": {
     "base_uri": "https://localhost:8080/",
     "height": 51
    },
    "colab_type": "code",
    "id": "yy7LEtCCSszs",
    "outputId": "9fba705c-10dd-4c87-a1ec-41f95346a4b0",
    "ExecuteTime": {
     "start_time": "2023-04-11T13:33:00.172020Z",
     "end_time": "2023-04-11T13:33:00.179576Z"
    }
   },
   "outputs": [
    {
     "name": "stdout",
     "output_type": "stream",
     "text": [
      "tensor([[2, 3],\n",
      "        [1, 2]])\n",
      "tensor([[2, 2],\n",
      "        [5, 1]])\n"
     ]
    },
    {
     "data": {
      "text/plain": "tensor([[4, 5],\n        [6, 3]])"
     },
     "execution_count": 49,
     "metadata": {},
     "output_type": "execute_result"
    }
   ],
   "source": [
    "x = torch.tensor([[2, 3], [1, 2]])\n",
    "print(x)\n",
    "y = torch.tensor([[2, 2], [5, 1]])\n",
    "# y = np.array([[2, 2], [5, 1]])\n",
    "print(y)\n",
    "z = x.add(y)\n",
    "# np.add(x, y)\n",
    "z"
   ]
  },
  {
   "cell_type": "code",
   "execution_count": 54,
   "metadata": {
    "ExecuteTime": {
     "start_time": "2023-04-11T13:34:47.211023Z",
     "end_time": "2023-04-11T13:34:47.221555Z"
    }
   },
   "outputs": [
    {
     "data": {
      "text/plain": "tensor([[ 8,  9],\n        [16,  5]])"
     },
     "execution_count": 54,
     "metadata": {},
     "output_type": "execute_result"
    }
   ],
   "source": [
    "# Operator Overloading\n",
    "x + y"
   ]
  },
  {
   "cell_type": "markdown",
   "metadata": {
    "colab_type": "text",
    "id": "e9B-2vSaT0tx"
   },
   "source": [
    "But you can do it in-place:"
   ]
  },
  {
   "cell_type": "code",
   "execution_count": 1,
   "metadata": {
    "colab": {
     "base_uri": "https://localhost:8080/",
     "height": 51
    },
    "colab_type": "code",
    "id": "Fd2KmNhvT-pb",
    "outputId": "663f18df-7f68-4936-c56f-2c22f5baf8e3",
    "ExecuteTime": {
     "start_time": "2023-04-11T13:34:49.603230Z",
     "end_time": "2023-04-11T13:34:49.611185Z"
    }
   },
   "outputs": [
    {
     "ename": "NameError",
     "evalue": "name 'x' is not defined",
     "output_type": "error",
     "traceback": [
      "\u001B[0;31m---------------------------------------------------------------------------\u001B[0m",
      "\u001B[0;31mNameError\u001B[0m                                 Traceback (most recent call last)",
      "Cell \u001B[0;32mIn[1], line 1\u001B[0m\n\u001B[0;32m----> 1\u001B[0m \u001B[43mx\u001B[49m\u001B[38;5;241m.\u001B[39madd_(y)  \u001B[38;5;66;03m# overides x with the result of x+y.\u001B[39;00m\n\u001B[1;32m      2\u001B[0m x\u001B[38;5;241m.\u001B[39madd(y)  \u001B[38;5;66;03m# produces x+y does not store it unless you put in in a variable. \u001B[39;00m\n\u001B[1;32m      3\u001B[0m x\n",
      "\u001B[0;31mNameError\u001B[0m: name 'x' is not defined"
     ]
    }
   ],
   "source": [
    "x.add_(y)  # overides x with the result of x+y.\n",
    "x.add(y)  # produces x+y does not store it unless you put in in a variable.\n",
    "x"
   ]
  },
  {
   "cell_type": "markdown",
   "metadata": {
    "colab_type": "text",
    "id": "n1iRWWwOU_eq"
   },
   "source": [
    "Almost all operations have an in-place version - the name of the operation, followed by an underscore."
   ]
  },
  {
   "cell_type": "markdown",
   "metadata": {
    "colab_type": "text",
    "id": "d7_Aqx9mfCoV"
   },
   "source": [
    "<h3>BONUS: GPU</h3>\n",
    "\n",
    "PyTorch is very descriptive in this case. When doing more complex stuff, you would want to check the shape of your Tensors obsessively, after every operation. Just print the size!\n",
    "\n",
    "- Running out of GPU memory: You might be leaking memory or too large of a dataset/model. Faster/better GPU always helps. But remember, you can solve really large problems with a single powerful GPU these days. Think carefully if that is not enough for you - why that is?"
   ]
  },
  {
   "cell_type": "markdown",
   "metadata": {
    "colab_type": "text",
    "id": "wAt2CDnYjAc4"
   },
   "source": [
    "## References\n",
    "\n",
    "- [\"PyTorch: A Modern Library for Machine Learning\" with Adam Paszke](https://www.youtube.com/watch?v=5bSAipCNqXo)\n",
    "- [Recitation 1 | Your First Deep Learning Code](https://www.youtube.com/watch?v=KrCp_yPVOxs)\n",
    "- [What is PyTorch?](https://pytorch.org/tutorials/beginner/blitz/tensor_tutorial.html)"
   ]
  }
 ],
 "metadata": {
  "accelerator": "GPU",
  "colab": {
   "collapsed_sections": [],
   "name": "01.getting-started-with-pytorch.ipynb",
   "provenance": []
  },
  "kernelspec": {
   "display_name": "Python 3 (ipykernel)",
   "language": "python",
   "name": "python3"
  },
  "language_info": {
   "codemirror_mode": {
    "name": "ipython",
    "version": 3
   },
   "file_extension": ".py",
   "mimetype": "text/x-python",
   "name": "python",
   "nbconvert_exporter": "python",
   "pygments_lexer": "ipython3",
   "version": "3.10.9"
  }
 },
 "nbformat": 4,
 "nbformat_minor": 4
}
