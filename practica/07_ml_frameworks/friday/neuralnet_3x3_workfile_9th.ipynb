{
 "cells": [
  {
   "cell_type": "code",
   "execution_count": 6,
   "outputs": [],
   "source": [
    "import random\n"
   ],
   "metadata": {
    "collapsed": false,
    "ExecuteTime": {
     "start_time": "2023-04-07T23:07:35.397711Z",
     "end_time": "2023-04-07T23:07:35.406945Z"
    }
   }
  },
  {
   "cell_type": "code",
   "execution_count": 7,
   "outputs": [],
   "source": [
    "circle = [\n",
    "    [1,1,1],\n",
    "    [1,0,1],\n",
    "    [1,1,1]\n",
    "    ]\n",
    "\n",
    "cross = [\n",
    "    [1,0,1],\n",
    "    [0,1,0],\n",
    "    [1,0,1]\n",
    "]\n",
    "\n",
    "\n",
    "# hapes and labels\n",
    "shapes = [circle,cross]\n",
    "labels = [[1,0],[0,1]]\n",
    "\n",
    "\n",
    "\n",
    "# print(f\"cirle = {circle}, cross = {cross}\")"
   ],
   "metadata": {
    "collapsed": false,
    "ExecuteTime": {
     "start_time": "2023-04-07T23:07:36.061387Z",
     "end_time": "2023-04-07T23:07:36.068985Z"
    }
   }
  },
  {
   "cell_type": "code",
   "execution_count": 8,
   "outputs": [],
   "source": [
    "matrix = [[random.randint(0, 1) for j in range(3)] for i in range(3)]"
   ],
   "metadata": {
    "collapsed": false,
    "ExecuteTime": {
     "start_time": "2023-04-07T23:07:36.539041Z",
     "end_time": "2023-04-07T23:07:36.543423Z"
    }
   }
  },
  {
   "cell_type": "code",
   "execution_count": 9,
   "outputs": [],
   "source": [
    "# import random\n",
    "# # create random array\n",
    "#\n",
    "# matrix = [[random.randint(0, 1) for j in range(3)] for i in range(3)]"
   ],
   "metadata": {
    "collapsed": false,
    "ExecuteTime": {
     "start_time": "2023-04-07T23:07:36.777034Z",
     "end_time": "2023-04-07T23:07:36.785596Z"
    }
   }
  },
  {
   "cell_type": "code",
   "execution_count": 10,
   "outputs": [],
   "source": [
    "# functions\n",
    "\n",
    "\n",
    "import random\n",
    "\n",
    "\n",
    "# print(bias0)\n",
    "\n",
    "# create the check to see if the matrix has the same amount of items per row\n",
    "\n",
    "\n",
    "def matrix_shape_check(matrix):\n",
    "    \"\"\"Checks if all rows in a matrix have the same amount of items\"\"\"\n",
    "    row_nr = 0\n",
    "    base_row_length = len(matrix[0])\n",
    "    for item in matrix:\n",
    "        rows_col = len(matrix[row_nr])\n",
    "        if base_row_length != rows_col:\n",
    "            print(f'Error in {matrix} {item}')\n",
    "            return False\n",
    "        row_nr += 1\n",
    "    return True\n",
    "\n",
    "\n",
    "# create the function to multiply the 2 matrixes\n",
    "\n",
    "def matrix_multiplication(matrix1, matrix2):\n",
    "    \"\"\"multiplies two matrixes if permitted\"\"\"\n",
    "    # check if both lists of lists have the proper shape to be a matrix.\n",
    "\n",
    "    if len(matrix1[0]) == len(matrix2):\n",
    "        pass\n",
    "    # DeMorgan\n",
    "    # not (A and B) == not A or not B\n",
    "\n",
    "        if not (matrix_shape_check(matrix1) and matrix_shape_check(matrix2)):\n",
    "            return None\n",
    "    else:\n",
    "        print('Matrix shapes != match!')\n",
    "        return None\n",
    "\n",
    "    # transpose matrix_2\n",
    "    matrix2t = list(map(list, zip(*matrix2)))\n",
    "\n",
    "    # create the new matrix for the multiplication result\n",
    "    matrix3 = []\n",
    "\n",
    "    # cycle true the matrixes to calculate the cells for matrix3 row by row and add them to the new matrix\n",
    "    for i in range(len(matrix1)):\n",
    "        row = []\n",
    "        for j in range(len(matrix2[0])):\n",
    "            cel = list(map(lambda x, y: x * y, matrix1[i], matrix2t[j]))\n",
    "            cel_s = sum(cel)\n",
    "            row.append(cel_s)\n",
    "        matrix3.append(row)\n",
    "\n",
    "    return matrix3\n",
    "\n",
    "\n",
    "def initial_input(list_of_list_matrix):\n",
    "    \"\"\"flaten a matrix to ( n * 0) \"\"\"\n",
    "    flattned_matrix = [sum(list_of_list_matrix, [])]\n",
    "    initial_matrix = list(map(list, zip(*flattned_matrix)))\n",
    "    return initial_matrix\n",
    "    # return flattned_matrix\n",
    "\n",
    "def flatten(list_of_list_matrix):\n",
    "    \"\"\"flaten a matrix to ( n * 0) \"\"\"\n",
    "    flattned_matrix = [sum(list_of_list_matrix, [])]\n",
    "    initial_matrix = list(map(list, zip(*flattned_matrix)))\n",
    "    return initial_matrix\n",
    "    # return flattned_matrix\n",
    "\n",
    "\n",
    "# a function to generate random weights\n",
    "def initial_random_weights(i_n):\n",
    "    \"\"\"generate random weights totaling to 1\"\"\"\n",
    "\n",
    "    i_n = [sum(i_n, [])]\n",
    "\n",
    "    # Generate n random values\n",
    "    initial_weights = [random.random() for i in range(len(i_n[0]))]\n",
    "\n",
    "    # Calculate the sum of the random values\n",
    "    weight_sum = sum(initial_weights)\n",
    "\n",
    "    # Divide each random value by the sum to normalize them\n",
    "    random_weights = [round(item/weight_sum,2) for item in initial_weights]\n",
    "\n",
    "    return [random_weights]\n",
    "\n",
    "def softmax(output):\n",
    "    output0 = output[0][0]\n",
    "    output1 = output[1][0]\n",
    "    e = 2.718281828459045\n",
    "    softmax_output0 = e ** output0 / (e ** output0 + e ** output1)\n",
    "    softmax_output1 = e ** output1 / (e ** output0 + e ** output1)\n",
    "    return [[softmax_output0], [softmax_output1]]\n",
    "\n",
    "def result_label(softmax_output):\n",
    "    if softmax_output[0] > softmax_output[1]:\n",
    "        return circle\n",
    "    elif softmax_output[1] > softmax_output[0]:\n",
    "        return cross\n",
    "    else:\n",
    "        return None\n",
    "\n",
    "def result_string(softmax_output):\n",
    "    if softmax_output[0] > softmax_output[1]:\n",
    "        return 'circle'\n",
    "    elif softmax_output[1] > softmax_output[0]:\n",
    "        return 'cross'\n",
    "    else:\n",
    "        return 'None'\n",
    "\n",
    "\n",
    "# prediction\n",
    "def predict(shape):\n",
    "    # make empty list\n",
    "    output = []\n",
    "    output0 = sum(matrix_multiplication(weights0,flatten(shape)), [])\n",
    "    output1 = sum(matrix_multiplication(weights1,flatten(shape)), [])\n",
    "\n",
    "    # add bias\n",
    "    output0[0] += bias0\n",
    "    output1[0] += bias1\n",
    "\n",
    "    output.append(output0)\n",
    "    output.append(output1)\n",
    "\n",
    "    return output\n",
    "\n",
    "\n",
    "\n",
    "\n",
    "\n",
    "def gradientDescent(shapes, labels):\n",
    "    # (inputShapes, outputLabels: X,Y)\n",
    "# stochastic (= per sample) of alle samples (= gemiddelde van een aantal samples of een deel van de hele set (= batch)\n",
    "# hier kiezen we per sample\n",
    "\n",
    "    global bias0, bias1\n",
    "    for i in range(len(shapes)):\n",
    "        Yhats = predict(shapes[i])\n",
    "        error0 = labels[i][0] - Yhats[0][0]\n",
    "        error1 = labels[i][1] - Yhats[1][0]\n",
    "\n",
    "        # input\n",
    "        dw0 = -2 * error0 * shapes[i][0][0]\n",
    "        dw1 = -2 * error0 * shapes[i][0][1]\n",
    "        dw2 = -2 * error0 * shapes[i][0][2]\n",
    "        dw3 = -2 * error0 * shapes[i][1][0]\n",
    "        dw4 = -2 * error0 * shapes[i][1][1]\n",
    "        dw5 = -2 * error0 * shapes[i][1][2]\n",
    "        dw6 = -2 * error0 * shapes[i][2][0]\n",
    "        dw7 = -2 * error0 * shapes[i][2][1]\n",
    "        dw8 = -2 * error0 * shapes[i][2][2]\n",
    "        db  = -2 * error0\n",
    "\n",
    "        weights0[0][0] -= learnRate * dw0\n",
    "        weights0[0][1] -= learnRate * dw1\n",
    "        weights0[0][2] -= learnRate * dw2\n",
    "        weights0[0][3] -= learnRate * dw3\n",
    "        weights0[0][4] -= learnRate * dw4\n",
    "        weights0[0][5] -= learnRate * dw5\n",
    "        weights0[0][6] -= learnRate * dw6\n",
    "        weights0[0][7] -= learnRate * dw7\n",
    "        weights0[0][8] -= learnRate * dw8\n",
    "        bias0 -= learnRate * db\n",
    "\n",
    "        # input\n",
    "        dw0 = -2 * error1 * shapes[i][0][0]\n",
    "        dw1 = -2 * error1 * shapes[i][0][1]\n",
    "        dw2 = -2 * error1 * shapes[i][0][2]\n",
    "        dw3 = -2 * error1 * shapes[i][1][0]\n",
    "        dw4 = -2 * error1 * shapes[i][1][1]\n",
    "        dw5 = -2 * error1 * shapes[i][1][2]\n",
    "        dw6 = -2 * error1 * shapes[i][2][0]\n",
    "        dw7 = -2 * error1 * shapes[i][2][1]\n",
    "        dw8 = -2 * error1 * shapes[i][2][2]\n",
    "        db  = -2 * error1\n",
    "\n",
    "        weights1[0][0] -= learnRate * dw0\n",
    "        weights1[0][1] -= learnRate * dw1\n",
    "        weights1[0][2] -= learnRate * dw2\n",
    "        weights1[0][3] -= learnRate * dw3\n",
    "        weights1[0][4] -= learnRate * dw4\n",
    "        weights1[0][5] -= learnRate * dw5\n",
    "        weights1[0][6] -= learnRate * dw6\n",
    "        weights1[0][7] -= learnRate * dw7\n",
    "        weights1[0][8] -= learnRate * dw8\n",
    "        bias1 -= learnRate * db\n",
    "\n",
    "\n",
    "\n",
    "\n"
   ],
   "metadata": {
    "collapsed": false,
    "ExecuteTime": {
     "start_time": "2023-04-07T23:07:37.008519Z",
     "end_time": "2023-04-07T23:07:37.012993Z"
    }
   }
  },
  {
   "cell_type": "markdown",
   "source": [
    "# output:\n",
    "list of lists\n",
    "[[0],   the 0th is the circle\n",
    "[0]]    the 1st is the diagonal cross\n",
    "\n"
   ],
   "metadata": {
    "collapsed": false
   }
  },
  {
   "cell_type": "markdown",
   "source": [
    "Calculate output"
   ],
   "metadata": {
    "collapsed": false
   }
  },
  {
   "cell_type": "markdown",
   "source": [
    "apply a softmax"
   ],
   "metadata": {
    "collapsed": false
   }
  },
  {
   "cell_type": "markdown",
   "source": [
    "Generate the imputs and the initial weights0 (In W0n) and weights1 (In W1n) and initial biases and bias0 bias1"
   ],
   "metadata": {
    "collapsed": false
   }
  },
  {
   "cell_type": "markdown",
   "source": [
    "start to learn\n"
   ],
   "metadata": {
    "collapsed": false
   }
  },
  {
   "cell_type": "code",
   "execution_count": 11,
   "outputs": [],
   "source": [
    "\n",
    "weights0 =initial_random_weights(matrix)\n",
    "weights1 =initial_random_weights(matrix)\n",
    "bias0 = random.uniform(-1, 1)\n",
    "bias1 = random.uniform(-1, 1)\n",
    "\n"
   ],
   "metadata": {
    "collapsed": false,
    "ExecuteTime": {
     "start_time": "2023-04-07T23:07:39.309889Z",
     "end_time": "2023-04-07T23:07:39.317862Z"
    }
   }
  },
  {
   "cell_type": "code",
   "execution_count": 12,
   "outputs": [],
   "source": [
    "# learning steps, size and amount\n",
    "\n",
    "learnRate = 0.01\n",
    "epochs = 1000\n",
    "\n",
    "# weightVector0 = initializeWeightMatrix(9)\n",
    "# weightVector1 = initializeWeightMatrix(9)\n",
    "# # bias0 en bias1 zitten hier al in een lijst\n",
    "# biasVector = initializeBias(2)\n",
    "\n",
    "for epoch in range(epochs):\n",
    "    gradientDescent(shapes, labels)\n",
    "    # print(MSE(inputShapes, outputLabels))\n",
    "\n",
    "# print(biasVector)"
   ],
   "metadata": {
    "collapsed": false,
    "ExecuteTime": {
     "start_time": "2023-04-07T23:07:40.054789Z",
     "end_time": "2023-04-07T23:07:40.057099Z"
    }
   }
  },
  {
   "cell_type": "code",
   "execution_count": 13,
   "outputs": [
    {
     "name": "stdout",
     "output_type": "stream",
     "text": [
      "[[0.05686575561242633, 0.20537315112248494, 0.06686575561242603, 0.295373151122485, 0.0014926044899401633, 0.22537315112248496, 0.14686575561242607, 0.2753731511224849, -0.01313424438757374]]\n",
      "[[0.09226980931163563, -0.22754603813767296, 0.16226980931163543, -0.07754603813767288, 0.38981584744930764, -0.09754603813767285, 0.16226980931163543, -0.2075460381376729, 0.16226980931163543]]\n",
      "\n",
      "-0.2589556269396448\n",
      "0.031104915304149997\n"
     ]
    }
   ],
   "source": [
    "print (weights0)\n",
    "print (weights1)\n",
    "print ()\n",
    "print (bias0)\n",
    "print (bias1)\n"
   ],
   "metadata": {
    "collapsed": false,
    "ExecuteTime": {
     "start_time": "2023-04-07T23:07:40.658677Z",
     "end_time": "2023-04-07T23:07:40.666887Z"
    }
   }
  },
  {
   "cell_type": "markdown",
   "source": [
    "# lets run some tests"
   ],
   "metadata": {
    "collapsed": false
   }
  },
  {
   "cell_type": "code",
   "execution_count": 14,
   "outputs": [],
   "source": [
    "circle = [\n",
    "    [1,1,1],\n",
    "    [1,0,1],\n",
    "    [1,1,1]\n",
    "    ]\n",
    "cross = [\n",
    "    [1,0,1],\n",
    "    [0,1,0],\n",
    "    [1,0,1]\n",
    "]\n",
    "\n"
   ],
   "metadata": {
    "collapsed": false,
    "ExecuteTime": {
     "start_time": "2023-04-07T23:07:41.919997Z",
     "end_time": "2023-04-07T23:07:41.926168Z"
    }
   }
  },
  {
   "cell_type": "code",
   "execution_count": 20,
   "outputs": [
    {
     "name": "stdout",
     "output_type": "stream",
     "text": [
      "The input matrix [[1, 0, 1], [0, 1, 0], [1, 0, 1]]\n",
      "The input labels [[1], [0], [1], [0], [1], [0], [1], [0], [1]]\n",
      "the output[[0.0], [0.9999999999999998]]\n",
      "The checked looks most like [[1, 0, 1], [0, 1, 0], [1, 0, 1]]\n",
      "The checked is labled cross\n"
     ]
    }
   ],
   "source": [
    "# matrix_check = [[random.randint(0, 1) for j in range(3)] for i in range(3)]\n",
    "matrix_check = circle\n",
    "matrix_check = cross\n",
    "\n",
    "print (f'The input matrix {matrix_check}')\n",
    "input_check = initial_input(matrix)\n",
    "\n",
    "print (f'The input labels {input_check}')\n",
    "\n",
    "output_check = []\n",
    "output_check0 = sum(matrix_multiplication(weights0,input_check), [])\n",
    "output_check1 = sum(matrix_multiplication(weights1,input_check), [])\n",
    "\n",
    "output_check.append(output_check0)\n",
    "output_check.append(output_check1)\n",
    "\n",
    "# add bias\n",
    "output_check0[0] += bias0\n",
    "output_check1[0] += bias1\n",
    "\n",
    "# print the output\n",
    "print (f'the output{output_check}')\n",
    "\n",
    "# matrix = cross\n",
    "# [[6.661338147750939e-16], [0.9999999999999994]]\n",
    "\n",
    "# matrix = circle\n",
    "# [[0.9999999999999993], [0.0]]\n",
    "\n",
    "\n",
    "#  what does output mean?\n",
    "softmax_output_check = softmax(output_check)\n",
    "\n",
    "lookslike_matrix = result_label(softmax_output_check)\n",
    "lookslike_string = result_string(softmax_output_check)\n",
    "\n",
    "print (f'The checked looks most like {lookslike_matrix}')\n",
    "print (f'The checked is labled {lookslike_string}')"
   ],
   "metadata": {
    "collapsed": false,
    "ExecuteTime": {
     "start_time": "2023-04-07T23:11:33.858209Z",
     "end_time": "2023-04-07T23:11:33.864720Z"
    }
   }
  },
  {
   "cell_type": "markdown",
   "source": [],
   "metadata": {
    "collapsed": false
   }
  },
  {
   "cell_type": "markdown",
   "source": [
    "visualisation!"
   ],
   "metadata": {
    "collapsed": false
   }
  },
  {
   "cell_type": "code",
   "execution_count": 19,
   "outputs": [
    {
     "data": {
      "text/plain": "<Figure size 640x480 with 2 Axes>",
      "image/png": "[encoded data removed]"
     },
     "metadata": {},
     "output_type": "display_data"
    },
    {
     "name": "stdout",
     "output_type": "stream",
     "text": [
      "The image looks most like a cross\n"
     ]
    }
   ],
   "source": [
    "import matplotlib.pyplot as plt\n",
    "\n",
    "\n",
    "\n",
    "# Create a grayscale colormap\n",
    "cmap = plt.get_cmap('gray')\n",
    "\n",
    "# Set up a figure with two subplots\n",
    "fig, (ax1, ax2) = plt.subplots(1, 2)\n",
    "\n",
    "# Display the cross array in the left subplot\n",
    "ax1.imshow(matrix, cmap=cmap)\n",
    "ax1.axis('off')\n",
    "\n",
    "# Display the circle array in the right subplot\n",
    "ax2.imshow(lookslike_matrix, cmap=cmap)\n",
    "ax2.axis('off')\n",
    "\n",
    "# Show the plot\n",
    "plt.show()\n",
    "print(f'The image looks most like a {lookslike_string}')\n"
   ],
   "metadata": {
    "collapsed": false,
    "ExecuteTime": {
     "start_time": "2023-04-07T23:09:26.960937Z",
     "end_time": "2023-04-07T23:09:26.999512Z"
    }
   }
  },
  {
   "cell_type": "code",
   "execution_count": 120,
   "outputs": [],
   "source": [],
   "metadata": {
    "collapsed": false,
    "ExecuteTime": {
     "start_time": "2023-04-07T22:48:42.508296Z",
     "end_time": "2023-04-07T22:48:42.534528Z"
    }
   }
  },
  {
   "cell_type": "code",
   "execution_count": null,
   "outputs": [],
   "source": [],
   "metadata": {
    "collapsed": false
   }
  }
 ],
 "metadata": {
  "kernelspec": {
   "display_name": "Python 3",
   "language": "python",
   "name": "python3"
  },
  "language_info": {
   "codemirror_mode": {
    "name": "ipython",
    "version": 2
   },
   "file_extension": ".py",
   "mimetype": "text/x-python",
   "name": "python",
   "nbconvert_exporter": "python",
   "pygments_lexer": "ipython2",
   "version": "2.7.6"
  }
 },
 "nbformat": 4,
 "nbformat_minor": 0
}
