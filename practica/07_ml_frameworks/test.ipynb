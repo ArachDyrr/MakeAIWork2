{
 "cells": [
  {
   "cell_type": "code",
   "execution_count": 9,
   "outputs": [],
   "source": [
    "class Matrix:\n",
    "    # create the check to see if the matrix has the same amount of items per row\n",
    "    def __init__(self, argInput):\n",
    "        self.input = argInput\n",
    "\n",
    "    def getListOfLists (self): # generates a printable object\n",
    "        return (self.input)\n",
    "\n",
    "    def transpose (self):\n",
    "        transposed_input = list(map(list, zip(*self.input)))\n",
    "        return transposed_input\n",
    "\n",
    "    def shapeCohesionCheck(self):\n",
    "         \"\"\"Checks if all rows in a matrix have the same amount of items\"\"\"\n",
    "         row_nr = 0\n",
    "         base_row_length = len(self.input[0])\n",
    "         for item in self.input:\n",
    "            rows_col = len(self.input[row_nr])\n",
    "            if base_row_length != rows_col:\n",
    "                print(f'Error in {self.input} {item}')\n",
    "                return False\n",
    "            row_nr += 1\n",
    "            return True\n",
    "\n",
    "    def matrix_multiplication(self, other_matrix):\n",
    "        \"\"\"multiplies two matrices if permitted\"\"\"\n",
    "        # check if both matrices have the proper shape to be multiplied\n",
    "\n",
    "        if len(self.input[0]) == len(other_matrix.input):\n",
    "            pass\n",
    "            # DeMorgan\n",
    "            # not (A and B) == not A or not B\n",
    "\n",
    "            if not (self.matrix_shape_check() and other_matrix.matrix_shape_check()):\n",
    "                return None\n",
    "        else:\n",
    "            print('Matrix shapes do not match!')\n",
    "            return None\n",
    "\n",
    "        # transpose the second matrix\n",
    "        other_matrix_t = list(map(list, zip(*other_matrix.input)))\n",
    "\n",
    "        # create the new matrix for the multiplication result\n",
    "        result_matrix = []\n",
    "\n",
    "        # cycle through the matrices to calculate the cells for result_matrix row by row and add them to the new matrix\n",
    "        for i in range(len(self.input)):\n",
    "            row = []\n",
    "            for j in range(len(other_matrix.input[0])):\n",
    "                cell = list(map(lambda x, y: x * y, self.input[i], other_matrix_t[j]))\n",
    "                cell_sum = sum(cell)\n",
    "                row.append(cell_sum)\n",
    "            result_matrix.append(row)\n",
    "\n",
    "        return result_matrix\n",
    "\n",
    "    def matrix_shape_check(self):\n",
    "        \"\"\"check if all rows in matrix have the same length\"\"\"\n",
    "        shape = len(self.input[0])\n",
    "        return all(len(row) == shape for row in self.input)"
   ],
   "metadata": {
    "collapsed": false,
    "ExecuteTime": {
     "start_time": "2023-04-05T09:32:31.050695Z",
     "end_time": "2023-04-05T09:32:31.050779Z"
    }
   }
  },
  {
   "cell_type": "code",
   "execution_count": 8,
   "outputs": [],
   "source": [
    "\n",
    "matrix1 = Matrix([[1, 2, 3], [4, 5, 6]])\n",
    "matrix2 = Matrix([[7, 8], [9, 10], [11, 12]])\n",
    "\n",
    "result = matrix1.matrix_multiplication(matrix2)"
   ],
   "metadata": {
    "collapsed": false,
    "ExecuteTime": {
     "start_time": "2023-04-05T09:30:42.296870Z",
     "end_time": "2023-04-05T09:30:42.300280Z"
    }
   }
  },
  {
   "cell_type": "code",
   "execution_count": 10,
   "outputs": [
    {
     "name": "stdout",
     "output_type": "stream",
     "text": [
      "[[58, 64], [139, 154]]\n"
     ]
    }
   ],
   "source": [
    "print (result)"
   ],
   "metadata": {
    "collapsed": false,
    "ExecuteTime": {
     "start_time": "2023-04-05T09:33:25.505574Z",
     "end_time": "2023-04-05T09:33:25.505643Z"
    }
   }
  },
  {
   "cell_type": "code",
   "execution_count": null,
   "outputs": [],
   "source": [],
   "metadata": {
    "collapsed": false
   }
  }
 ],
 "metadata": {
  "kernelspec": {
   "display_name": "Python 3",
   "language": "python",
   "name": "python3"
  },
  "language_info": {
   "codemirror_mode": {
    "name": "ipython",
    "version": 2
   },
   "file_extension": ".py",
   "mimetype": "text/x-python",
   "name": "python",
   "nbconvert_exporter": "python",
   "pygments_lexer": "ipython2",
   "version": "2.7.6"
  }
 },
 "nbformat": 4,
 "nbformat_minor": 0
}
