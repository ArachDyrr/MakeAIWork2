{
 "cells": [
  {
   "cell_type": "code",
   "execution_count": 9,
   "id": "6024bbbc-169d-4b34-962a-184b21942a8e",
   "metadata": {
    "tags": [],
    "ExecuteTime": {
     "start_time": "2023-04-13T10:29:08.267533Z",
     "end_time": "2023-04-13T10:29:08.273832Z"
    }
   },
   "outputs": [],
   "source": [
    "import os\n",
    "\n",
    "import torch\n",
    "\n",
    "from torch import nn\n",
    "from torch import optim\n",
    "\n",
    "import matplotlib.pyplot as plt"
   ]
  },
  {
   "cell_type": "code",
   "execution_count": 10,
   "id": "1eb8324e-0945-4a78-aad3-9768811c1742",
   "metadata": {
    "tags": [],
    "ExecuteTime": {
     "start_time": "2023-04-13T10:29:08.278699Z",
     "end_time": "2023-04-13T10:29:08.285158Z"
    }
   },
   "outputs": [
    {
     "name": "stdout",
     "output_type": "stream",
     "text": [
      "torch.Size([4, 9])\n",
      "torch.Size([4, 1])\n",
      "torch.Size([8, 9])\n",
      "torch.Size([8, 1])\n"
     ]
    }
   ],
   "source": [
    "#----------------------------------------\n",
    "\n",
    "trainingSetX = torch.tensor([\n",
    "    [\n",
    "        [1, 1, 1],\n",
    "        [1, 0, 1],\n",
    "        [1, 1, 1]\n",
    "    ],\n",
    "    [\n",
    "        [0, 1, 0],\n",
    "        [1, 0, 1],\n",
    "        [0, 1, 0]\n",
    "    ],\n",
    "    [\n",
    "        [0, 1, 0],\n",
    "        [1, 1, 1],\n",
    "        [0, 1, 0]\n",
    "    ],\n",
    "    [\n",
    "        [1, 0, 1],\n",
    "        [0, 1, 0],\n",
    "        [1, 0, 1]\n",
    "    ]\n",
    "], dtype=torch.float).reshape(4, 9)\n",
    "\n",
    "#----------------------------------------\n",
    "\n",
    "trainingSetY = torch.tensor([\n",
    "    [0],\n",
    "    [0],\n",
    "    [1],\n",
    "    [1]\n",
    "], dtype=torch.float)\n",
    "\n",
    "#----------------------------------------\n",
    "\n",
    "testSetX = torch.tensor([\n",
    "    [\n",
    "        [0, 1, 1],\n",
    "        [1, 0, 1],\n",
    "        [1, 1, 0]\n",
    "    ],\n",
    "    [\n",
    "        [1, 0, 1],\n",
    "        [1, 0, 1],\n",
    "        [1, 1, 0]\n",
    "    ],\n",
    "    [\n",
    "        [1, 0, 1],\n",
    "        [0, 0, 0],\n",
    "        [1, 0, 1]\n",
    "    ],\n",
    "    [\n",
    "        [0, 1, 0],\n",
    "        [1, 0, 1],\n",
    "        [0, 1, 0]\n",
    "    ],\n",
    "    [\n",
    "        [1, 0, 0],\n",
    "        [1, 1, 1],\n",
    "        [0, 0, 1]\n",
    "    ],\n",
    "    [\n",
    "        [0, 0, 1],\n",
    "        [1, 1, 1],\n",
    "        [1, 0, 0]\n",
    "    ],\n",
    "    [\n",
    "        [0, 0, 0],\n",
    "        [1, 1, 1],\n",
    "        [0, 0, 0]\n",
    "    ],\n",
    "    [\n",
    "        [1, 0, 0],\n",
    "        [1, 1, 0],\n",
    "        [1, 0, 0]\n",
    "    ]\n",
    "], dtype=torch.float).reshape(8, 9)\n",
    "\n",
    "#----------------------------------------\n",
    "\n",
    "testSetY = torch.tensor([\n",
    "    [0],\n",
    "    [0],\n",
    "    [0],\n",
    "    [0],\n",
    "    [1],\n",
    "    [1],\n",
    "    [1],\n",
    "    [1]\n",
    "], dtype=torch.float)\n",
    "\n",
    "#----------------------------------------\n",
    "\n",
    "print(trainingSetX.shape)\n",
    "print(trainingSetY.shape)\n",
    "\n",
    "#----------------------------------------\n",
    "\n",
    "print(testSetX.shape)\n",
    "print(testSetY.shape)\n",
    "\n",
    "#----------------------------------------"
   ]
  },
  {
   "cell_type": "code",
   "execution_count": 26,
   "outputs": [
    {
     "name": "stdout",
     "output_type": "stream",
     "text": [
      "torch.Size([4, 9])\n",
      "torch.Size([4, 1])\n",
      "torch.Size([8, 9])\n",
      "torch.Size([8, 1])\n"
     ]
    }
   ],
   "source": [
    "#----------------------------------------\n",
    "\n",
    "trainingSetX = torch.tensor([\n",
    "    [\n",
    "        [0, 1, 0],\n",
    "        [1, 0, 1],\n",
    "        [0, 1, 0]\n",
    "    ],\n",
    "    [\n",
    "        [0, 1, 0],\n",
    "        [1, 0, 1],\n",
    "        [0, 1, 0]\n",
    "    ],\n",
    "    [\n",
    "        [1, 0, 1],\n",
    "        [0, 1, 0],\n",
    "        [1, 0, 1]\n",
    "    ],\n",
    "    [\n",
    "        [1, 0, 1],\n",
    "        [0, 1, 0],\n",
    "        [1, 0, 1]\n",
    "    ]\n",
    "], dtype=torch.float).reshape(4, 9)\n",
    "\n",
    "#----------------------------------------\n",
    "\n",
    "trainingSetY = torch.tensor([\n",
    "    [0],\n",
    "    [0],\n",
    "    [1],\n",
    "    [1]\n",
    "], dtype=torch.float)\n",
    "\n",
    "#----------------------------------------\n",
    "\n",
    "testSetX = torch.tensor([\n",
    "    [\n",
    "        [0, 1, 1],\n",
    "        [1, 0, 1],\n",
    "        [1, 1, 0]\n",
    "    ],\n",
    "    [\n",
    "        [1, 0, 1],\n",
    "        [1, 0, 1],\n",
    "        [1, 1, 0]\n",
    "    ],\n",
    "    [\n",
    "        [1, 1, 1],\n",
    "        [1, 0, 1],\n",
    "        [1, 1, 1]\n",
    "    ],\n",
    "    [\n",
    "        [0, 0, 0],\n",
    "        [1, 0, 1],\n",
    "        [1, 1, 0]\n",
    "    ],\n",
    "    [\n",
    "        [1, 0, 0],\n",
    "        [1, 1, 1],\n",
    "        [0, 0, 1]\n",
    "    ],\n",
    "    [\n",
    "        [0, 0, 1],\n",
    "        [1, 1, 1],\n",
    "        [1, 0, 0]\n",
    "    ],\n",
    "    [\n",
    "        [0, 0, 0],\n",
    "        [1, 1, 1],\n",
    "        [0, 0, 0]\n",
    "    ],\n",
    "    [\n",
    "        [1, 0, 0],\n",
    "        [1, 1, 0],\n",
    "        [1, 0, 0]\n",
    "    ]\n",
    "], dtype=torch.float).reshape(8, 9)\n",
    "\n",
    "#----------------------------------------\n",
    "\n",
    "testSetY = torch.tensor([\n",
    "    [0],\n",
    "    [0],\n",
    "    [0],\n",
    "    [0],\n",
    "    [1],\n",
    "    [1],\n",
    "    [1],\n",
    "    [1]\n",
    "], dtype=torch.float)\n",
    "\n",
    "#----------------------------------------\n",
    "\n",
    "print(trainingSetX.shape)\n",
    "print(trainingSetY.shape)\n",
    "\n",
    "#----------------------------------------\n",
    "\n",
    "print(testSetX.shape)\n",
    "print(testSetY.shape)\n",
    "\n",
    "#----------------------------------------"
   ],
   "metadata": {
    "collapsed": false,
    "ExecuteTime": {
     "start_time": "2023-04-13T10:58:03.324511Z",
     "end_time": "2023-04-13T10:58:03.331164Z"
    }
   }
  },
  {
   "cell_type": "code",
   "execution_count": 27,
   "id": "b5e704c6-52d9-4f23-9632-f74bb5e260fa",
   "metadata": {
    "tags": [],
    "ExecuteTime": {
     "start_time": "2023-04-13T10:58:05.361445Z",
     "end_time": "2023-04-13T10:58:05.368962Z"
    }
   },
   "outputs": [
    {
     "name": "stdout",
     "output_type": "stream",
     "text": [
      "Using mps device\n"
     ]
    }
   ],
   "source": [
    "#----------------------------------------\n",
    "\n",
    "device = (\n",
    "\n",
    "    \"cuda\" if torch.cuda.is_available() else \"mps\" if torch.backends.mps.is_available() else \"cpu\"\n",
    "\n",
    ")\n",
    "\n",
    "#----------------------------------------\n",
    "\n",
    "print(f\"Using {device} device\")\n",
    "\n",
    "#----------------------------------------"
   ]
  },
  {
   "cell_type": "code",
   "execution_count": 28,
   "id": "ea2b0a79-fc5e-46de-bcd9-88eb8a3905ca",
   "metadata": {
    "tags": [],
    "ExecuteTime": {
     "start_time": "2023-04-13T10:58:06.446607Z",
     "end_time": "2023-04-13T10:58:06.452934Z"
    }
   },
   "outputs": [],
   "source": [
    "#----------------------------------------\n",
    "\n",
    "class CrossCircleDetector(nn.Module):\n",
    "    \n",
    "    def __init__(self, inputs, outputs):\n",
    "        \n",
    "        super().__init__()\n",
    "        \n",
    "        # Simple linear connections\n",
    "        self.inOut = nn.Linear(inputs, outputs)\n",
    "        \n",
    "        # Sigmoid squishification\n",
    "        self.sigmoid = nn.Sigmoid()\n",
    "\n",
    "    def forward(self, x):\n",
    "        \n",
    "        return self.sigmoid(self.inOut(x))\n",
    "\n",
    "#----------------------------------------"
   ]
  },
  {
   "cell_type": "code",
   "execution_count": 29,
   "id": "938df5ad-d5b6-4528-a105-72deac767561",
   "metadata": {
    "tags": [],
    "ExecuteTime": {
     "start_time": "2023-04-13T10:58:13.470231Z",
     "end_time": "2023-04-13T10:58:13.873892Z"
    }
   },
   "outputs": [
    {
     "name": "stdout",
     "output_type": "stream",
     "text": [
      "CrossCircleDetector(\n",
      "  (inOut): Linear(in_features=9, out_features=1, bias=True)\n",
      "  (sigmoid): Sigmoid()\n",
      ")\n"
     ]
    },
    {
     "data": {
      "text/plain": "<Figure size 640x480 with 1 Axes>",
      "image/png": "[encoded data removed]"
     },
     "metadata": {},
     "output_type": "display_data"
    }
   ],
   "source": [
    "#----------------------------------------\n",
    "\n",
    "epochs = 1000\n",
    "\n",
    "learningRate = 0.1\n",
    "\n",
    "#----------------------------------------\n",
    "\n",
    "# Simplest possible network: 9 inputs and 1 output (binary: 0 when < 0.5 and 1 when > 0.5)\n",
    "model = CrossCircleDetector(9, 1)\n",
    "\n",
    "print(model)\n",
    "\n",
    "#----------------------------------------\n",
    "\n",
    "losses = []\n",
    "\n",
    "# Take binary cross entropy as loss function (one output interpreted as binary)\n",
    "lossFunction = nn.BCELoss()\n",
    "\n",
    "# Use stochastic gradient descent as optimizer, use weights and biases of model\n",
    "# gradientDescent = torch.optim.SGD(model.parameters(), lr=learningRate)\n",
    "gradientDescent = torch.optim.RMSprop(model.parameters(), lr=learningRate)\n",
    "\n",
    "#----------------------------------------\n",
    "\n",
    "for i in range(epochs):\n",
    "    \n",
    "    for x, y in zip(trainingSetX, trainingSetY):\n",
    "    \n",
    "        # Reset the gradient delta's (dw, db)\n",
    "        gradientDescent.zero_grad()\n",
    "\n",
    "        # Forward step\n",
    "        yhat = model(x)\n",
    "\n",
    "        # Compute loss\n",
    "        loss = lossFunction(yhat, y)\n",
    "\n",
    "        # Keep track of loss\n",
    "        losses.append(loss.item())\n",
    "\n",
    "        # Apply gradient descent (via backpropagation)\n",
    "        loss.backward()\n",
    "\n",
    "        # Use w += -step * dw * learnRate\n",
    "        gradientDescent.step()\n",
    "\n",
    "#----------------------------------------\n",
    "\n",
    "fig, ax = plt.subplots()\n",
    "ax.set(xlabel='Epoch', ylabel='Cost', title=\"Training Cost\")\n",
    "\n",
    "plt.plot([x for x in range(4 * epochs)], losses, 'red')\n",
    "plt.show()\n",
    "\n",
    "#----------------------------------------"
   ]
  },
  {
   "cell_type": "code",
   "execution_count": 30,
   "id": "98feda4e-4716-4c1b-bfb8-140f0f2becf4",
   "metadata": {
    "tags": [],
    "ExecuteTime": {
     "start_time": "2023-04-13T10:58:16.164669Z",
     "end_time": "2023-04-13T10:58:16.178726Z"
    }
   },
   "outputs": [
    {
     "name": "stdout",
     "output_type": "stream",
     "text": [
      "actual: 0, predicted: 2.0646611176289298e-07, rounded: 0\n",
      "actual: 0, predicted: 0.003767593065276742, rounded: 0\n",
      "actual: 0, predicted: 0.0003979683096986264, rounded: 0\n",
      "actual: 0, predicted: 1.5715085055489908e-06, rounded: 0\n",
      "actual: 1, predicted: 0.5988514423370361, rounded: 1\n",
      "actual: 1, predicted: 0.7082362174987793, rounded: 1\n",
      "actual: 1, predicted: 0.0007735802792012691, rounded: 0\n",
      "actual: 1, predicted: 0.9982417821884155, rounded: 1\n"
     ]
    }
   ],
   "source": [
    "#----------------------------------------\n",
    "\n",
    "# Let's compare\n",
    "for x, y in zip(testSetX, testSetY):\n",
    "\n",
    "    print(f\"actual: {round(y.item())}, predicted: {model(x).item()}, rounded: {round(model(x).item())}\")\n",
    "    \n",
    "#----------------------------------------"
   ]
  },
  {
   "cell_type": "code",
   "execution_count": 31,
   "outputs": [
    {
     "name": "stdout",
     "output_type": "stream",
     "text": [
      "tensor([[ 3.7482, -6.0674,  4.0377, -5.6478,  4.3094, -5.7444,  4.0128, -5.9031,\n",
      "          3.8162]])\n",
      "tensor([-0.0809])\n"
     ]
    }
   ],
   "source": [
    "for p in model.parameters():\n",
    "    print(p.data)\n"
   ],
   "metadata": {
    "collapsed": false,
    "ExecuteTime": {
     "start_time": "2023-04-13T10:58:19.128884Z",
     "end_time": "2023-04-13T10:58:19.135987Z"
    }
   }
  },
  {
   "cell_type": "code",
   "execution_count": null,
   "outputs": [],
   "source": [],
   "metadata": {
    "collapsed": false
   }
  }
 ],
 "metadata": {
  "kernelspec": {
   "display_name": "Python 3 (ipykernel)",
   "language": "python",
   "name": "python3"
  },
  "language_info": {
   "codemirror_mode": {
    "name": "ipython",
    "version": 3
   },
   "file_extension": ".py",
   "mimetype": "text/x-python",
   "name": "python",
   "nbconvert_exporter": "python",
   "pygments_lexer": "ipython3",
   "version": "3.11.3"
  }
 },
 "nbformat": 4,
 "nbformat_minor": 5
}
